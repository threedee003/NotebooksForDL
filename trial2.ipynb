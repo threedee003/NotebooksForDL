{
  "nbformat": 4,
  "nbformat_minor": 0,
  "metadata": {
    "colab": {
      "provenance": [],
      "authorship_tag": "ABX9TyNhv19TAI+xn/Y9XKVa/eGm",
      "include_colab_link": true
    },
    "kernelspec": {
      "name": "python3",
      "display_name": "Python 3"
    },
    "language_info": {
      "name": "python"
    },
    "accelerator": "GPU",
    "gpuClass": "standard"
  },
  "cells": [
    {
      "cell_type": "markdown",
      "metadata": {
        "id": "view-in-github",
        "colab_type": "text"
      },
      "source": [
        "<a href=\"https://colab.research.google.com/github/threedee003/NotebooksForDL/blob/main/trial2.ipynb\" target=\"_parent\"><img src=\"https://colab.research.google.com/assets/colab-badge.svg\" alt=\"Open In Colab\"/></a>"
      ]
    },
    {
      "cell_type": "code",
      "execution_count": 1,
      "metadata": {
        "id": "9h2o4RQvTWOw",
        "colab": {
          "base_uri": "https://localhost:8080/"
        },
        "outputId": "a25a7829-dc7e-4f01-a0b0-452e038621a1"
      },
      "outputs": [
        {
          "output_type": "stream",
          "name": "stdout",
          "text": [
            "Mounted at /content/drive\n"
          ]
        }
      ],
      "source": [
        "from google.colab import drive\n",
        "drive.mount('/content/drive')"
      ]
    },
    {
      "cell_type": "code",
      "source": [
        "trainDir = \"/content/drive/MyDrive/GIS/trainTiles\"\n",
        "testDir = \"/content/drive/MyDrive/GIS/testTiles\""
      ],
      "metadata": {
        "id": "_cvvaZxBvHgw"
      },
      "execution_count": 2,
      "outputs": []
    },
    {
      "cell_type": "code",
      "source": [
        "import numpy as np\n",
        "import matplotlib.pyplot as plt\n",
        "import os\n",
        "import skimage.io as io\n",
        "import time\n",
        "from itertools import product\n",
        "\n",
        "\n",
        "\n",
        "import torch.nn as nn\n",
        "import torch\n",
        "import torch.optim as optim\n",
        "from torchsummary import summary\n",
        "from torch.utils.data import Dataset\n",
        "from torchvision.transforms import transforms"
      ],
      "metadata": {
        "id": "nMRNA6IgaLo_"
      },
      "execution_count": 3,
      "outputs": []
    },
    {
      "cell_type": "code",
      "source": [
        "\n",
        "class CustomDataset(Dataset):\n",
        "    def __init__(self, data_dir, transform=None):\n",
        "        self.data_dir = data_dir\n",
        "        self.transform = transform\n",
        "        self.imageFilenames = sorted(os.listdir(os.path.join(data_dir, \"tiles\")))\n",
        "\n",
        "    def __len__(self):\n",
        "        return len(self.imageFilenames)\n",
        "\n",
        "    def __getitem__(self, idx):\n",
        "        imagePath = os.path.join(self.data_dir, \"tiles\", self.imageFilenames[idx])\n",
        "        img = np.load(imagePath)\n",
        "        X = img[:,:,0:5]\n",
        "        Y = img[:,:,-1]\n",
        "\n",
        "\n",
        "        \n",
        "\n",
        "        if self.transform:\n",
        "            X = self.transform(X)\n",
        "            Y = self.transform(Y)\n",
        "\n",
        "        return X, Y\n"
      ],
      "metadata": {
        "id": "a4IMKIJoLWSL"
      },
      "execution_count": 4,
      "outputs": []
    },
    {
      "cell_type": "code",
      "source": [
        "transform = transforms.Compose([\n",
        "    transforms.ToTensor(),\n",
        "])"
      ],
      "metadata": {
        "id": "c226ZLD4XTat"
      },
      "execution_count": 5,
      "outputs": []
    },
    {
      "cell_type": "code",
      "source": [
        "trainSet = CustomDataset(trainDir, transform=transform)\n",
        "validationSet = CustomDataset(testDir, transform=transform)\n",
        "\n",
        "trainLoader = torch.utils.data.DataLoader(trainSet, batch_size=None, shuffle=True)\n",
        "validationLoader = torch.utils.data.DataLoader(validationSet, batch_size = None, shuffle = True)"
      ],
      "metadata": {
        "id": "2OD0pDzgXTYF"
      },
      "execution_count": 6,
      "outputs": []
    },
    {
      "cell_type": "code",
      "source": [
        "print(\"Number of training samples : {}\".format(len(trainLoader)))\n",
        "print(\"Number of validating samples : {}\".format(len(validationLoader)))"
      ],
      "metadata": {
        "colab": {
          "base_uri": "https://localhost:8080/"
        },
        "id": "rNAe2EhjvgYx",
        "outputId": "dbc7ffdb-fe3e-46b8-e700-a9447da64028"
      },
      "execution_count": 7,
      "outputs": [
        {
          "output_type": "stream",
          "name": "stdout",
          "text": [
            "Number of training samples : 1120\n",
            "Number of validating samples : 440\n"
          ]
        }
      ]
    },
    {
      "cell_type": "code",
      "source": [
        "class Autoencoder1(nn.Module):\n",
        "  def __init__(self,channels):\n",
        "    super(Autoencoder1,self).__init__()\n",
        "    self.encoder = nn.Sequential(\n",
        "        nn.Conv2d(channels,64, kernel_size = 3),\n",
        "        nn.Conv2d(64,64,kernel_size = 3, stride = 2),\n",
        "        nn.Conv2d(64,128,kernel_size= 3),\n",
        "        nn.Conv2d(128,128,kernel_size = 3,stride = 2),\n",
        "        nn.Conv2d(128,256,kernel_size = 3),\n",
        "        nn.Conv2d(256,256,kernel_size = 3,stride = 2),\n",
        "        nn.Conv2d(256,512,kernel_size = 3)\n",
        "    )\n",
        "\n",
        "    self.decoder = nn.Sequential(\n",
        "        nn.Conv2d(512,256,kernel_size = 2),\n",
        "        nn.ConvTranspose2d(256,256,kernel_size=4, stride=2, padding=1, output_padding=0),\n",
        "        nn.Conv2d(256,128,kernel_size = 3),\n",
        "        nn.ConvTranspose2d(128,128,kernel_size=4, stride=2, padding=1, output_padding=0),\n",
        "        nn.Conv2d(128,64,kernel_size = 3),\n",
        "        nn.ConvTranspose2d(64,64,kernel_size=4, stride=2, padding=1, output_padding=0),\n",
        "        nn.Conv2d(64,1,kernel_size = 3)\n",
        "    )\n",
        "\n",
        "\n",
        "  def forward(self,x):\n",
        "    x = self.encoder(x)\n",
        "    x = self.decoder(x)\n",
        "\n",
        "    return x"
      ],
      "metadata": {
        "id": "mUvldmB7Xepl"
      },
      "execution_count": 8,
      "outputs": []
    },
    {
      "cell_type": "code",
      "source": [
        "class Autoencoder2(nn.Module):\n",
        "    def __init__(self):\n",
        "        super(Autoencoder2, self).__init__()\n",
        "        self.encoder = nn.Sequential(\n",
        "            nn.Conv2d(5, 32, kernel_size=3, stride=1, padding=1),\n",
        "            nn.ReLU(),\n",
        "            nn.MaxPool2d(kernel_size=2, stride=2),\n",
        "            nn.Conv2d(32, 16, kernel_size=3, stride=1, padding=1),\n",
        "            nn.ReLU(),\n",
        "            nn.MaxPool2d(kernel_size=2, stride=2)\n",
        "        )\n",
        "        self.decoder = nn.Sequential(\n",
        "            nn.ConvTranspose2d(16, 32, kernel_size=3, stride=2, padding=1, output_padding=1),\n",
        "            nn.ReLU(),\n",
        "            nn.ConvTranspose2d(32, 1, kernel_size=3, stride=2, padding=1, output_padding=1),\n",
        "        )\n",
        "\n",
        "    def forward(self, x):\n",
        "        x = self.encoder(x)\n",
        "        x = self.decoder(x)\n",
        "        return x"
      ],
      "metadata": {
        "id": "jQ4F4_W5agWh"
      },
      "execution_count": 9,
      "outputs": []
    },
    {
      "cell_type": "code",
      "source": [
        "autoenc = Autoencoder2()"
      ],
      "metadata": {
        "id": "NfD2SYtexkmo"
      },
      "execution_count": 10,
      "outputs": []
    },
    {
      "cell_type": "code",
      "source": [
        "\n",
        "def trainer(model,trainLoader,validationLoader,epochs,lossFn,optimizer,trainLoss,validLoss,device,batchSize):\n",
        "  print(\"Training has begun.....\")\n",
        "  startTime = time.time()\n",
        "  model = model.to(device)\n",
        "  for epoch in range(epochs):\n",
        "    runningLoss = 0.0\n",
        "    for x, y in trainLoader:\n",
        "      x = x.to(device)\n",
        "      y = y.to(device)\n",
        "      optimizer.zero_grad()\n",
        "      pred = model(x)\n",
        "      loss = lossFn(pred,y)\n",
        "      loss.backward()\n",
        "      optimizer.step()\n",
        "      runningLoss += loss.item()\n",
        "    trainLoss.append(runningLoss/(len(trainLoader)/batchSize))\n",
        "\n",
        "    with torch.no_grad():\n",
        "      valLoss = 0.0\n",
        "      for x, y in validationLoader:\n",
        "        x = x.to(device)\n",
        "        y = y.to(device)\n",
        "        pred = model(x)\n",
        "        loss = lossFn(pred,y)\n",
        "        valLoss += loss.item()\n",
        "      validLoss.append(valLoss/(len(validationLoader)/batchSize))\n",
        "\n",
        "    print(f\"Epoch {epoch+1}/{epochs}, Training Loss: {runningLoss/len(trainLoader)}, Validation Loss: {valLoss/len(validationLoader)}\")\n",
        "  print(f\"Training is complete......\")\n",
        "  print(\"--- %s seconds ---\" % (time.time() - startTime))\n",
        "\n",
        "\n",
        "\n",
        "\n",
        "\n",
        "\n",
        "\n",
        "\n",
        "\n",
        "\n",
        "      \n"
      ],
      "metadata": {
        "id": "yiWvAmOsXTQ2"
      },
      "execution_count": 23,
      "outputs": []
    },
    {
      "cell_type": "code",
      "source": [
        "criterion = nn.MSELoss()\n",
        "optimizer = optim.Adam(autoenc.parameters(), lr=0.001)\n",
        "batchSize = 1\n",
        "device = torch.device('cuda' if torch.cuda.is_available() else 'cpu')\n",
        "eps = 50\n",
        "trainArr = []\n",
        "validArr = []"
      ],
      "metadata": {
        "id": "y3mUQ_3PbUWI"
      },
      "execution_count": 24,
      "outputs": []
    },
    {
      "cell_type": "code",
      "source": [
        "if device.type == 'cuda':\n",
        "    print(torch.cuda.get_device_name(0))\n",
        "    print('Memory Usage:')\n",
        "    print('Allocated:', round(torch.cuda.memory_allocated(0)/1024**3,1), 'GB')\n",
        "    print('Cached:   ', round(torch.cuda.memory_reserved(0)/1024**3,1), 'GB')"
      ],
      "metadata": {
        "id": "XYmsbh0sbpFR",
        "colab": {
          "base_uri": "https://localhost:8080/"
        },
        "outputId": "252d5fa4-8d74-4b1a-b1ce-043143056d99"
      },
      "execution_count": 25,
      "outputs": [
        {
          "output_type": "stream",
          "name": "stdout",
          "text": [
            "Tesla T4\n",
            "Memory Usage:\n",
            "Allocated: 0.0 GB\n",
            "Cached:    0.0 GB\n"
          ]
        }
      ]
    },
    {
      "cell_type": "code",
      "source": [
        "trainer(autoenc,trainLoader,validationLoader,eps,criterion,optimizer,trainArr,validArr,device,batchSize)"
      ],
      "metadata": {
        "colab": {
          "base_uri": "https://localhost:8080/"
        },
        "id": "uxlNxeGVcdIH",
        "outputId": "7283edff-0de5-40c4-b466-253a5d291c91"
      },
      "execution_count": 26,
      "outputs": [
        {
          "output_type": "stream",
          "name": "stdout",
          "text": [
            "Training has begun.....\n",
            "Epoch 1/50, Training Loss: 0.04760848573305501, Validation Loss: 0.03758712448943698\n",
            "Epoch 2/50, Training Loss: 0.047886432026265476, Validation Loss: 0.03740189055295724\n",
            "Epoch 3/50, Training Loss: 0.04625902117989621, Validation Loss: 0.03813280312950321\n",
            "Epoch 4/50, Training Loss: 0.04683356750287788, Validation Loss: 0.037002628845882346\n",
            "Epoch 5/50, Training Loss: 0.04723682207893327, Validation Loss: 0.037750471527545994\n",
            "Epoch 6/50, Training Loss: 0.04597816863729674, Validation Loss: 0.037180080268647296\n",
            "Epoch 7/50, Training Loss: 0.04635498380042041, Validation Loss: 0.03856046415682861\n",
            "Epoch 8/50, Training Loss: 0.045863498829636945, Validation Loss: 0.04081068076772102\n",
            "Epoch 9/50, Training Loss: 0.046136088272485914, Validation Loss: 0.039879199452248444\n",
            "Epoch 10/50, Training Loss: 0.04651232638185547, Validation Loss: 0.03812941539225986\n",
            "Epoch 11/50, Training Loss: 0.04627987652417898, Validation Loss: 0.037125717872417724\n",
            "Epoch 12/50, Training Loss: 0.04576098476388617, Validation Loss: 0.038711951943927986\n",
            "Epoch 13/50, Training Loss: 0.04575330557930783, Validation Loss: 0.039439564528749374\n",
            "Epoch 14/50, Training Loss: 0.04575607399204305, Validation Loss: 0.05209703520906094\n",
            "Epoch 15/50, Training Loss: 0.04544338752721322, Validation Loss: 0.03762526551475854\n",
            "Epoch 16/50, Training Loss: 0.045952088736086284, Validation Loss: 0.03799410401499534\n",
            "Epoch 17/50, Training Loss: 0.045776029756395276, Validation Loss: 0.041494071658817945\n",
            "Epoch 18/50, Training Loss: 0.045649055972439456, Validation Loss: 0.04383170696060419\n",
            "Epoch 19/50, Training Loss: 0.04547754897147342, Validation Loss: 0.03785299465764018\n",
            "Epoch 20/50, Training Loss: 0.045623704586798146, Validation Loss: 0.038778837114130674\n",
            "Epoch 21/50, Training Loss: 0.045647747511929994, Validation Loss: 0.039602651014047294\n",
            "Epoch 22/50, Training Loss: 0.04546670553864617, Validation Loss: 0.04132059682980815\n",
            "Epoch 23/50, Training Loss: 0.04521832213920252, Validation Loss: 0.03960433628134607\n",
            "Epoch 24/50, Training Loss: 0.04583043602481049, Validation Loss: 0.04295388938852821\n",
            "Epoch 25/50, Training Loss: 0.044147125327672905, Validation Loss: 0.040301141751354984\n",
            "Epoch 26/50, Training Loss: 0.04583377821319914, Validation Loss: 0.03758447382474101\n",
            "Epoch 27/50, Training Loss: 0.04443549355058687, Validation Loss: 0.039633124934334775\n",
            "Epoch 28/50, Training Loss: 0.04601742435918855, Validation Loss: 0.04224773582060483\n",
            "Epoch 29/50, Training Loss: 0.044038361355530596, Validation Loss: 0.04223493113178682\n",
            "Epoch 30/50, Training Loss: 0.04386399300866677, Validation Loss: 0.049201373437298655\n",
            "Epoch 31/50, Training Loss: 0.04576009639986296, Validation Loss: 0.04131029371022702\n",
            "Epoch 32/50, Training Loss: 0.04408401657897311, Validation Loss: 0.04099842344051219\n",
            "Epoch 33/50, Training Loss: 0.04340249134390238, Validation Loss: 0.04572865788719686\n",
            "Epoch 34/50, Training Loss: 0.04317807184487654, Validation Loss: 0.052240686899503175\n",
            "Epoch 35/50, Training Loss: 0.04451446624734997, Validation Loss: 0.039811337378730306\n",
            "Epoch 36/50, Training Loss: 0.04345772835981409, Validation Loss: 0.04475413497203507\n",
            "Epoch 37/50, Training Loss: 0.044698561291832965, Validation Loss: 0.03947290025273766\n",
            "Epoch 38/50, Training Loss: 0.04450959315680295, Validation Loss: 0.03885932210232568\n",
            "Epoch 39/50, Training Loss: 0.04404260252634751, Validation Loss: 0.04885004987941515\n",
            "Epoch 40/50, Training Loss: 0.04395222876428063, Validation Loss: 0.04032152218018878\n",
            "Epoch 41/50, Training Loss: 0.04395516696512151, Validation Loss: 0.04245519737338658\n",
            "Epoch 42/50, Training Loss: 0.04396051555271389, Validation Loss: 0.04080693413055666\n",
            "Epoch 43/50, Training Loss: 0.04532822819202482, Validation Loss: 0.045868544365657724\n",
            "Epoch 44/50, Training Loss: 0.044034339570014576, Validation Loss: 0.04103088489677744\n",
            "Epoch 45/50, Training Loss: 0.04340065070791103, Validation Loss: 0.038971660322964785\n",
            "Epoch 46/50, Training Loss: 0.043707434559011715, Validation Loss: 0.04056780747696394\n",
            "Epoch 47/50, Training Loss: 0.04383203215578046, Validation Loss: 0.04485964119872237\n",
            "Epoch 48/50, Training Loss: 0.04325217763522135, Validation Loss: 0.038362871604617384\n",
            "Epoch 49/50, Training Loss: 0.04262495900774996, Validation Loss: 0.05233958016827025\n",
            "Epoch 50/50, Training Loss: 0.04354498649037656, Validation Loss: 0.036943168868194994\n",
            "Training is complete......\n",
            "--- 356.33023023605347 seconds ---\n"
          ]
        }
      ]
    },
    {
      "cell_type": "code",
      "source": [
        "plt.plot(trainArr, label='training loss')\n",
        "plt.plot(validArr, label='validation loss')\n",
        "plt.title('Loss at the end of each epoch')\n",
        "plt.legend();"
      ],
      "metadata": {
        "id": "lS3ob3qicuAC",
        "colab": {
          "base_uri": "https://localhost:8080/",
          "height": 281
        },
        "outputId": "ee2f2c88-0d71-4aff-9e7b-c0bb781cf4ba"
      },
      "execution_count": 27,
      "outputs": [
        {
          "output_type": "display_data",
          "data": {
            "text/plain": [
              "<Figure size 432x288 with 1 Axes>"
            ],
            "image/png": "[encoded data removed]"
          },
          "metadata": {
            "needs_background": "light"
          }
        }
      ]
    },
    {
      "cell_type": "code",
      "source": [],
      "metadata": {
        "id": "4wlsFGCDhg87"
      },
      "execution_count": null,
      "outputs": []
    }
  ]
}