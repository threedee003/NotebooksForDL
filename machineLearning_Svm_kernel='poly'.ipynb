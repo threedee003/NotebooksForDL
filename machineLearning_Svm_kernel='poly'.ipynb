{
  "nbformat": 4,
  "nbformat_minor": 0,
  "metadata": {
    "colab": {
      "provenance": [],
      "authorship_tag": "ABX9TyMb0VPaFpWwZqYpTyd4WAVa",
      "include_colab_link": true
    },
    "kernelspec": {
      "name": "python3",
      "display_name": "Python 3"
    },
    "language_info": {
      "name": "python"
    },
    "gpuClass": "standard"
  },
  "cells": [
    {
      "cell_type": "markdown",
      "metadata": {
        "id": "view-in-github",
        "colab_type": "text"
      },
      "source": [
        "<a href=\"https://colab.research.google.com/github/threedee003/NotebooksForDL/blob/main/machineLearning_Svm_kernel%3D'poly'.ipynb\" target=\"_parent\"><img src=\"https://colab.research.google.com/assets/colab-badge.svg\" alt=\"Open In Colab\"/></a>"
      ]
    },
    {
      "cell_type": "code",
      "execution_count": 1,
      "metadata": {
        "id": "O0gEo8jKalrC",
        "colab": {
          "base_uri": "https://localhost:8080/"
        },
        "outputId": "587d0c46-3434-4930-919b-1b4aa5ad69d8"
      },
      "outputs": [
        {
          "output_type": "stream",
          "name": "stdout",
          "text": [
            "Mounted at /content/drive\n"
          ]
        }
      ],
      "source": [
        "from google.colab import drive\n",
        "drive.mount('/content/drive')"
      ]
    },
    {
      "cell_type": "code",
      "source": [
        "import numpy as np\n",
        "import pandas as pd\n",
        "import matplotlib.pyplot as plt\n",
        "import time"
      ],
      "metadata": {
        "id": "8wDkEE3wNS5c"
      },
      "execution_count": 2,
      "outputs": []
    },
    {
      "cell_type": "code",
      "source": [
        "trainPath = \"/content/drive/MyDrive/GIS/pointFormTrain.npy\"\n",
        "testPath = \"/content/drive/MyDrive/GIS/pointFormTest.npy\""
      ],
      "metadata": {
        "id": "no9ZQ6k8attP"
      },
      "execution_count": 3,
      "outputs": []
    },
    {
      "cell_type": "code",
      "source": [
        "train = np.load(trainPath)\n",
        "test = np.load(testPath)\n",
        "print(f\"train data shape : {train.shape}\")\n",
        "print(f\"test data shape : {test.shape}\")"
      ],
      "metadata": {
        "id": "p8teRd9fb8_7",
        "colab": {
          "base_uri": "https://localhost:8080/"
        },
        "outputId": "ce965108-db5d-40d2-e03f-deffccbf6307"
      },
      "execution_count": 4,
      "outputs": [
        {
          "output_type": "stream",
          "name": "stdout",
          "text": [
            "train data shape : (885360, 8)\n",
            "test data shape : (165140, 8)\n"
          ]
        }
      ]
    },
    {
      "cell_type": "code",
      "source": [
        "trainX = np.ones((train.shape[0],5))\n",
        "trainY = np.ones((train.shape[0],))"
      ],
      "metadata": {
        "id": "LOjiKvbvORiS"
      },
      "execution_count": 5,
      "outputs": []
    },
    {
      "cell_type": "code",
      "source": [
        "for i in range(train.shape[0]):\n",
        "  temp = train[i][2:7]\n",
        "  trainX[i] = temp\n",
        "  trainY[i] = train[i][7]/255\n"
      ],
      "metadata": {
        "id": "vZxCnn3CcHjr"
      },
      "execution_count": 6,
      "outputs": []
    },
    {
      "cell_type": "code",
      "source": [
        "trainX.shape"
      ],
      "metadata": {
        "id": "0p7qUCkkgNwM",
        "colab": {
          "base_uri": "https://localhost:8080/"
        },
        "outputId": "34833f81-b5b8-4cbf-e82f-973749dda86f"
      },
      "execution_count": 7,
      "outputs": [
        {
          "output_type": "execute_result",
          "data": {
            "text/plain": [
              "(885360, 5)"
            ]
          },
          "metadata": {},
          "execution_count": 7
        }
      ]
    },
    {
      "cell_type": "code",
      "source": [
        "np.unique(trainY)"
      ],
      "metadata": {
        "id": "m5Adpa4WgGVI",
        "colab": {
          "base_uri": "https://localhost:8080/"
        },
        "outputId": "a6c04abf-ccaf-4abd-a860-87e37c9aead4"
      },
      "execution_count": 8,
      "outputs": [
        {
          "output_type": "execute_result",
          "data": {
            "text/plain": [
              "array([0., 1.])"
            ]
          },
          "metadata": {},
          "execution_count": 8
        }
      ]
    },
    {
      "cell_type": "code",
      "source": [
        "testX = np.ones((test.shape[0],5))\n",
        "testY = np.ones((test.shape[0],))"
      ],
      "metadata": {
        "id": "kWkYIW4yTmXS"
      },
      "execution_count": 9,
      "outputs": []
    },
    {
      "cell_type": "code",
      "source": [
        "for i in range(test.shape[0]):\n",
        "  temp = test[i][2:7]\n",
        "  testX[i] = temp\n",
        "  testY[i] = test[i][7]/255"
      ],
      "metadata": {
        "id": "LrFq8eDnUxvo"
      },
      "execution_count": 10,
      "outputs": []
    },
    {
      "cell_type": "code",
      "source": [
        "trainX = trainX/255\n",
        "testX = testX/255\n",
        "trainX[222,3]\n",
        "trainY[222:225,]"
      ],
      "metadata": {
        "colab": {
          "base_uri": "https://localhost:8080/"
        },
        "id": "EgzrHMjANxid",
        "outputId": "3b2f16c0-4738-4c5e-d28b-72547c12dec7"
      },
      "execution_count": 11,
      "outputs": [
        {
          "output_type": "execute_result",
          "data": {
            "text/plain": [
              "array([0., 0., 0.])"
            ]
          },
          "metadata": {},
          "execution_count": 11
        }
      ]
    },
    {
      "cell_type": "code",
      "source": [
        "!pip install thundersvm"
      ],
      "metadata": {
        "colab": {
          "base_uri": "https://localhost:8080/"
        },
        "id": "6b81Wt4GOF-M",
        "outputId": "23078394-1ce0-49d3-9b54-eae00dfb17d4"
      },
      "execution_count": null,
      "outputs": [
        {
          "output_type": "stream",
          "name": "stdout",
          "text": [
            "Looking in indexes: https://pypi.org/simple, https://us-python.pkg.dev/colab-wheels/public/simple/\n",
            "Collecting thundersvm\n",
            "  Downloading thundersvm-0.3.12-py3-none-any.whl (507 kB)\n",
            "\u001b[2K     \u001b[90m━━━━━━━━━━━━━━━━━━━━━━━━━━━━━━━━━━━━━━\u001b[0m \u001b[32m507.4/507.4 KB\u001b[0m \u001b[31m13.3 MB/s\u001b[0m eta \u001b[36m0:00:00\u001b[0m\n",
            "\u001b[?25hRequirement already satisfied: numpy in /usr/local/lib/python3.9/dist-packages (from thundersvm) (1.22.4)\n",
            "Requirement already satisfied: scipy in /usr/local/lib/python3.9/dist-packages (from thundersvm) (1.10.1)\n",
            "Requirement already satisfied: scikit-learn in /usr/local/lib/python3.9/dist-packages (from thundersvm) (1.2.2)\n",
            "Requirement already satisfied: threadpoolctl>=2.0.0 in /usr/local/lib/python3.9/dist-packages (from scikit-learn->thundersvm) (3.1.0)\n",
            "Requirement already satisfied: joblib>=1.1.1 in /usr/local/lib/python3.9/dist-packages (from scikit-learn->thundersvm) (1.1.1)\n",
            "Installing collected packages: thundersvm\n",
            "Successfully installed thundersvm-0.3.12\n"
          ]
        }
      ]
    },
    {
      "cell_type": "code",
      "source": [
        "from sklearn.pipeline import make_pipeline\n",
        "from sklearn.preprocessing import StandardScaler\n",
        "from sklearn.svm import SVC"
      ],
      "metadata": {
        "id": "YkegpipIXIXn"
      },
      "execution_count": 12,
      "outputs": []
    },
    {
      "cell_type": "code",
      "source": [
        "model = make_pipeline(StandardScaler(), SVC(gamma='auto',kernel = 'poly'))\n"
      ],
      "metadata": {
        "id": "YZDZBUjLMvY8"
      },
      "execution_count": 22,
      "outputs": []
    },
    {
      "cell_type": "code",
      "source": [
        "start = time.time()\n",
        "\n",
        "model.fit(trainX[400000:500000,:],trainY[400000:500000,])\n",
        "\n",
        "\n",
        "print(f\"Time taken to train SVM : {(time.time()-start)/60} minutes\")"
      ],
      "metadata": {
        "id": "h_ME6ln2X2pG",
        "colab": {
          "base_uri": "https://localhost:8080/"
        },
        "outputId": "40bb328e-0650-4fbe-dfc9-b5c902366271"
      },
      "execution_count": 23,
      "outputs": [
        {
          "output_type": "stream",
          "name": "stdout",
          "text": [
            "Time taken to train SVM : 1.0082794666290282 minutes\n"
          ]
        }
      ]
    },
    {
      "cell_type": "code",
      "source": [
        "predY = model.predict(testX[50000:90000,:])\n"
      ],
      "metadata": {
        "id": "IlSTNrLvYBT2"
      },
      "execution_count": 24,
      "outputs": []
    },
    {
      "cell_type": "code",
      "source": [
        "from sklearn.metrics import accuracy_score, f1_score, recall_score, precision_score, classification_report\n",
        "\n",
        "\n",
        "print('Accuracy : {}'.format(accuracy_score(testY[50000:90000,],predY)*100))\n",
        "print('F1 Score : {}'.format(f1_score(testY[50000:90000,],predY)*100))\n",
        "print('Sensitivity : {}'.format(recall_score(testY[50000:90000,],predY)*100))\n",
        "print('Precision : {}'.format(precision_score(testY[50000:90000,],predY)*100))"
      ],
      "metadata": {
        "id": "wJgaa4PUdPts",
        "colab": {
          "base_uri": "https://localhost:8080/"
        },
        "outputId": "bfafbff6-90c7-4071-b9f9-4a7240e7fa98"
      },
      "execution_count": 25,
      "outputs": [
        {
          "output_type": "stream",
          "name": "stdout",
          "text": [
            "Accuracy : 69.45\n",
            "F1 Score : 79.45182444930218\n",
            "Sensitivity : 91.7440099413615\n",
            "Precision : 70.06435540793025\n"
          ]
        }
      ]
    },
    {
      "cell_type": "code",
      "source": [],
      "metadata": {
        "id": "142SnZG3cToY"
      },
      "execution_count": null,
      "outputs": []
    }
  ]
}