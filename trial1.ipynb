{
  "nbformat": 4,
  "nbformat_minor": 0,
  "metadata": {
    "colab": {
      "provenance": [],
      "authorship_tag": "ABX9TyPQG1ASNLRKQa8rUo8LTOwm",
      "include_colab_link": true
    },
    "kernelspec": {
      "name": "python3",
      "display_name": "Python 3"
    },
    "language_info": {
      "name": "python"
    },
    "accelerator": "GPU",
    "gpuClass": "standard"
  },
  "cells": [
    {
      "cell_type": "markdown",
      "metadata": {
        "id": "view-in-github",
        "colab_type": "text"
      },
      "source": [
        "<a href=\"https://colab.research.google.com/github/threedee003/NotebooksForDL/blob/main/trial1.ipynb\" target=\"_parent\"><img src=\"https://colab.research.google.com/assets/colab-badge.svg\" alt=\"Open In Colab\"/></a>"
      ]
    },
    {
      "cell_type": "code",
      "execution_count": 1,
      "metadata": {
        "id": "9h2o4RQvTWOw",
        "colab": {
          "base_uri": "https://localhost:8080/"
        },
        "outputId": "a25a7829-dc7e-4f01-a0b0-452e038621a1"
      },
      "outputs": [
        {
          "output_type": "stream",
          "name": "stdout",
          "text": [
            "Mounted at /content/drive\n"
          ]
        }
      ],
      "source": [
        "from google.colab import drive\n",
        "drive.mount('/content/drive')"
      ]
    },
    {
      "cell_type": "code",
      "source": [
        "trainDir = \"/content/drive/MyDrive/GIS/trainTiles\"\n",
        "testDir = \"/content/drive/MyDrive/GIS/testTiles\""
      ],
      "metadata": {
        "id": "_cvvaZxBvHgw"
      },
      "execution_count": 2,
      "outputs": []
    },
    {
      "cell_type": "code",
      "source": [
        "import numpy as np\n",
        "import matplotlib.pyplot as plt\n",
        "import os\n",
        "import skimage.io as io\n",
        "import time\n",
        "from itertools import product\n",
        "\n",
        "\n",
        "\n",
        "import torch.nn as nn\n",
        "import torch\n",
        "import torch.optim as optim\n",
        "from torchsummary import summary\n",
        "from torch.utils.data import Dataset\n",
        "from torchvision.transforms import transforms"
      ],
      "metadata": {
        "id": "nMRNA6IgaLo_"
      },
      "execution_count": 3,
      "outputs": []
    },
    {
      "cell_type": "code",
      "source": [
        "\n",
        "class CustomDataset(Dataset):\n",
        "    def __init__(self, data_dir, transform=None):\n",
        "        self.data_dir = data_dir\n",
        "        self.transform = transform\n",
        "        self.imageFilenames = sorted(os.listdir(os.path.join(data_dir, \"tiles\")))\n",
        "\n",
        "    def __len__(self):\n",
        "        return len(self.imageFilenames)\n",
        "\n",
        "    def __getitem__(self, idx):\n",
        "        imagePath = os.path.join(self.data_dir, \"tiles\", self.imageFilenames[idx])\n",
        "        img = np.load(imagePath)\n",
        "        X = img[:,:,0:5]\n",
        "        Y = img[:,:,-1]\n",
        "\n",
        "\n",
        "        \n",
        "\n",
        "        if self.transform:\n",
        "            X = self.transform(X)\n",
        "            Y = self.transform(Y)\n",
        "\n",
        "        return X, Y\n"
      ],
      "metadata": {
        "id": "a4IMKIJoLWSL"
      },
      "execution_count": 4,
      "outputs": []
    },
    {
      "cell_type": "code",
      "source": [
        "transform = transforms.Compose([\n",
        "    transforms.ToTensor(),\n",
        "])"
      ],
      "metadata": {
        "id": "c226ZLD4XTat"
      },
      "execution_count": 5,
      "outputs": []
    },
    {
      "cell_type": "code",
      "source": [
        "trainSet = CustomDataset(trainDir, transform=transform)\n",
        "validationSet = CustomDataset(testDir, transform=transform)\n",
        "\n",
        "trainLoader = torch.utils.data.DataLoader(trainSet, batch_size=None, shuffle=True)\n",
        "validationLoader = torch.utils.data.DataLoader(validationSet, batch_size = None, shuffle = True)"
      ],
      "metadata": {
        "id": "2OD0pDzgXTYF"
      },
      "execution_count": 6,
      "outputs": []
    },
    {
      "cell_type": "code",
      "source": [
        "print(\"Number of training samples : {}\".format(len(trainLoader)))\n",
        "print(\"Number of validating samples : {}\".format(len(validationLoader)))"
      ],
      "metadata": {
        "colab": {
          "base_uri": "https://localhost:8080/"
        },
        "id": "rNAe2EhjvgYx",
        "outputId": "dbc7ffdb-fe3e-46b8-e700-a9447da64028"
      },
      "execution_count": 7,
      "outputs": [
        {
          "output_type": "stream",
          "name": "stdout",
          "text": [
            "Number of training samples : 1120\n",
            "Number of validating samples : 440\n"
          ]
        }
      ]
    },
    {
      "cell_type": "code",
      "source": [
        "class Autoencoder1(nn.Module):\n",
        "  def __init__(self,channels):\n",
        "    super(Autoencoder1,self).__init__()\n",
        "    self.encoder = nn.Sequential(\n",
        "        nn.Conv2d(channels,64, kernel_size = 3),\n",
        "        nn.Conv2d(64,64,kernel_size = 3, stride = 2),\n",
        "        nn.Conv2d(64,128,kernel_size= 3),\n",
        "        nn.Conv2d(128,128,kernel_size = 3,stride = 2),\n",
        "        nn.Conv2d(128,256,kernel_size = 3),\n",
        "        nn.Conv2d(256,256,kernel_size = 3,stride = 2),\n",
        "        nn.Conv2d(256,512,kernel_size = 3)\n",
        "    )\n",
        "\n",
        "    self.decoder = nn.Sequential(\n",
        "        nn.Conv2d(512,256,kernel_size = 2),\n",
        "        nn.ConvTranspose2d(256,256,kernel_size=4, stride=2, padding=1, output_padding=0),\n",
        "        nn.Conv2d(256,128,kernel_size = 3),\n",
        "        nn.ConvTranspose2d(128,128,kernel_size=4, stride=2, padding=1, output_padding=0),\n",
        "        nn.Conv2d(128,64,kernel_size = 3),\n",
        "        nn.ConvTranspose2d(64,64,kernel_size=4, stride=2, padding=1, output_padding=0),\n",
        "        nn.Conv2d(64,1,kernel_size = 3)\n",
        "    )\n",
        "\n",
        "\n",
        "  def forward(self,x):\n",
        "    x = self.encoder(x)\n",
        "    x = self.decoder(x)\n",
        "\n",
        "    return x"
      ],
      "metadata": {
        "id": "mUvldmB7Xepl"
      },
      "execution_count": 8,
      "outputs": []
    },
    {
      "cell_type": "code",
      "source": [
        "class Autoencoder2(nn.Module):\n",
        "    def __init__(self):\n",
        "        super(Autoencoder2, self).__init__()\n",
        "        self.encoder = nn.Sequential(\n",
        "            nn.Conv2d(5, 32, kernel_size=3, stride=1, padding=1),\n",
        "            nn.ReLU(),\n",
        "            nn.MaxPool2d(kernel_size=2, stride=2),\n",
        "            nn.Conv2d(32, 16, kernel_size=3, stride=1, padding=1),\n",
        "            nn.ReLU(),\n",
        "            nn.MaxPool2d(kernel_size=2, stride=2)\n",
        "        )\n",
        "        self.decoder = nn.Sequential(\n",
        "            nn.ConvTranspose2d(16, 32, kernel_size=3, stride=2, padding=1, output_padding=1),\n",
        "            nn.ReLU(),\n",
        "            nn.ConvTranspose2d(32, 1, kernel_size=3, stride=2, padding=1, output_padding=1),\n",
        "        )\n",
        "\n",
        "    def forward(self, x):\n",
        "        x = self.encoder(x)\n",
        "        x = self.decoder(x)\n",
        "        return x"
      ],
      "metadata": {
        "id": "jQ4F4_W5agWh"
      },
      "execution_count": 9,
      "outputs": []
    },
    {
      "cell_type": "code",
      "source": [
        "autoenc = Autoencoder2()"
      ],
      "metadata": {
        "id": "NfD2SYtexkmo"
      },
      "execution_count": 10,
      "outputs": []
    },
    {
      "cell_type": "code",
      "source": [
        "\n",
        "def trainer(model,trainLoader,validationLoader,epochs,lossFn,optimizer,trainLoss,validLoss,device,batchSize):\n",
        "  model = model.to(device)\n",
        "  for epoch in range(epochs):\n",
        "    runningLoss = 0.0\n",
        "    for x, y in trainLoader:\n",
        "      x = x.to(device)\n",
        "      y = y.to(device)\n",
        "      optimizer.zero_grad()\n",
        "      pred = model(x)\n",
        "      loss = lossFn(pred,y)\n",
        "      loss.backward()\n",
        "      optimizer.step()\n",
        "      runningLoss += loss.item()\n",
        "    trainLoss.append(runningLoss/(len(trainLoader)/batchSize))\n",
        "\n",
        "    with torch.no_grad():\n",
        "      valLoss = 0.0\n",
        "      for x, y in validationLoader:\n",
        "        x = x.to(device)\n",
        "        y = y.to(device)\n",
        "        pred = model(x)\n",
        "        loss = lossFn(pred,y)\n",
        "        valLoss += loss.item()\n",
        "      validLoss.append(valLoss/(len(validationLoader)/batchSize))\n",
        "\n",
        "    print(f\"Epoch {epoch+1}/{epochs}, Training Loss: {runningLoss/len(trainLoader)}, Validation Loss: {valLoss/len(validationLoader)}\")\n",
        "\n",
        "\n",
        "\n",
        "\n",
        "\n",
        "\n",
        "\n",
        "\n",
        "\n",
        "\n",
        "      \n"
      ],
      "metadata": {
        "id": "yiWvAmOsXTQ2"
      },
      "execution_count": 12,
      "outputs": []
    },
    {
      "cell_type": "code",
      "source": [
        "criterion = nn.MSELoss()\n",
        "optimizer = optim.Adam(autoenc.parameters(), lr=0.001)\n",
        "batchSize = 1\n",
        "device = torch.device('cuda' if torch.cuda.is_available() else 'cpu')\n",
        "eps = 20\n",
        "trainArr = []\n",
        "validArr = []"
      ],
      "metadata": {
        "id": "y3mUQ_3PbUWI"
      },
      "execution_count": 13,
      "outputs": []
    },
    {
      "cell_type": "code",
      "source": [
        "if device.type == 'cuda':\n",
        "    print(torch.cuda.get_device_name(0))\n",
        "    print('Memory Usage:')\n",
        "    print('Allocated:', round(torch.cuda.memory_allocated(0)/1024**3,1), 'GB')\n",
        "    print('Cached:   ', round(torch.cuda.memory_reserved(0)/1024**3,1), 'GB')"
      ],
      "metadata": {
        "id": "XYmsbh0sbpFR",
        "colab": {
          "base_uri": "https://localhost:8080/"
        },
        "outputId": "ab0c35e0-4096-4671-b830-720e5436c68c"
      },
      "execution_count": 14,
      "outputs": [
        {
          "output_type": "stream",
          "name": "stdout",
          "text": [
            "Tesla T4\n",
            "Memory Usage:\n",
            "Allocated: 0.0 GB\n",
            "Cached:    0.0 GB\n"
          ]
        }
      ]
    },
    {
      "cell_type": "code",
      "source": [
        "trainer(autoenc,trainLoader,validationLoader,eps,criterion,optimizer,trainArr,validArr,device,batchSize)"
      ],
      "metadata": {
        "colab": {
          "base_uri": "https://localhost:8080/"
        },
        "id": "uxlNxeGVcdIH",
        "outputId": "64a546b3-9506-4c9f-8e70-d9db6b380e6a"
      },
      "execution_count": 15,
      "outputs": [
        {
          "output_type": "stream",
          "name": "stdout",
          "text": [
            "Epoch 1/20, Training Loss: 0.05557431488540325, Validation Loss: 0.03441519501634916\n",
            "Epoch 2/20, Training Loss: 0.05174833213645798, Validation Loss: 0.03660056213474573\n",
            "Epoch 3/20, Training Loss: 0.05155318109079872, Validation Loss: 0.04063302625237901\n",
            "Epoch 4/20, Training Loss: 0.05041664637068217, Validation Loss: 0.03590140416806455\n",
            "Epoch 5/20, Training Loss: 0.05002964172958855, Validation Loss: 0.036551242471085224\n",
            "Epoch 6/20, Training Loss: 0.05010531064276458, Validation Loss: 0.038339501196804286\n",
            "Epoch 7/20, Training Loss: 0.049113506775419834, Validation Loss: 0.03656224893875333\n",
            "Epoch 8/20, Training Loss: 0.04895195204458754, Validation Loss: 0.036995594416789984\n",
            "Epoch 9/20, Training Loss: 0.04897176352620006, Validation Loss: 0.0354427914675894\n",
            "Epoch 10/20, Training Loss: 0.048758907798657804, Validation Loss: 0.035079187237170115\n",
            "Epoch 11/20, Training Loss: 0.04855321170632903, Validation Loss: 0.037222427007195205\n",
            "Epoch 12/20, Training Loss: 0.048916614037109084, Validation Loss: 0.0350082534162952\n",
            "Epoch 13/20, Training Loss: 0.04883378847347168, Validation Loss: 0.03569367524391137\n",
            "Epoch 14/20, Training Loss: 0.04806197774775569, Validation Loss: 0.03819169209539475\n",
            "Epoch 15/20, Training Loss: 0.04763523495233163, Validation Loss: 0.03619456639538508\n",
            "Epoch 16/20, Training Loss: 0.04817731980261572, Validation Loss: 0.03813883678807212\n",
            "Epoch 17/20, Training Loss: 0.047112160043644734, Validation Loss: 0.04187594343476865\n",
            "Epoch 18/20, Training Loss: 0.04737328384858951, Validation Loss: 0.03705633871958195\n",
            "Epoch 19/20, Training Loss: 0.04708447566830825, Validation Loss: 0.03724443844694179\n",
            "Epoch 20/20, Training Loss: 0.04735344428103028, Validation Loss: 0.0433690896822637\n"
          ]
        }
      ]
    },
    {
      "cell_type": "code",
      "source": [
        "plt.plot(trainArr, label='training loss')\n",
        "plt.plot(validArr, label='validation loss')\n",
        "plt.title('Loss at the end of each epoch')\n",
        "plt.legend();"
      ],
      "metadata": {
        "id": "lS3ob3qicuAC",
        "colab": {
          "base_uri": "https://localhost:8080/",
          "height": 281
        },
        "outputId": "faf227e8-0323-4f9f-8e04-f6311b7e62c9"
      },
      "execution_count": 17,
      "outputs": [
        {
          "output_type": "display_data",
          "data": {
            "text/plain": [
              "<Figure size 432x288 with 1 Axes>"
            ],
            "image/png": "[encoded data removed]"
          },
          "metadata": {
            "needs_background": "light"
          }
        }
      ]
    },
    {
      "cell_type": "code",
      "source": [],
      "metadata": {
        "id": "hVTDzUwJfewz"
      },
      "execution_count": null,
      "outputs": []
    }
  ]
}