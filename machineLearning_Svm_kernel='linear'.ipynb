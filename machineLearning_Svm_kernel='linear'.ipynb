{
  "nbformat": 4,
  "nbformat_minor": 0,
  "metadata": {
    "colab": {
      "provenance": [],
      "authorship_tag": "ABX9TyOS7Onq+DkCXMnrJQYin7+z",
      "include_colab_link": true
    },
    "kernelspec": {
      "name": "python3",
      "display_name": "Python 3"
    },
    "language_info": {
      "name": "python"
    },
    "gpuClass": "standard"
  },
  "cells": [
    {
      "cell_type": "markdown",
      "metadata": {
        "id": "view-in-github",
        "colab_type": "text"
      },
      "source": [
        "<a href=\"https://colab.research.google.com/github/threedee003/NotebooksForDL/blob/main/machineLearning_Svm_kernel%3D'linear'.ipynb\" target=\"_parent\"><img src=\"https://colab.research.google.com/assets/colab-badge.svg\" alt=\"Open In Colab\"/></a>"
      ]
    },
    {
      "cell_type": "code",
      "execution_count": 28,
      "metadata": {
        "id": "O0gEo8jKalrC",
        "colab": {
          "base_uri": "https://localhost:8080/"
        },
        "outputId": "20be4933-2e6e-4c6f-a02f-8b4ff38f13ba"
      },
      "outputs": [
        {
          "output_type": "stream",
          "name": "stdout",
          "text": [
            "Drive already mounted at /content/drive; to attempt to forcibly remount, call drive.mount(\"/content/drive\", force_remount=True).\n"
          ]
        }
      ],
      "source": [
        "from google.colab import drive\n",
        "drive.mount('/content/drive')"
      ]
    },
    {
      "cell_type": "code",
      "source": [
        "import numpy as np\n",
        "import pandas as pd\n",
        "import matplotlib.pyplot as plt\n",
        "import time"
      ],
      "metadata": {
        "id": "8wDkEE3wNS5c"
      },
      "execution_count": 29,
      "outputs": []
    },
    {
      "cell_type": "code",
      "source": [
        "trainPath = \"/content/drive/MyDrive/GIS/pointFormTrain.npy\"\n",
        "testPath = \"/content/drive/MyDrive/GIS/pointFormTest.npy\""
      ],
      "metadata": {
        "id": "no9ZQ6k8attP"
      },
      "execution_count": 30,
      "outputs": []
    },
    {
      "cell_type": "code",
      "source": [
        "train = np.load(trainPath)\n",
        "test = np.load(testPath)\n",
        "print(f\"train data shape : {train.shape}\")\n",
        "print(f\"test data shape : {test.shape}\")"
      ],
      "metadata": {
        "id": "p8teRd9fb8_7",
        "colab": {
          "base_uri": "https://localhost:8080/"
        },
        "outputId": "4c01e90e-182a-4aec-dfe5-b41328dab2d2"
      },
      "execution_count": 31,
      "outputs": [
        {
          "output_type": "stream",
          "name": "stdout",
          "text": [
            "train data shape : (885360, 8)\n",
            "test data shape : (165140, 8)\n"
          ]
        }
      ]
    },
    {
      "cell_type": "code",
      "source": [
        "trainX = np.ones((train.shape[0],5))\n",
        "trainY = np.ones((train.shape[0],))"
      ],
      "metadata": {
        "id": "LOjiKvbvORiS"
      },
      "execution_count": 32,
      "outputs": []
    },
    {
      "cell_type": "code",
      "source": [
        "for i in range(train.shape[0]):\n",
        "  temp = train[i][2:7]\n",
        "  trainX[i] = temp\n",
        "  trainY[i] = train[i][7]/255\n"
      ],
      "metadata": {
        "id": "vZxCnn3CcHjr"
      },
      "execution_count": 33,
      "outputs": []
    },
    {
      "cell_type": "code",
      "source": [
        "trainX.shape"
      ],
      "metadata": {
        "id": "0p7qUCkkgNwM",
        "colab": {
          "base_uri": "https://localhost:8080/"
        },
        "outputId": "7f3adbd7-eb44-4fd9-c5c6-bbd433bbf64c"
      },
      "execution_count": 34,
      "outputs": [
        {
          "output_type": "execute_result",
          "data": {
            "text/plain": [
              "(885360, 5)"
            ]
          },
          "metadata": {},
          "execution_count": 34
        }
      ]
    },
    {
      "cell_type": "code",
      "source": [
        "np.unique(trainY)"
      ],
      "metadata": {
        "id": "m5Adpa4WgGVI",
        "colab": {
          "base_uri": "https://localhost:8080/"
        },
        "outputId": "1b8cd27a-e42a-442b-c774-1d0bdd3c7af2"
      },
      "execution_count": 35,
      "outputs": [
        {
          "output_type": "execute_result",
          "data": {
            "text/plain": [
              "array([0., 1.])"
            ]
          },
          "metadata": {},
          "execution_count": 35
        }
      ]
    },
    {
      "cell_type": "code",
      "source": [
        "testX = np.ones((test.shape[0],5))\n",
        "testY = np.ones((test.shape[0],))"
      ],
      "metadata": {
        "id": "kWkYIW4yTmXS"
      },
      "execution_count": 36,
      "outputs": []
    },
    {
      "cell_type": "code",
      "source": [
        "for i in range(test.shape[0]):\n",
        "  temp = test[i][2:7]\n",
        "  testX[i] = temp\n",
        "  testY[i] = test[i][7]/255"
      ],
      "metadata": {
        "id": "LrFq8eDnUxvo"
      },
      "execution_count": 37,
      "outputs": []
    },
    {
      "cell_type": "code",
      "source": [
        "trainX = trainX/255\n",
        "testX = testX/255\n",
        "trainX[222,3]\n",
        "trainY[222:225,]"
      ],
      "metadata": {
        "colab": {
          "base_uri": "https://localhost:8080/"
        },
        "id": "EgzrHMjANxid",
        "outputId": "0df1ef2e-cc1e-44e7-e88c-96da3fb471d0"
      },
      "execution_count": 38,
      "outputs": [
        {
          "output_type": "execute_result",
          "data": {
            "text/plain": [
              "array([0., 0., 0.])"
            ]
          },
          "metadata": {},
          "execution_count": 38
        }
      ]
    },
    {
      "cell_type": "code",
      "source": [
        "!pip install thundersvm"
      ],
      "metadata": {
        "colab": {
          "base_uri": "https://localhost:8080/"
        },
        "id": "6b81Wt4GOF-M",
        "outputId": "b2447aae-617e-4aab-a723-8c57b360e617"
      },
      "execution_count": 39,
      "outputs": [
        {
          "output_type": "stream",
          "name": "stdout",
          "text": [
            "Looking in indexes: https://pypi.org/simple, https://us-python.pkg.dev/colab-wheels/public/simple/\n",
            "Collecting thundersvm\n",
            "  Downloading thundersvm-0.3.12-py3-none-any.whl (507 kB)\n",
            "\u001b[2K     \u001b[90m━━━━━━━━━━━━━━━━━━━━━━━━━━━━━━━━━━━━━━\u001b[0m \u001b[32m507.4/507.4 KB\u001b[0m \u001b[31m28.9 MB/s\u001b[0m eta \u001b[36m0:00:00\u001b[0m\n",
            "\u001b[?25hRequirement already satisfied: scipy in /usr/local/lib/python3.9/dist-packages (from thundersvm) (1.10.1)\n",
            "Requirement already satisfied: numpy in /usr/local/lib/python3.9/dist-packages (from thundersvm) (1.22.4)\n",
            "Requirement already satisfied: scikit-learn in /usr/local/lib/python3.9/dist-packages (from thundersvm) (1.2.2)\n",
            "Requirement already satisfied: threadpoolctl>=2.0.0 in /usr/local/lib/python3.9/dist-packages (from scikit-learn->thundersvm) (3.1.0)\n",
            "Requirement already satisfied: joblib>=1.1.1 in /usr/local/lib/python3.9/dist-packages (from scikit-learn->thundersvm) (1.1.1)\n",
            "Installing collected packages: thundersvm\n",
            "Successfully installed thundersvm-0.3.12\n"
          ]
        }
      ]
    },
    {
      "cell_type": "code",
      "source": [
        "from sklearn.pipeline import make_pipeline\n",
        "from sklearn.preprocessing import StandardScaler\n",
        "from sklearn.svm import SVC"
      ],
      "metadata": {
        "id": "YkegpipIXIXn"
      },
      "execution_count": 40,
      "outputs": []
    },
    {
      "cell_type": "code",
      "source": [
        "model = make_pipeline(StandardScaler(), SVC(gamma='auto',kernel = 'linear'))\n"
      ],
      "metadata": {
        "id": "YZDZBUjLMvY8"
      },
      "execution_count": 41,
      "outputs": []
    },
    {
      "cell_type": "code",
      "source": [
        "start = time.time()\n",
        "\n",
        "model.fit(trainX[500000:600000,:],trainY[500000:600000,])\n",
        "\n",
        "\n",
        "print(f\"Time taken to train SVM : {(time.time()-start)/60} minutes\")"
      ],
      "metadata": {
        "id": "h_ME6ln2X2pG",
        "colab": {
          "base_uri": "https://localhost:8080/"
        },
        "outputId": "a379568b-5112-4b2c-ccee-b6695da92242"
      },
      "execution_count": 42,
      "outputs": [
        {
          "output_type": "stream",
          "name": "stdout",
          "text": [
            "Time taken to train SVM : 4.131957173347473 minutes\n"
          ]
        }
      ]
    },
    {
      "cell_type": "code",
      "source": [
        "predY = model.predict(testX[50000:90000,:])\n"
      ],
      "metadata": {
        "id": "IlSTNrLvYBT2"
      },
      "execution_count": 43,
      "outputs": []
    },
    {
      "cell_type": "code",
      "source": [
        "from sklearn.metrics import accuracy_score, f1_score, recall_score, precision_score, classification_report\n",
        "\n",
        "\n",
        "print('Accuracy : {}'.format(accuracy_score(testY[50000:90000,],predY)*100))\n",
        "print('F1 Score : {}'.format(f1_score(testY[50000:90000,],predY)*100))\n",
        "print('Sensitivity : {}'.format(recall_score(testY[50000:90000,],predY)*100))\n",
        "print('Precision : {}'.format(precision_score(testY[50000:90000,],predY)*100))"
      ],
      "metadata": {
        "id": "wJgaa4PUdPts",
        "colab": {
          "base_uri": "https://localhost:8080/"
        },
        "outputId": "4b27be70-334c-4422-c2c8-9fea7b87be18"
      },
      "execution_count": 45,
      "outputs": [
        {
          "output_type": "stream",
          "name": "stdout",
          "text": [
            "Accuracy : 53.527499999999996\n",
            "F1 Score : 46.92345030408588\n",
            "Sensitivity : 31.909440410081164\n",
            "Precision : 88.62165660051768\n"
          ]
        }
      ]
    },
    {
      "cell_type": "code",
      "source": [
        "from joblib import dump, load\n",
        "dump(model, \"/content/drive/MyDrive/GIS/model1_SVM_polyKernel.joblib\") "
      ],
      "metadata": {
        "id": "142SnZG3cToY",
        "colab": {
          "base_uri": "https://localhost:8080/"
        },
        "outputId": "f98965a3-802a-4c83-a670-0cd83059b4e8"
      },
      "execution_count": null,
      "outputs": [
        {
          "output_type": "execute_result",
          "data": {
            "text/plain": [
              "['/content/drive/MyDrive/GIS/model1_SVM_polyKernel.joblib']"
            ]
          },
          "metadata": {},
          "execution_count": 26
        }
      ]
    },
    {
      "cell_type": "code",
      "source": [],
      "metadata": {
        "id": "k7ZJPF3oHTqu"
      },
      "execution_count": null,
      "outputs": []
    }
  ]
}