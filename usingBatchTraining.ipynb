{
  "nbformat": 4,
  "nbformat_minor": 0,
  "metadata": {
    "colab": {
      "provenance": [],
      "authorship_tag": "ABX9TyNd6I+o+mOQ5oIhPx5hzxy6",
      "include_colab_link": true
    },
    "kernelspec": {
      "name": "python3",
      "display_name": "Python 3"
    },
    "language_info": {
      "name": "python"
    },
    "gpuClass": "standard",
    "accelerator": "GPU"
  },
  "cells": [
    {
      "cell_type": "markdown",
      "metadata": {
        "id": "view-in-github",
        "colab_type": "text"
      },
      "source": [
        "<a href=\"https://colab.research.google.com/github/threedee003/NotebooksForDL/blob/main/usingBatchTraining.ipynb\" target=\"_parent\"><img src=\"https://colab.research.google.com/assets/colab-badge.svg\" alt=\"Open In Colab\"/></a>"
      ]
    },
    {
      "cell_type": "code",
      "execution_count": 1,
      "metadata": {
        "id": "9h2o4RQvTWOw",
        "colab": {
          "base_uri": "https://localhost:8080/"
        },
        "outputId": "f6a3de33-5a9d-43a8-e2b2-c30c183fad29"
      },
      "outputs": [
        {
          "output_type": "stream",
          "name": "stdout",
          "text": [
            "Mounted at /content/drive\n"
          ]
        }
      ],
      "source": [
        "from google.colab import drive\n",
        "drive.mount('/content/drive')"
      ]
    },
    {
      "cell_type": "code",
      "source": [
        "trainDir = \"/content/drive/MyDrive/GIS/trainTiles\"\n",
        "testDir = \"/content/drive/MyDrive/GIS/testTiles\""
      ],
      "metadata": {
        "id": "_cvvaZxBvHgw"
      },
      "execution_count": 2,
      "outputs": []
    },
    {
      "cell_type": "code",
      "source": [
        "import numpy as np\n",
        "import matplotlib.pyplot as plt\n",
        "import os\n",
        "import skimage.io as io\n",
        "import time\n",
        "from itertools import product\n",
        "\n",
        "\n",
        "\n",
        "import torch.nn as nn\n",
        "import torch\n",
        "import torch.optim as optim\n",
        "from torchsummary import summary\n",
        "from torch.utils.data import Dataset\n",
        "from torchvision.transforms import transforms"
      ],
      "metadata": {
        "id": "nMRNA6IgaLo_"
      },
      "execution_count": 3,
      "outputs": []
    },
    {
      "cell_type": "code",
      "source": [
        "\n",
        "class CustomDataset(Dataset):\n",
        "    def __init__(self, data_dir, transform=None):\n",
        "        self.data_dir = data_dir\n",
        "        self.transform = transform\n",
        "        self.imageFilenames = sorted(os.listdir(os.path.join(data_dir, \"tiles\")))\n",
        "\n",
        "    def __len__(self):\n",
        "        return len(self.imageFilenames)\n",
        "\n",
        "    def __getitem__(self, idx):\n",
        "        imagePath = os.path.join(self.data_dir, \"tiles\", self.imageFilenames[idx])\n",
        "        img = np.load(imagePath)\n",
        "        X = img[:,:,0:5]\n",
        "        Y = img[:,:,-1]\n",
        "\n",
        "\n",
        "        \n",
        "\n",
        "        if self.transform:\n",
        "            X = self.transform(X)\n",
        "            Y = self.transform(Y)\n",
        "\n",
        "        return X, Y\n"
      ],
      "metadata": {
        "id": "a4IMKIJoLWSL"
      },
      "execution_count": 4,
      "outputs": []
    },
    {
      "cell_type": "code",
      "source": [
        "transform = transforms.Compose([\n",
        "    transforms.ToTensor(),\n",
        "])"
      ],
      "metadata": {
        "id": "c226ZLD4XTat"
      },
      "execution_count": 5,
      "outputs": []
    },
    {
      "cell_type": "code",
      "source": [
        "trainSet = CustomDataset(trainDir, transform=transform)\n",
        "validationSet = CustomDataset(testDir, transform=transform)\n",
        "\n",
        "trainLoader = torch.utils.data.DataLoader(trainSet, batch_size=4, shuffle=True)\n",
        "validationLoader = torch.utils.data.DataLoader(validationSet, batch_size = 4, shuffle = True)"
      ],
      "metadata": {
        "id": "2OD0pDzgXTYF"
      },
      "execution_count": 6,
      "outputs": []
    },
    {
      "cell_type": "code",
      "source": [
        "print(\"Number of training samples : {}\".format(len(trainLoader)))\n",
        "print(\"Number of validating samples : {}\".format(len(validationLoader)))"
      ],
      "metadata": {
        "colab": {
          "base_uri": "https://localhost:8080/"
        },
        "id": "rNAe2EhjvgYx",
        "outputId": "41c47366-0382-4274-cd7a-bd3527e50870"
      },
      "execution_count": 7,
      "outputs": [
        {
          "output_type": "stream",
          "name": "stdout",
          "text": [
            "Number of training samples : 280\n",
            "Number of validating samples : 110\n"
          ]
        }
      ]
    },
    {
      "cell_type": "code",
      "source": [
        "class Autoencoder1(nn.Module):\n",
        "  def __init__(self,channels):\n",
        "    super(Autoencoder1,self).__init__()\n",
        "    self.encoder = nn.Sequential(\n",
        "        nn.Conv2d(channels,64, kernel_size = 3),\n",
        "        nn.Conv2d(64,64,kernel_size = 3, stride = 2),\n",
        "        nn.Conv2d(64,128,kernel_size= 3),\n",
        "        nn.Conv2d(128,128,kernel_size = 3,stride = 2),\n",
        "        nn.Conv2d(128,256,kernel_size = 3),\n",
        "        nn.Conv2d(256,256,kernel_size = 3,stride = 2),\n",
        "        nn.Conv2d(256,512,kernel_size = 3)\n",
        "    )\n",
        "\n",
        "    self.decoder = nn.Sequential(\n",
        "        nn.Conv2d(512,256,kernel_size = 2),\n",
        "        nn.ConvTranspose2d(256,256,kernel_size=4, stride=2, padding=1, output_padding=0),\n",
        "        nn.Conv2d(256,128,kernel_size = 3),\n",
        "        nn.ConvTranspose2d(128,128,kernel_size=4, stride=2, padding=1, output_padding=0),\n",
        "        nn.Conv2d(128,64,kernel_size = 3),\n",
        "        nn.ConvTranspose2d(64,64,kernel_size=4, stride=2, padding=1, output_padding=0),\n",
        "        nn.Conv2d(64,1,kernel_size = 3)\n",
        "    )\n",
        "\n",
        "\n",
        "  def forward(self,x):\n",
        "    x = self.encoder(x)\n",
        "    x = self.decoder(x)\n",
        "\n",
        "    return x"
      ],
      "metadata": {
        "id": "mUvldmB7Xepl"
      },
      "execution_count": 8,
      "outputs": []
    },
    {
      "cell_type": "code",
      "source": [
        "class Autoencoder2(nn.Module):\n",
        "    def __init__(self):\n",
        "        super(Autoencoder2, self).__init__()\n",
        "        self.encoder = nn.Sequential(\n",
        "            nn.Conv2d(5, 32, kernel_size=3, stride=1, padding=1),\n",
        "            nn.ReLU(),\n",
        "            nn.MaxPool2d(kernel_size=2, stride=2),\n",
        "            nn.Conv2d(32, 16, kernel_size=3, stride=1, padding=1),\n",
        "            nn.ReLU(),\n",
        "            nn.MaxPool2d(kernel_size=2, stride=2)\n",
        "        )\n",
        "        self.decoder = nn.Sequential(\n",
        "            nn.ConvTranspose2d(16, 32, kernel_size=3, stride=2, padding=1, output_padding=1),\n",
        "            nn.ReLU(),\n",
        "            nn.ConvTranspose2d(32, 1, kernel_size=3, stride=2, padding=1, output_padding=1),\n",
        "            nn.Sigmoid()\n",
        "        )\n",
        "\n",
        "    def forward(self, x):\n",
        "        x = self.encoder(x)\n",
        "        x = self.decoder(x)\n",
        "        return x"
      ],
      "metadata": {
        "id": "jQ4F4_W5agWh"
      },
      "execution_count": 9,
      "outputs": []
    },
    {
      "cell_type": "code",
      "source": [
        "class Autoencoder3(nn.Module):\n",
        "    def __init__(self):\n",
        "        super(Autoencoder3, self).__init__()\n",
        "        \n",
        "        # Encoder\n",
        "        self.conv1 = nn.Conv2d(5, 32, kernel_size=3, stride=1, padding=1)\n",
        "        self.relu1 = nn.ReLU(inplace=True)\n",
        "        self.conv2 = nn.Conv2d(32, 64, kernel_size=3, stride=2, padding=1)\n",
        "        self.relu2 = nn.ReLU(inplace=True)\n",
        "        self.conv3 = nn.Conv2d(64, 128, kernel_size=3, stride=2, padding=1)\n",
        "        self.relu3 = nn.ReLU(inplace=True)\n",
        "        self.conv4 = nn.Conv2d(128, 256, kernel_size=3, stride=2, padding=1)\n",
        "        self.relu4 = nn.ReLU(inplace=True)\n",
        "        \n",
        "        # Decoder\n",
        "        self.conv5 = nn.ConvTranspose2d(256, 128, kernel_size=3, stride=2, padding=1, output_padding=1)\n",
        "        self.relu5 = nn.ReLU(inplace=True)\n",
        "        self.conv6 = nn.ConvTranspose2d(128, 64, kernel_size=3, stride=2, padding=1, output_padding=1)\n",
        "        self.relu6 = nn.ReLU(inplace=True)\n",
        "        self.conv7 = nn.ConvTranspose2d(64, 32, kernel_size=3, stride=2, padding=1, output_padding=1)\n",
        "        self.relu7 = nn.ReLU(inplace=True)\n",
        "        self.conv8 = nn.ConvTranspose2d(32, 1, kernel_size=3, stride=1, padding=1)\n",
        "        self.sigmoid = nn.Sigmoid()\n",
        "        \n",
        "    def forward(self, x):\n",
        "        # Encoder\n",
        "        x = self.relu1(self.conv1(x))\n",
        "        x = self.relu2(self.conv2(x))\n",
        "        x = self.relu3(self.conv3(x))\n",
        "        x = self.relu4(self.conv4(x))\n",
        "        \n",
        "        # Decoder\n",
        "        x = self.relu5(self.conv5(x))\n",
        "        x = self.relu6(self.conv6(x))\n",
        "        x = self.relu7(self.conv7(x))\n",
        "        x = self.sigmoid(self.conv8(x))\n",
        "        return x"
      ],
      "metadata": {
        "id": "dFFRBpyk7L_J"
      },
      "execution_count": 10,
      "outputs": []
    },
    {
      "cell_type": "code",
      "source": [
        "autoenc = Autoencoder3()"
      ],
      "metadata": {
        "id": "NfD2SYtexkmo"
      },
      "execution_count": 11,
      "outputs": []
    },
    {
      "cell_type": "code",
      "source": [
        "summary(autoenc.to('cuda'),(5,64,64))"
      ],
      "metadata": {
        "colab": {
          "base_uri": "https://localhost:8080/"
        },
        "id": "9EtIpUFp7vlg",
        "outputId": "4b0186b8-9e9f-4882-bacf-6828e358df88"
      },
      "execution_count": 12,
      "outputs": [
        {
          "output_type": "stream",
          "name": "stdout",
          "text": [
            "----------------------------------------------------------------\n",
            "        Layer (type)               Output Shape         Param #\n",
            "================================================================\n",
            "            Conv2d-1           [-1, 32, 64, 64]           1,472\n",
            "              ReLU-2           [-1, 32, 64, 64]               0\n",
            "            Conv2d-3           [-1, 64, 32, 32]          18,496\n",
            "              ReLU-4           [-1, 64, 32, 32]               0\n",
            "            Conv2d-5          [-1, 128, 16, 16]          73,856\n",
            "              ReLU-6          [-1, 128, 16, 16]               0\n",
            "            Conv2d-7            [-1, 256, 8, 8]         295,168\n",
            "              ReLU-8            [-1, 256, 8, 8]               0\n",
            "   ConvTranspose2d-9          [-1, 128, 16, 16]         295,040\n",
            "             ReLU-10          [-1, 128, 16, 16]               0\n",
            "  ConvTranspose2d-11           [-1, 64, 32, 32]          73,792\n",
            "             ReLU-12           [-1, 64, 32, 32]               0\n",
            "  ConvTranspose2d-13           [-1, 32, 64, 64]          18,464\n",
            "             ReLU-14           [-1, 32, 64, 64]               0\n",
            "  ConvTranspose2d-15            [-1, 1, 64, 64]             289\n",
            "          Sigmoid-16            [-1, 1, 64, 64]               0\n",
            "================================================================\n",
            "Total params: 776,577\n",
            "Trainable params: 776,577\n",
            "Non-trainable params: 0\n",
            "----------------------------------------------------------------\n",
            "Input size (MB): 0.08\n",
            "Forward/backward pass size (MB): 7.31\n",
            "Params size (MB): 2.96\n",
            "Estimated Total Size (MB): 10.35\n",
            "----------------------------------------------------------------\n"
          ]
        }
      ]
    },
    {
      "cell_type": "code",
      "source": [
        "\n",
        "def trainer(model,trainLoader,validationLoader,epochs,lossFn,optimizer,trainLoss,validLoss,device,batchSize):\n",
        "  print(\"Training has begun.....\")\n",
        "  startTime = time.time()\n",
        "  model = model.to(device)\n",
        "  for epoch in range(epochs):\n",
        "    runningLoss = 0.0\n",
        "    for x, y in trainLoader:\n",
        "      x = x.to(device)\n",
        "      y = y.to(device)\n",
        "      optimizer.zero_grad()\n",
        "      pred = model(x)\n",
        "      loss = lossFn(pred,y)\n",
        "      loss.backward()\n",
        "      optimizer.step()\n",
        "      runningLoss += loss.item()\n",
        "    trainLoss.append(runningLoss/(len(trainLoader)/batchSize))\n",
        "\n",
        "    with torch.no_grad():\n",
        "      valLoss = 0.0\n",
        "      for x, y in validationLoader:\n",
        "        x = x.to(device)\n",
        "        y = y.to(device)\n",
        "        pred = model(x)\n",
        "        loss = lossFn(pred,y)\n",
        "        valLoss += loss.item()\n",
        "      validLoss.append(valLoss/(len(validationLoader)/batchSize))\n",
        "\n",
        "    print(f\"Epoch {epoch+1}/{epochs}, Training Loss: {runningLoss/len(trainLoader)}, Validation Loss: {valLoss/len(validationLoader)}\")\n",
        "  print(f\"Training is complete......\")\n",
        "  print(\"--- %s seconds ---\" % (time.time() - startTime))\n",
        "\n",
        "\n",
        "\n",
        "\n",
        "\n",
        "\n",
        "\n",
        "\n",
        "\n",
        "\n",
        "      \n"
      ],
      "metadata": {
        "id": "yiWvAmOsXTQ2"
      },
      "execution_count": 13,
      "outputs": []
    },
    {
      "cell_type": "code",
      "source": [
        "criterion = nn.BCELoss()\n",
        "optimizer = optim.Adam(autoenc.parameters(), lr=0.001)\n",
        "batchSize = 4\n",
        "device = torch.device('cuda' if torch.cuda.is_available() else 'cpu')\n",
        "eps = 50\n",
        "trainArr = []\n",
        "validArr = []"
      ],
      "metadata": {
        "id": "y3mUQ_3PbUWI"
      },
      "execution_count": 16,
      "outputs": []
    },
    {
      "cell_type": "code",
      "source": [
        "if device.type == 'cuda':\n",
        "    print(torch.cuda.get_device_name(0))\n",
        "    print('Memory Usage:')\n",
        "    print('Allocated:', round(torch.cuda.memory_allocated(0)/1024**3,1), 'GB')\n",
        "    print('Cached:   ', round(torch.cuda.memory_reserved(0)/1024**3,1), 'GB')"
      ],
      "metadata": {
        "id": "XYmsbh0sbpFR",
        "colab": {
          "base_uri": "https://localhost:8080/"
        },
        "outputId": "7ea5b9cc-e16f-4683-bb5a-67286dea006e"
      },
      "execution_count": 15,
      "outputs": [
        {
          "output_type": "stream",
          "name": "stdout",
          "text": [
            "Tesla T4\n",
            "Memory Usage:\n",
            "Allocated: 0.0 GB\n",
            "Cached:    0.0 GB\n"
          ]
        }
      ]
    },
    {
      "cell_type": "code",
      "source": [
        "trainer(autoenc,trainLoader,validationLoader,eps,criterion,optimizer,trainArr,validArr,device,batchSize)"
      ],
      "metadata": {
        "colab": {
          "base_uri": "https://localhost:8080/"
        },
        "id": "uxlNxeGVcdIH",
        "outputId": "5647e451-9707-405e-8b50-f04b98f89d45"
      },
      "execution_count": 17,
      "outputs": [
        {
          "output_type": "stream",
          "name": "stdout",
          "text": [
            "Training has begun.....\n",
            "Epoch 1/50, Training Loss: 0.3085255819343729, Validation Loss: 0.24396515845807948\n",
            "Epoch 2/50, Training Loss: 0.24055690557054601, Validation Loss: 0.38259670021718856\n",
            "Epoch 3/50, Training Loss: 0.22251306841923388, Validation Loss: 0.19339713508432563\n",
            "Epoch 4/50, Training Loss: 0.2171321175364012, Validation Loss: 0.43861737214352947\n",
            "Epoch 5/50, Training Loss: 0.21279036243943536, Validation Loss: 0.22081386058760638\n",
            "Epoch 6/50, Training Loss: 0.196727819352444, Validation Loss: 0.16235325912394646\n",
            "Epoch 7/50, Training Loss: 0.25095558335015083, Validation Loss: 0.15336246104402976\n",
            "Epoch 8/50, Training Loss: 0.2046857627256811, Validation Loss: 0.15711762221022085\n",
            "Epoch 9/50, Training Loss: 0.20962028608358066, Validation Loss: 0.16014425107701258\n",
            "Epoch 10/50, Training Loss: 0.22691903975282912, Validation Loss: 0.16364553462375295\n",
            "Epoch 11/50, Training Loss: 0.22300041730715228, Validation Loss: 0.15829104632139207\n",
            "Epoch 12/50, Training Loss: 0.19355775835787686, Validation Loss: 0.17327632157777606\n",
            "Epoch 13/50, Training Loss: 0.20085236516179716, Validation Loss: 0.15218055241487244\n",
            "Epoch 14/50, Training Loss: 0.22328590756431888, Validation Loss: 0.20783439005979082\n",
            "Epoch 15/50, Training Loss: 0.20012918213469674, Validation Loss: 0.15512273227795959\n",
            "Epoch 16/50, Training Loss: 0.19880173396335782, Validation Loss: 0.23370142068544572\n",
            "Epoch 17/50, Training Loss: 0.2048966553486285, Validation Loss: 0.1548938097601587\n",
            "Epoch 18/50, Training Loss: 0.21774575697657253, Validation Loss: 0.45978506720005663\n",
            "Epoch 19/50, Training Loss: 0.20779165389041218, Validation Loss: 0.15651164971800013\n",
            "Epoch 20/50, Training Loss: 0.19593485147135134, Validation Loss: 0.5700132996523859\n",
            "Epoch 21/50, Training Loss: 0.20766791664164036, Validation Loss: 0.14576742796396666\n",
            "Epoch 22/50, Training Loss: 0.2061619385062451, Validation Loss: 0.15854172178290107\n",
            "Epoch 23/50, Training Loss: 0.2165758852048644, Validation Loss: 0.1589627639136531\n",
            "Epoch 24/50, Training Loss: 0.21677022479208452, Validation Loss: 0.1635512427850203\n",
            "Epoch 25/50, Training Loss: 0.21650005105350698, Validation Loss: 0.16445207074284554\n",
            "Epoch 26/50, Training Loss: 0.21599779852799006, Validation Loss: 0.15892674536867576\n",
            "Epoch 27/50, Training Loss: 0.21596853902031268, Validation Loss: 0.1635245923291553\n",
            "Epoch 28/50, Training Loss: 0.2154321922521506, Validation Loss: 0.1655859567902305\n",
            "Epoch 29/50, Training Loss: 0.21462961143947074, Validation Loss: 0.15841294977475295\n",
            "Epoch 30/50, Training Loss: 0.2135223030378776, Validation Loss: 0.6874530952624396\n",
            "Epoch 31/50, Training Loss: 0.23233579472502502, Validation Loss: 0.15841996818780898\n",
            "Epoch 32/50, Training Loss: 0.21221003348806075, Validation Loss: 0.17081307423385708\n",
            "Epoch 33/50, Training Loss: 0.2121740202789494, Validation Loss: 0.15713856389576739\n",
            "Epoch 34/50, Training Loss: 0.21711454060277902, Validation Loss: 0.16635178343646906\n",
            "Epoch 35/50, Training Loss: 0.20706488645070878, Validation Loss: 0.16372376199473035\n",
            "Epoch 36/50, Training Loss: 0.214364285780383, Validation Loss: 0.15970050601119345\n",
            "Epoch 37/50, Training Loss: 0.20714505293872207, Validation Loss: 0.15354523318396374\n",
            "Epoch 38/50, Training Loss: 0.216278673312898, Validation Loss: 0.1662923084741289\n",
            "Epoch 39/50, Training Loss: 0.19713024932092854, Validation Loss: 0.16893460310318253\n",
            "Epoch 40/50, Training Loss: 0.1998133873043116, Validation Loss: 0.17623575262048027\n",
            "Epoch 41/50, Training Loss: 0.18671707936363027, Validation Loss: 0.16468709812245585\n",
            "Epoch 42/50, Training Loss: 0.18453597807591515, Validation Loss: 0.2241751298636452\n",
            "Epoch 43/50, Training Loss: 0.20065209131197273, Validation Loss: 0.15270320478488097\n",
            "Epoch 44/50, Training Loss: 0.21228985046036541, Validation Loss: 0.15532112551472066\n",
            "Epoch 45/50, Training Loss: 0.18145483156300282, Validation Loss: 0.16375509453090756\n",
            "Epoch 46/50, Training Loss: 0.1776497368035572, Validation Loss: 0.18785967976489867\n",
            "Epoch 47/50, Training Loss: 0.9192259614680941, Validation Loss: 3.6042582501064646\n",
            "Epoch 48/50, Training Loss: 5.578681868846927, Validation Loss: 3.6043643657456745\n",
            "Epoch 49/50, Training Loss: 5.578701845237187, Validation Loss: 3.6043643657456745\n",
            "Epoch 50/50, Training Loss: 5.578701831613269, Validation Loss: 3.6043643657456745\n",
            "Training is complete......\n",
            "--- 709.7808306217194 seconds ---\n"
          ]
        }
      ]
    },
    {
      "cell_type": "code",
      "source": [
        "\n",
        "plt.plot(trainArr, label='training loss')\n",
        "plt.plot(validArr, label='validation loss')\n",
        "plt.title('Loss at the end of each epoch')\n",
        "plt.legend();"
      ],
      "metadata": {
        "id": "lS3ob3qicuAC",
        "colab": {
          "base_uri": "https://localhost:8080/",
          "height": 281
        },
        "outputId": "0791c003-65bf-4b33-8740-fae7ecd0385d"
      },
      "execution_count": 18,
      "outputs": [
        {
          "output_type": "display_data",
          "data": {
            "text/plain": [
              "<Figure size 432x288 with 1 Axes>"
            ],
            "image/png": "[encoded data removed]"
          },
          "metadata": {
            "needs_background": "light"
          }
        }
      ]
    },
    {
      "cell_type": "code",
      "source": [],
      "metadata": {
        "id": "4wlsFGCDhg87"
      },
      "execution_count": null,
      "outputs": []
    }
  ]
}