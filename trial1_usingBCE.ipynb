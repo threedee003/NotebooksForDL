{
  "nbformat": 4,
  "nbformat_minor": 0,
  "metadata": {
    "colab": {
      "provenance": [],
      "authorship_tag": "ABX9TyM0b1RxPPcUtnc4JbvjFSHm",
      "include_colab_link": true
    },
    "kernelspec": {
      "name": "python3",
      "display_name": "Python 3"
    },
    "language_info": {
      "name": "python"
    },
    "accelerator": "GPU",
    "gpuClass": "standard"
  },
  "cells": [
    {
      "cell_type": "markdown",
      "metadata": {
        "id": "view-in-github",
        "colab_type": "text"
      },
      "source": [
        "<a href=\"https://colab.research.google.com/github/threedee003/NotebooksForDL/blob/main/trial1_usingBCE.ipynb\" target=\"_parent\"><img src=\"https://colab.research.google.com/assets/colab-badge.svg\" alt=\"Open In Colab\"/></a>"
      ]
    },
    {
      "cell_type": "code",
      "execution_count": 1,
      "metadata": {
        "id": "9h2o4RQvTWOw",
        "colab": {
          "base_uri": "https://localhost:8080/"
        },
        "outputId": "cb811eb4-cef6-4076-c0b7-4578b39c1729"
      },
      "outputs": [
        {
          "output_type": "stream",
          "name": "stdout",
          "text": [
            "Mounted at /content/drive\n"
          ]
        }
      ],
      "source": [
        "from google.colab import drive\n",
        "drive.mount('/content/drive')"
      ]
    },
    {
      "cell_type": "code",
      "source": [
        "trainDir = \"/content/drive/MyDrive/GIS/trainTiles\"\n",
        "testDir = \"/content/drive/MyDrive/GIS/testTiles\""
      ],
      "metadata": {
        "id": "_cvvaZxBvHgw"
      },
      "execution_count": 2,
      "outputs": []
    },
    {
      "cell_type": "code",
      "source": [
        "import numpy as np\n",
        "import matplotlib.pyplot as plt\n",
        "import os\n",
        "import skimage.io as io\n",
        "import time\n",
        "from itertools import product\n",
        "\n",
        "\n",
        "\n",
        "import torch.nn as nn\n",
        "import torch\n",
        "import torch.optim as optim\n",
        "from torchsummary import summary\n",
        "from torch.utils.data import Dataset\n",
        "from torchvision.transforms import transforms"
      ],
      "metadata": {
        "id": "nMRNA6IgaLo_"
      },
      "execution_count": 3,
      "outputs": []
    },
    {
      "cell_type": "code",
      "source": [
        "\n",
        "class CustomDataset(Dataset):\n",
        "    def __init__(self, data_dir, transform=None):\n",
        "        self.data_dir = data_dir\n",
        "        self.transform = transform\n",
        "        self.imageFilenames = sorted(os.listdir(os.path.join(data_dir, \"tiles\")))\n",
        "\n",
        "    def __len__(self):\n",
        "        return len(self.imageFilenames)\n",
        "\n",
        "    def __getitem__(self, idx):\n",
        "        imagePath = os.path.join(self.data_dir, \"tiles\", self.imageFilenames[idx])\n",
        "        img = np.load(imagePath)\n",
        "        X = img[:,:,0:5]\n",
        "        Y = img[:,:,-1]\n",
        "\n",
        "\n",
        "        \n",
        "\n",
        "        if self.transform:\n",
        "            X = self.transform(X)\n",
        "            Y = self.transform(Y)\n",
        "\n",
        "        return X, Y\n"
      ],
      "metadata": {
        "id": "a4IMKIJoLWSL"
      },
      "execution_count": 4,
      "outputs": []
    },
    {
      "cell_type": "code",
      "source": [
        "transform = transforms.Compose([\n",
        "    transforms.ToTensor(),\n",
        "])"
      ],
      "metadata": {
        "id": "c226ZLD4XTat"
      },
      "execution_count": 5,
      "outputs": []
    },
    {
      "cell_type": "code",
      "source": [
        "trainSet = CustomDataset(trainDir, transform=transform)\n",
        "validationSet = CustomDataset(testDir, transform=transform)\n",
        "\n",
        "trainLoader = torch.utils.data.DataLoader(trainSet, batch_size=None, shuffle=True)\n",
        "validationLoader = torch.utils.data.DataLoader(validationSet, batch_size = None, shuffle = True)"
      ],
      "metadata": {
        "id": "2OD0pDzgXTYF"
      },
      "execution_count": 6,
      "outputs": []
    },
    {
      "cell_type": "code",
      "source": [
        "print(\"Number of training samples : {}\".format(len(trainLoader)))\n",
        "print(\"Number of validating samples : {}\".format(len(validationLoader)))"
      ],
      "metadata": {
        "colab": {
          "base_uri": "https://localhost:8080/"
        },
        "id": "rNAe2EhjvgYx",
        "outputId": "3858f433-02f8-4fa6-8caf-272e530fe8dc"
      },
      "execution_count": 7,
      "outputs": [
        {
          "output_type": "stream",
          "name": "stdout",
          "text": [
            "Number of training samples : 1120\n",
            "Number of validating samples : 440\n"
          ]
        }
      ]
    },
    {
      "cell_type": "code",
      "source": [
        "class Autoencoder1(nn.Module):\n",
        "  def __init__(self,channels):\n",
        "    super(Autoencoder1,self).__init__()\n",
        "    self.encoder = nn.Sequential(\n",
        "        nn.Conv2d(channels,64, kernel_size = 3),\n",
        "        nn.Conv2d(64,64,kernel_size = 3, stride = 2),\n",
        "        nn.Conv2d(64,128,kernel_size= 3),\n",
        "        nn.Conv2d(128,128,kernel_size = 3,stride = 2),\n",
        "        nn.Conv2d(128,256,kernel_size = 3),\n",
        "        nn.Conv2d(256,256,kernel_size = 3,stride = 2),\n",
        "        nn.Conv2d(256,512,kernel_size = 3)\n",
        "    )\n",
        "\n",
        "    self.decoder = nn.Sequential(\n",
        "        nn.Conv2d(512,256,kernel_size = 2),\n",
        "        nn.ConvTranspose2d(256,256,kernel_size=4, stride=2, padding=1, output_padding=0),\n",
        "        nn.Conv2d(256,128,kernel_size = 3),\n",
        "        nn.ConvTranspose2d(128,128,kernel_size=4, stride=2, padding=1, output_padding=0),\n",
        "        nn.Conv2d(128,64,kernel_size = 3),\n",
        "        nn.ConvTranspose2d(64,64,kernel_size=4, stride=2, padding=1, output_padding=0),\n",
        "        nn.Conv2d(64,1,kernel_size = 3)\n",
        "    )\n",
        "\n",
        "\n",
        "  def forward(self,x):\n",
        "    x = self.encoder(x)\n",
        "    x = self.decoder(x)\n",
        "\n",
        "    return x"
      ],
      "metadata": {
        "id": "mUvldmB7Xepl"
      },
      "execution_count": 8,
      "outputs": []
    },
    {
      "cell_type": "code",
      "source": [
        "class Autoencoder2(nn.Module):\n",
        "    def __init__(self):\n",
        "        super(Autoencoder2, self).__init__()\n",
        "        self.encoder = nn.Sequential(\n",
        "            nn.Conv2d(5, 32, kernel_size=3, stride=1, padding=1),\n",
        "            nn.ReLU(),\n",
        "            nn.MaxPool2d(kernel_size=2, stride=2),\n",
        "            nn.Conv2d(32, 16, kernel_size=3, stride=1, padding=1),\n",
        "            nn.ReLU(),\n",
        "            nn.MaxPool2d(kernel_size=2, stride=2)\n",
        "        )\n",
        "        self.decoder = nn.Sequential(\n",
        "            nn.ConvTranspose2d(16, 32, kernel_size=3, stride=2, padding=1, output_padding=1),\n",
        "            nn.ReLU(),\n",
        "            nn.ConvTranspose2d(32, 1, kernel_size=3, stride=2, padding=1, output_padding=1),\n",
        "            nn.Sigmoid()\n",
        "        )\n",
        "\n",
        "    def forward(self, x):\n",
        "        x = self.encoder(x)\n",
        "        x = self.decoder(x)\n",
        "        return x"
      ],
      "metadata": {
        "id": "jQ4F4_W5agWh"
      },
      "execution_count": 9,
      "outputs": []
    },
    {
      "cell_type": "code",
      "source": [
        "autoenc = Autoencoder2()"
      ],
      "metadata": {
        "id": "NfD2SYtexkmo"
      },
      "execution_count": 10,
      "outputs": []
    },
    {
      "cell_type": "code",
      "source": [
        "\n",
        "def trainer(model,trainLoader,validationLoader,epochs,lossFn,optimizer,trainLoss,validLoss,device,batchSize):\n",
        "  print(\"Training has begun.....\")\n",
        "  startTime = time.time()\n",
        "  model = model.to(device)\n",
        "  for epoch in range(epochs):\n",
        "    runningLoss = 0.0\n",
        "    for x, y in trainLoader:\n",
        "      x = x.to(device)\n",
        "      y = y.to(device)\n",
        "      optimizer.zero_grad()\n",
        "      pred = model(x)\n",
        "      loss = lossFn(pred,y)\n",
        "      loss.backward()\n",
        "      optimizer.step()\n",
        "      runningLoss += loss.item()\n",
        "    trainLoss.append(runningLoss/(len(trainLoader)/batchSize))\n",
        "\n",
        "    with torch.no_grad():\n",
        "      valLoss = 0.0\n",
        "      for x, y in validationLoader:\n",
        "        x = x.to(device)\n",
        "        y = y.to(device)\n",
        "        pred = model(x)\n",
        "        loss = lossFn(pred,y)\n",
        "        valLoss += loss.item()\n",
        "      validLoss.append(valLoss/(len(validationLoader)/batchSize))\n",
        "\n",
        "    print(f\"Epoch {epoch+1}/{epochs}, Training Loss: {runningLoss/len(trainLoader)}, Validation Loss: {valLoss/len(validationLoader)}\")\n",
        "  print(f\"Training is complete......\")\n",
        "  print(\"--- %s seconds ---\" % (time.time() - startTime))\n",
        "\n",
        "\n",
        "\n",
        "\n",
        "\n",
        "\n",
        "\n",
        "\n",
        "\n",
        "\n",
        "      \n"
      ],
      "metadata": {
        "id": "yiWvAmOsXTQ2"
      },
      "execution_count": 11,
      "outputs": []
    },
    {
      "cell_type": "code",
      "source": [
        "criterion = nn.BCELoss()\n",
        "optimizer = optim.Adam(autoenc.parameters(), lr=0.001)\n",
        "batchSize = 1\n",
        "device = torch.device('cuda' if torch.cuda.is_available() else 'cpu')\n",
        "eps = 50\n",
        "trainArr = []\n",
        "validArr = []"
      ],
      "metadata": {
        "id": "y3mUQ_3PbUWI"
      },
      "execution_count": 12,
      "outputs": []
    },
    {
      "cell_type": "code",
      "source": [
        "if device.type == 'cuda':\n",
        "    print(torch.cuda.get_device_name(0))\n",
        "    print('Memory Usage:')\n",
        "    print('Allocated:', round(torch.cuda.memory_allocated(0)/1024**3,1), 'GB')\n",
        "    print('Cached:   ', round(torch.cuda.memory_reserved(0)/1024**3,1), 'GB')"
      ],
      "metadata": {
        "id": "XYmsbh0sbpFR",
        "colab": {
          "base_uri": "https://localhost:8080/"
        },
        "outputId": "8110c038-0d51-4fd4-9046-d73780816ca5"
      },
      "execution_count": 13,
      "outputs": [
        {
          "output_type": "stream",
          "name": "stdout",
          "text": [
            "Tesla T4\n",
            "Memory Usage:\n",
            "Allocated: 0.0 GB\n",
            "Cached:    0.0 GB\n"
          ]
        }
      ]
    },
    {
      "cell_type": "code",
      "source": [
        "trainer(autoenc,trainLoader,validationLoader,eps,criterion,optimizer,trainArr,validArr,device,batchSize)"
      ],
      "metadata": {
        "colab": {
          "base_uri": "https://localhost:8080/"
        },
        "id": "uxlNxeGVcdIH",
        "outputId": "d0992fe4-28e0-4a04-c0ac-653cd79a51aa"
      },
      "execution_count": 14,
      "outputs": [
        {
          "output_type": "stream",
          "name": "stdout",
          "text": [
            "Training has begun.....\n",
            "Epoch 1/50, Training Loss: 0.2530073556728634, Validation Loss: 0.15218135959638113\n",
            "Epoch 2/50, Training Loss: 0.20709206789610368, Validation Loss: 0.14397444204871795\n",
            "Epoch 3/50, Training Loss: 0.19974378382788538, Validation Loss: 0.20465723172846165\n",
            "Epoch 4/50, Training Loss: 0.18883570232223973, Validation Loss: 0.1672981348507826\n",
            "Epoch 5/50, Training Loss: 0.18479446608376812, Validation Loss: 0.15942754139277068\n",
            "Epoch 6/50, Training Loss: 0.18386069777075298, Validation Loss: 0.20746536347836994\n",
            "Epoch 7/50, Training Loss: 0.183265131433853, Validation Loss: 0.17410014590318496\n",
            "Epoch 8/50, Training Loss: 0.1828144009075751, Validation Loss: 0.16998743533845714\n",
            "Epoch 9/50, Training Loss: 0.19242410303898064, Validation Loss: 0.1703021538233026\n",
            "Epoch 10/50, Training Loss: 0.18589681974648817, Validation Loss: 0.15545745105350348\n",
            "Epoch 11/50, Training Loss: 0.18581347215463373, Validation Loss: 0.17087129569240048\n",
            "Epoch 12/50, Training Loss: 0.18456626633497666, Validation Loss: 0.17348536540969856\n",
            "Epoch 13/50, Training Loss: 0.17804131860995775, Validation Loss: 0.18711282999456672\n",
            "Epoch 14/50, Training Loss: 0.17851037961722896, Validation Loss: 0.19046122486387587\n",
            "Epoch 15/50, Training Loss: 0.17659671411741867, Validation Loss: 0.18540601106360555\n",
            "Epoch 16/50, Training Loss: 0.1730776813981531, Validation Loss: 0.19121569502515492\n",
            "Epoch 17/50, Training Loss: 0.17297174615556235, Validation Loss: 0.18848898274809472\n",
            "Epoch 18/50, Training Loss: 0.17475536473051756, Validation Loss: 0.21066745726769692\n",
            "Epoch 19/50, Training Loss: 0.17025372685450527, Validation Loss: 0.1886176118200059\n",
            "Epoch 20/50, Training Loss: 0.17296090234405392, Validation Loss: 0.2118897718474066\n",
            "Epoch 21/50, Training Loss: 0.1737467905954799, Validation Loss: 0.2025946710732321\n",
            "Epoch 22/50, Training Loss: 0.17296507945836218, Validation Loss: 0.19005255072889585\n",
            "Epoch 23/50, Training Loss: 0.1815702080663701, Validation Loss: 0.1903179028862558\n",
            "Epoch 24/50, Training Loss: 0.1748713523899253, Validation Loss: 0.19419919264265775\n",
            "Epoch 25/50, Training Loss: 0.17106710761792993, Validation Loss: 0.1971905533612285\n",
            "Epoch 26/50, Training Loss: 0.16908249094886182, Validation Loss: 0.22081010490395658\n",
            "Epoch 27/50, Training Loss: 0.1763989192664474, Validation Loss: 0.20112014773053075\n",
            "Epoch 28/50, Training Loss: 0.17002189305823745, Validation Loss: 0.2013733459782915\n",
            "Epoch 29/50, Training Loss: 0.16930525791714338, Validation Loss: 0.21592234903589336\n",
            "Epoch 30/50, Training Loss: 0.16661799471639482, Validation Loss: 0.2317857925323055\n",
            "Epoch 31/50, Training Loss: 0.16669258033373202, Validation Loss: 0.24494940836653273\n",
            "Epoch 32/50, Training Loss: 0.16946766736751898, Validation Loss: 0.2227583640086116\n",
            "Epoch 33/50, Training Loss: 0.16379224050961583, Validation Loss: 0.2177658472498396\n",
            "Epoch 34/50, Training Loss: 0.16553299055382228, Validation Loss: 0.22130931963376332\n",
            "Epoch 35/50, Training Loss: 0.16693677463323062, Validation Loss: 0.23846769087848027\n",
            "Epoch 36/50, Training Loss: 0.17039027464324086, Validation Loss: 0.21503629362650414\n",
            "Epoch 37/50, Training Loss: 0.16351501711974004, Validation Loss: 0.20967047799209798\n",
            "Epoch 38/50, Training Loss: 0.1638567319983498, Validation Loss: 0.23343231218067642\n",
            "Epoch 39/50, Training Loss: 0.16679443080674486, Validation Loss: 0.23093571028335977\n",
            "Epoch 40/50, Training Loss: 0.16969896013048305, Validation Loss: 0.26463286718038975\n",
            "Epoch 41/50, Training Loss: 0.1650911584145777, Validation Loss: 0.22250143520963817\n",
            "Epoch 42/50, Training Loss: 0.16477410992319988, Validation Loss: 0.24640162260842646\n",
            "Epoch 43/50, Training Loss: 0.16172766279029913, Validation Loss: 0.2546517340750791\n",
            "Epoch 44/50, Training Loss: 0.1692488178075456, Validation Loss: 0.2682596108535155\n",
            "Epoch 45/50, Training Loss: 0.16416365031005714, Validation Loss: 0.2906277656929209\n",
            "Epoch 46/50, Training Loss: 0.16553243668332862, Validation Loss: 0.271490910843249\n",
            "Epoch 47/50, Training Loss: 0.16865914292645037, Validation Loss: 0.26388796095465844\n",
            "Epoch 48/50, Training Loss: 0.16236488165947421, Validation Loss: 0.2637896310288472\n",
            "Epoch 49/50, Training Loss: 0.1640533803553708, Validation Loss: 0.26110297963555346\n",
            "Epoch 50/50, Training Loss: 0.1611477148740187, Validation Loss: 0.29679596099334044\n",
            "Training is complete......\n",
            "--- 428.66512870788574 seconds ---\n"
          ]
        }
      ]
    },
    {
      "cell_type": "code",
      "source": [
        "plt.plot(trainArr, label='training loss')\n",
        "plt.plot(validArr, label='validation loss')\n",
        "plt.title('Loss at the end of each epoch')\n",
        "plt.legend();"
      ],
      "metadata": {
        "id": "lS3ob3qicuAC",
        "colab": {
          "base_uri": "https://localhost:8080/",
          "height": 281
        },
        "outputId": "747ac950-bafa-4bd5-a917-ccaf80a338b8"
      },
      "execution_count": 15,
      "outputs": [
        {
          "output_type": "display_data",
          "data": {
            "text/plain": [
              "<Figure size 432x288 with 1 Axes>"
            ],
            "image/png": "[encoded data removed]"
          },
          "metadata": {
            "needs_background": "light"
          }
        }
      ]
    },
    {
      "cell_type": "code",
      "source": [],
      "metadata": {
        "id": "4wlsFGCDhg87"
      },
      "execution_count": null,
      "outputs": []
    }
  ]
}