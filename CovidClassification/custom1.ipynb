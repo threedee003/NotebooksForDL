{
 "cells": [
  {
   "cell_type": "code",
   "execution_count": 4,
   "id": "477840cc",
   "metadata": {},
   "outputs": [],
   "source": [
    "import pandas as pd\n",
    "import numpy as np\n",
    "import matplotlib.pyplot as plt\n",
    "import torch\n",
    "import torch.nn as nn\n",
    "import torch.optim as optim\n",
    "import torchvision.transforms as transforms\n",
    "import torchvision\n",
    "from skimage import io\n",
    "from torch.utils.data import Dataset,DataLoader\n",
    "import os\n",
    "import torch.nn.functional as F\n",
    "from torch.utils.data import random_split\n",
    "from sklearn.metrics import classification_report"
   ]
  },
  {
   "cell_type": "code",
   "execution_count": 2,
   "id": "6e6fe9d2",
   "metadata": {},
   "outputs": [],
   "source": [
    "data = r'A:\\two class data\\2class'\n",
    "meta = r'A:\\two class data\\met2.csv'"
   ]
  },
  {
   "cell_type": "code",
   "execution_count": 3,
   "id": "b8b02d88",
   "metadata": {},
   "outputs": [],
   "source": [
    "class Custom(Dataset):\n",
    "    def __init__(self, data_dir, transform):      \n",
    "    \n",
    "        # path to images\n",
    "        path2data=os.path.join(data_dir)\n",
    "\n",
    "        # get list of images\n",
    "        filenames = os.listdir(path2data)\n",
    "\n",
    "        # get the full path to images\n",
    "        self.full_filenames = [os.path.join(path2data, f) for f in filenames]\n",
    "\n",
    "        # labels are in a csv file named train_labels.csv\n",
    "        path2csvLabels=os.path.join(meta)\n",
    "        labels_df=pd.read_csv(path2csvLabels)\n",
    "\n",
    "        # set data frame index to id\n",
    "        labels_df.set_index(\"ID\", inplace=True)\n",
    "\n",
    "        # obtain labels from data frame\n",
    "        self.labels = [labels_df.loc[filename[:-4]].values[0] for filename in filenames]\n",
    "\n",
    "        self.transform = transform\n",
    "      \n",
    "    def __len__(self):\n",
    "        # return size of dataset\n",
    "        return len(self.full_filenames)\n",
    "      \n",
    "    def __getitem__(self, idx):\n",
    "        # open image, apply transforms and return with label\n",
    "        image = io.imread(self.full_filenames[idx]) # PIL image\n",
    "        image = self.transform(image)\n",
    "        return image, self.labels[idx]"
   ]
  },
  {
   "cell_type": "code",
   "execution_count": 4,
   "id": "e0ea01ad",
   "metadata": {},
   "outputs": [],
   "source": [
    "data_transformer = transforms.Compose([transforms.ToTensor(),transforms.CenterCrop(224),transforms.RandomHorizontalFlip(p=0.5),transforms.RandomVerticalFlip(p=0.5),transforms.RandomRotation(degrees=(0, 180))])\n",
    "dataset = Custom(data,data_transformer)"
   ]
  },
  {
   "cell_type": "code",
   "execution_count": 5,
   "id": "d12d8bbb",
   "metadata": {},
   "outputs": [
    {
     "name": "stdout",
     "output_type": "stream",
     "text": [
      "validation dataset length: 1447\n",
      "Train dataset length:  5206\n",
      "Test dataset length:  579\n"
     ]
    }
   ],
   "source": [
    "len_histo = len(dataset)\n",
    "len_train = int(0.8*len_histo)                 #length of training data = 80% of total data\n",
    "len_val = len_histo-len_train\n",
    "\n",
    "TrainTest_ds,Val_ds=random_split(dataset,[len_train,len_val])      #spilt the data\n",
    "\n",
    "\n",
    "print(\"validation dataset length:\", len(Val_ds))\n",
    "\n",
    "\n",
    "\n",
    "\n",
    "length = len(TrainTest_ds)\n",
    "len_train = int(0.9*length)\n",
    "len_test = length-len_train\n",
    "\n",
    "Train_ds,Test_ds = random_split(TrainTest_ds,[len_train,len_test])\n",
    "\n",
    "print('Train dataset length: ',len(Train_ds))\n",
    "print('Test dataset length: ',len(Test_ds))"
   ]
  },
  {
   "cell_type": "code",
   "execution_count": 6,
   "id": "19cfd3be",
   "metadata": {},
   "outputs": [],
   "source": [
    "train_dl = DataLoader(Train_ds, batch_size=16, shuffle=True)\n",
    "val_dl = DataLoader(Val_ds, batch_size=16, shuffle=True)  \n",
    "test_dl = DataLoader(Test_ds,batch_size=16, shuffle=False)"
   ]
  },
  {
   "cell_type": "code",
   "execution_count": 7,
   "id": "dd67d18f",
   "metadata": {},
   "outputs": [
    {
     "name": "stdout",
     "output_type": "stream",
     "text": [
      "torch.Size([16, 1, 224, 224])\n",
      "torch.Size([16])\n"
     ]
    }
   ],
   "source": [
    "for batch,(x,y) in enumerate(val_dl):\n",
    "  print(x.shape)\n",
    "  print(y.shape)\n",
    "  break"
   ]
  },
  {
   "cell_type": "code",
   "execution_count": 8,
   "id": "e0176306",
   "metadata": {},
   "outputs": [],
   "source": [
    "class CovNet(nn.Module):\n",
    "    def __init__(self,num_classes):\n",
    "        super(CovNet,self).__init__()\n",
    "        self.features = nn.Sequential(\n",
    "            nn.Conv2d(1,32,kernel_size=5),\n",
    "            nn.PReLU(),\n",
    "            nn.MaxPool2d(2,2),\n",
    "            nn.Conv2d(32,64,kernel_size=5),\n",
    "            nn.PReLU(),\n",
    "            nn.MaxPool2d(2,2),\n",
    "            nn.Conv2d(64,128,kernel_size=4),\n",
    "            nn.PReLU(),\n",
    "            nn.MaxPool2d(2,2),\n",
    "            nn.Conv2d(128,256,kernel_size=4),\n",
    "            nn.PReLU(),\n",
    "            nn.MaxPool2d(2,2),\n",
    "            nn.Conv2d(256,512,kernel_size=4),\n",
    "            nn.PReLU(),\n",
    "            nn.MaxPool2d(2,2)\n",
    "        )\n",
    "        \n",
    "        self.avg = nn.AdaptiveAvgPool2d((5,5))\n",
    "        self.cls = nn.Sequential(\n",
    "            nn.Linear(512*4*4,1000),\n",
    "            nn.PReLU(),\n",
    "            nn.Dropout(0.5),\n",
    "            nn.Linear(1000,1000),\n",
    "            nn.PReLU(),\n",
    "            nn.Dropout(0.5),\n",
    "            nn.Linear(1000,num_classes)\n",
    "        )\n",
    "        \n",
    "    def forward(self,x):\n",
    "        x = self.features(x)\n",
    "        #x = self.avg(x)\n",
    "        x = torch.flatten(x,1)\n",
    "        x = self.cls(x)\n",
    "        \n",
    "        return F.log_softmax(x,dim=1)"
   ]
  },
  {
   "cell_type": "code",
   "execution_count": 9,
   "id": "a70385ea",
   "metadata": {},
   "outputs": [],
   "source": [
    "device = torch.device('cuda' if torch.cuda.is_available() else 'cpu')"
   ]
  },
  {
   "cell_type": "code",
   "execution_count": 10,
   "id": "3d0b8ff0",
   "metadata": {},
   "outputs": [],
   "source": [
    "CNN = CovNet(2)\n",
    "CNN.to(device)\n",
    "optiM = optim.Adam(CNN.parameters(),lr=0.0001)"
   ]
  },
  {
   "cell_type": "code",
   "execution_count": 11,
   "id": "80c9deea",
   "metadata": {},
   "outputs": [
    {
     "name": "stdout",
     "output_type": "stream",
     "text": [
      "GeForce GTX 1650\n",
      "Memory Usage:\n",
      "Allocated: 0.0 GB\n",
      "Cached:    0.1 GB\n"
     ]
    }
   ],
   "source": [
    "\n",
    "if device.type == 'cuda':\n",
    "    print(torch.cuda.get_device_name(0))\n",
    "    print('Memory Usage:')\n",
    "    print('Allocated:', round(torch.cuda.memory_allocated(0)/1024**3,1), 'GB')\n",
    "    print('Cached:   ', round(torch.cuda.memory_reserved(0)/1024**3,1), 'GB')"
   ]
  },
  {
   "cell_type": "code",
   "execution_count": 12,
   "id": "52605f53-f3bb-47a3-93e5-78139227585e",
   "metadata": {},
   "outputs": [
    {
     "name": "stderr",
     "output_type": "stream",
     "text": [
      "C:\\Users\\dhart\\anaconda3\\envs\\work\\lib\\site-packages\\torch\\nn\\functional.py:718: UserWarning: Named tensors and all their associated APIs are an experimental feature and subject to change. Please do not use them for anything important until they are released as stable. (Triggered internally at  ..\\c10/core/TensorImpl.h:1156.)\n",
      "  return torch.max_pool2d(input, kernel_size, stride, padding, dilation, ceil_mode)\n"
     ]
    },
    {
     "name": "stdout",
     "output_type": "stream",
     "text": [
      "==========================================================================================\n",
      "Layer (type:depth-idx)                   Output Shape              Param #\n",
      "==========================================================================================\n",
      "├─Sequential: 1-1                        [-1, 512, 4, 4]           --\n",
      "|    └─Conv2d: 2-1                       [-1, 32, 220, 220]        832\n",
      "|    └─PReLU: 2-2                        [-1, 32, 220, 220]        1\n",
      "|    └─MaxPool2d: 2-3                    [-1, 32, 110, 110]        --\n",
      "|    └─Conv2d: 2-4                       [-1, 64, 106, 106]        51,264\n",
      "|    └─PReLU: 2-5                        [-1, 64, 106, 106]        1\n",
      "|    └─MaxPool2d: 2-6                    [-1, 64, 53, 53]          --\n",
      "|    └─Conv2d: 2-7                       [-1, 128, 50, 50]         131,200\n",
      "|    └─PReLU: 2-8                        [-1, 128, 50, 50]         1\n",
      "|    └─MaxPool2d: 2-9                    [-1, 128, 25, 25]         --\n",
      "|    └─Conv2d: 2-10                      [-1, 256, 22, 22]         524,544\n",
      "|    └─PReLU: 2-11                       [-1, 256, 22, 22]         1\n",
      "|    └─MaxPool2d: 2-12                   [-1, 256, 11, 11]         --\n",
      "|    └─Conv2d: 2-13                      [-1, 512, 8, 8]           2,097,664\n",
      "|    └─PReLU: 2-14                       [-1, 512, 8, 8]           1\n",
      "|    └─MaxPool2d: 2-15                   [-1, 512, 4, 4]           --\n",
      "├─Sequential: 1-2                        [-1, 2]                   --\n",
      "|    └─Linear: 2-16                      [-1, 1000]                8,193,000\n",
      "|    └─PReLU: 2-17                       [-1, 1000]                1\n",
      "|    └─Dropout: 2-18                     [-1, 1000]                --\n",
      "|    └─Linear: 2-19                      [-1, 1000]                1,001,000\n",
      "|    └─PReLU: 2-20                       [-1, 1000]                1\n",
      "|    └─Dropout: 2-21                     [-1, 1000]                --\n",
      "|    └─Linear: 2-22                      [-1, 2]                   2,002\n",
      "==========================================================================================\n",
      "Total params: 12,001,513\n",
      "Trainable params: 12,001,513\n",
      "Non-trainable params: 0\n",
      "Total mult-adds (G): 1.35\n",
      "==========================================================================================\n",
      "Input size (MB): 0.19\n",
      "Forward/backward pass size (MB): 41.91\n",
      "Params size (MB): 45.78\n",
      "Estimated Total Size (MB): 87.88\n",
      "==========================================================================================\n"
     ]
    },
    {
     "data": {
      "text/plain": [
       "==========================================================================================\n",
       "Layer (type:depth-idx)                   Output Shape              Param #\n",
       "==========================================================================================\n",
       "├─Sequential: 1-1                        [-1, 512, 4, 4]           --\n",
       "|    └─Conv2d: 2-1                       [-1, 32, 220, 220]        832\n",
       "|    └─PReLU: 2-2                        [-1, 32, 220, 220]        1\n",
       "|    └─MaxPool2d: 2-3                    [-1, 32, 110, 110]        --\n",
       "|    └─Conv2d: 2-4                       [-1, 64, 106, 106]        51,264\n",
       "|    └─PReLU: 2-5                        [-1, 64, 106, 106]        1\n",
       "|    └─MaxPool2d: 2-6                    [-1, 64, 53, 53]          --\n",
       "|    └─Conv2d: 2-7                       [-1, 128, 50, 50]         131,200\n",
       "|    └─PReLU: 2-8                        [-1, 128, 50, 50]         1\n",
       "|    └─MaxPool2d: 2-9                    [-1, 128, 25, 25]         --\n",
       "|    └─Conv2d: 2-10                      [-1, 256, 22, 22]         524,544\n",
       "|    └─PReLU: 2-11                       [-1, 256, 22, 22]         1\n",
       "|    └─MaxPool2d: 2-12                   [-1, 256, 11, 11]         --\n",
       "|    └─Conv2d: 2-13                      [-1, 512, 8, 8]           2,097,664\n",
       "|    └─PReLU: 2-14                       [-1, 512, 8, 8]           1\n",
       "|    └─MaxPool2d: 2-15                   [-1, 512, 4, 4]           --\n",
       "├─Sequential: 1-2                        [-1, 2]                   --\n",
       "|    └─Linear: 2-16                      [-1, 1000]                8,193,000\n",
       "|    └─PReLU: 2-17                       [-1, 1000]                1\n",
       "|    └─Dropout: 2-18                     [-1, 1000]                --\n",
       "|    └─Linear: 2-19                      [-1, 1000]                1,001,000\n",
       "|    └─PReLU: 2-20                       [-1, 1000]                1\n",
       "|    └─Dropout: 2-21                     [-1, 1000]                --\n",
       "|    └─Linear: 2-22                      [-1, 2]                   2,002\n",
       "==========================================================================================\n",
       "Total params: 12,001,513\n",
       "Trainable params: 12,001,513\n",
       "Non-trainable params: 0\n",
       "Total mult-adds (G): 1.35\n",
       "==========================================================================================\n",
       "Input size (MB): 0.19\n",
       "Forward/backward pass size (MB): 41.91\n",
       "Params size (MB): 45.78\n",
       "Estimated Total Size (MB): 87.88\n",
       "=========================================================================================="
      ]
     },
     "execution_count": 12,
     "metadata": {},
     "output_type": "execute_result"
    }
   ],
   "source": [
    "from torchsummary import summary\n",
    "summary(CNN,(1,224,224))"
   ]
  },
  {
   "cell_type": "code",
   "execution_count": 13,
   "id": "0d43a3f2",
   "metadata": {},
   "outputs": [],
   "source": [
    "train_losses = []\n",
    "val_losses = []\n",
    "train_accuracy = []\n",
    "val_accuracy = []"
   ]
  },
  {
   "cell_type": "code",
   "execution_count": 14,
   "id": "e4b82900",
   "metadata": {},
   "outputs": [],
   "source": [
    "def train(model,train_loader,validation_loader,loss_fn,optimizer,n_epochs,device):\n",
    "    model = model.to(device)\n",
    "    for epoch in range(n_epochs):\n",
    "        training_loss = 0\n",
    "        train_corr = 0\n",
    "        totals = 0\n",
    "        model.train()\n",
    "        for batch in train_loader:\n",
    "            optimizer.zero_grad()\n",
    "            input ,target = batch\n",
    "            input = input.to(device)\n",
    "            target = target.to(device)\n",
    "            output = model(input)\n",
    "            loss = loss_fn(output,target)\n",
    "            loss.backward()\n",
    "            optimizer.step()\n",
    "            training_loss += loss.item()*target.size(0)\n",
    "            totals += target.size(0)\n",
    "            predicted = torch.argmax(output,1)\n",
    "            train_corr += (predicted == target).sum().item()\n",
    "\n",
    "\n",
    "\n",
    "        validation_loss = 0\n",
    "        val_corr = 0\n",
    "        total = 0\n",
    "        model.eval()\n",
    "        with torch.no_grad():\n",
    "            for batch in validation_loader:\n",
    "                input ,target = batch\n",
    "                input = input.to(device)\n",
    "                target = target.to(device)\n",
    "                output = model(input)\n",
    "                loss = loss_fn(output,target)\n",
    "                total += target.size(0)\n",
    "                validation_loss += loss.item()*target.size(0)\n",
    "                predicted = torch.argmax(output,1)\n",
    "                val_corr += (predicted == target).sum().item()\n",
    "\n",
    "\n",
    "        train_acc = train_corr/totals*100\n",
    "        val_acc = val_corr/total*100\n",
    "        training_loss = training_loss/totals\n",
    "        validation_loss = validation_loss/total\n",
    "        train_losses.append(training_loss)\n",
    "        val_losses.append(validation_loss)\n",
    "        train_accuracy.append(train_acc)\n",
    "        val_accuracy.append(val_acc)\n",
    "\n",
    "\n",
    "    \n",
    "        print('Epoch : {}/{} ...Training Acc : {:.6f}     Training Loss : {:.6f}     Validation Acc : {:.6f}     Validation Loss : {:.6f}'.format(epoch+1,n_epochs,train_acc,training_loss,val_acc,validation_loss))\n",
    "\n",
    "\n",
    "\n",
    "\n",
    "\n",
    "      "
   ]
  },
  {
   "cell_type": "code",
   "execution_count": 15,
   "id": "4d0ac614",
   "metadata": {},
   "outputs": [
    {
     "name": "stdout",
     "output_type": "stream",
     "text": [
      "Epoch : 1/100 ...Training Acc : 55.436035     Training Loss : 0.680891     Validation Acc : 65.445750     Validation Loss : 0.644097\n",
      "Epoch : 2/100 ...Training Acc : 70.169036     Training Loss : 0.573809     Validation Acc : 67.311679     Validation Loss : 0.591371\n",
      "Epoch : 3/100 ...Training Acc : 77.180177     Training Loss : 0.482370     Validation Acc : 78.645473     Validation Loss : 0.441986\n",
      "Epoch : 4/100 ...Training Acc : 79.427584     Training Loss : 0.444027     Validation Acc : 75.604699     Validation Loss : 0.490876\n",
      "Epoch : 5/100 ...Training Acc : 80.503265     Training Loss : 0.428274     Validation Acc : 80.787837     Validation Loss : 0.411638\n",
      "Epoch : 6/100 ...Training Acc : 81.444487     Training Loss : 0.402335     Validation Acc : 82.584658     Validation Loss : 0.388123\n",
      "Epoch : 7/100 ...Training Acc : 83.077219     Training Loss : 0.374852     Validation Acc : 82.584658     Validation Loss : 0.372736\n",
      "Epoch : 8/100 ...Training Acc : 83.960814     Training Loss : 0.367396     Validation Acc : 83.897719     Validation Loss : 0.337349\n",
      "Epoch : 9/100 ...Training Acc : 84.709950     Training Loss : 0.341679     Validation Acc : 85.763649     Validation Loss : 0.350433\n",
      "Epoch : 10/100 ...Training Acc : 85.651172     Training Loss : 0.328607     Validation Acc : 83.413960     Validation Loss : 0.359243\n",
      "Epoch : 11/100 ...Training Acc : 86.131387     Training Loss : 0.317191     Validation Acc : 85.003455     Validation Loss : 0.358537\n",
      "Epoch : 12/100 ...Training Acc : 87.360738     Training Loss : 0.295871     Validation Acc : 80.373186     Validation Loss : 0.437066\n",
      "Epoch : 13/100 ...Training Acc : 87.226277     Training Loss : 0.291484     Validation Acc : 86.731168     Validation Loss : 0.310742\n",
      "Epoch : 14/100 ...Training Acc : 87.994622     Training Loss : 0.284473     Validation Acc : 86.385625     Validation Loss : 0.300732\n",
      "Epoch : 15/100 ...Training Acc : 88.052247     Training Loss : 0.274397     Validation Acc : 87.007602     Validation Loss : 0.283040\n",
      "Epoch : 16/100 ...Training Acc : 89.089512     Training Loss : 0.265639     Validation Acc : 88.942640     Validation Loss : 0.269418\n",
      "Epoch : 17/100 ...Training Acc : 88.839800     Training Loss : 0.266765     Validation Acc : 88.182446     Validation Loss : 0.273446\n",
      "Epoch : 18/100 ...Training Acc : 89.031886     Training Loss : 0.251641     Validation Acc : 88.251555     Validation Loss : 0.275731\n",
      "Epoch : 19/100 ...Training Acc : 89.358433     Training Loss : 0.253066     Validation Acc : 89.357291     Validation Loss : 0.247812\n",
      "Epoch : 20/100 ...Training Acc : 90.376489     Training Loss : 0.229722     Validation Acc : 89.288182     Validation Loss : 0.248912\n",
      "Epoch : 21/100 ...Training Acc : 90.126777     Training Loss : 0.237090     Validation Acc : 85.348998     Validation Loss : 0.311955\n",
      "Epoch : 22/100 ...Training Acc : 90.818287     Training Loss : 0.227903     Validation Acc : 89.841050     Validation Loss : 0.231250\n",
      "Epoch : 23/100 ...Training Acc : 91.183250     Training Loss : 0.216110     Validation Acc : 88.597097     Validation Loss : 0.233607\n",
      "Epoch : 24/100 ...Training Acc : 91.471379     Training Loss : 0.213766     Validation Acc : 91.015895     Validation Loss : 0.225647\n",
      "Epoch : 25/100 ...Training Acc : 92.047637     Training Loss : 0.203904     Validation Acc : 90.255701     Validation Loss : 0.229941\n",
      "Epoch : 26/100 ...Training Acc : 91.605839     Training Loss : 0.204436     Validation Acc : 90.324810     Validation Loss : 0.233358\n",
      "Epoch : 27/100 ...Training Acc : 92.527852     Training Loss : 0.190776     Validation Acc : 93.020041     Validation Loss : 0.181791\n",
      "Epoch : 28/100 ...Training Acc : 92.143680     Training Loss : 0.190746     Validation Acc : 93.020041     Validation Loss : 0.181311\n",
      "Epoch : 29/100 ...Training Acc : 92.335766     Training Loss : 0.192629     Validation Acc : 91.706980     Validation Loss : 0.192496\n",
      "Epoch : 30/100 ...Training Acc : 92.700730     Training Loss : 0.183889     Validation Acc : 93.365584     Validation Loss : 0.174701\n",
      "Epoch : 31/100 ...Training Acc : 92.931233     Training Loss : 0.178525     Validation Acc : 90.186593     Validation Loss : 0.229108\n",
      "Epoch : 32/100 ...Training Acc : 92.892816     Training Loss : 0.177431     Validation Acc : 92.812716     Validation Loss : 0.182215\n",
      "Epoch : 33/100 ...Training Acc : 93.142528     Training Loss : 0.171533     Validation Acc : 92.121631     Validation Loss : 0.196072\n",
      "Epoch : 34/100 ...Training Acc : 93.584326     Training Loss : 0.168015     Validation Acc : 93.365584     Validation Loss : 0.169949\n",
      "Epoch : 35/100 ...Training Acc : 93.737995     Training Loss : 0.162193     Validation Acc : 93.918452     Validation Loss : 0.157114\n",
      "Epoch : 36/100 ...Training Acc : 93.949289     Training Loss : 0.156209     Validation Acc : 92.743607     Validation Loss : 0.188904\n",
      "Epoch : 37/100 ...Training Acc : 93.795620     Training Loss : 0.160732     Validation Acc : 90.048376     Validation Loss : 0.243722\n",
      "Epoch : 38/100 ...Training Acc : 93.622743     Training Loss : 0.156067     Validation Acc : 93.987560     Validation Loss : 0.156884\n",
      "Epoch : 39/100 ...Training Acc : 94.487130     Training Loss : 0.143979     Validation Acc : 93.849343     Validation Loss : 0.163037\n",
      "Epoch : 40/100 ...Training Acc : 94.583173     Training Loss : 0.141146     Validation Acc : 93.503801     Validation Loss : 0.155834\n",
      "Epoch : 41/100 ...Training Acc : 94.371879     Training Loss : 0.148573     Validation Acc : 93.918452     Validation Loss : 0.163534\n",
      "Epoch : 42/100 ...Training Acc : 94.064541     Training Loss : 0.144295     Validation Acc : 92.052522     Validation Loss : 0.206773\n",
      "Epoch : 43/100 ...Training Acc : 94.314253     Training Loss : 0.146954     Validation Acc : 95.093296     Validation Loss : 0.141823\n",
      "Epoch : 44/100 ...Training Acc : 94.775259     Training Loss : 0.133891     Validation Acc : 95.715273     Validation Loss : 0.130883\n",
      "Epoch : 45/100 ...Training Acc : 94.871302     Training Loss : 0.133476     Validation Acc : 93.296475     Validation Loss : 0.174248\n",
      "Epoch : 46/100 ...Training Acc : 94.967345     Training Loss : 0.131647     Validation Acc : 94.402211     Validation Loss : 0.160532\n",
      "Epoch : 47/100 ...Training Acc : 94.794468     Training Loss : 0.134821     Validation Acc : 92.674499     Validation Loss : 0.188413\n",
      "Epoch : 48/100 ...Training Acc : 95.562812     Training Loss : 0.123981     Validation Acc : 94.540428     Validation Loss : 0.154437\n",
      "Epoch : 49/100 ...Training Acc : 94.890511     Training Loss : 0.129559     Validation Acc : 93.780235     Validation Loss : 0.159865\n",
      "Epoch : 50/100 ...Training Acc : 95.236266     Training Loss : 0.118991     Validation Acc : 92.881824     Validation Loss : 0.178370\n",
      "Epoch : 51/100 ...Training Acc : 94.928928     Training Loss : 0.125799     Validation Acc : 95.231513     Validation Loss : 0.145823\n",
      "Epoch : 52/100 ...Training Acc : 95.639647     Training Loss : 0.111266     Validation Acc : 94.471320     Validation Loss : 0.146196\n",
      "Epoch : 53/100 ...Training Acc : 95.524395     Training Loss : 0.117009     Validation Acc : 94.194886     Validation Loss : 0.161754\n",
      "Epoch : 54/100 ...Training Acc : 95.255474     Training Loss : 0.120658     Validation Acc : 94.471320     Validation Loss : 0.163724\n",
      "Epoch : 55/100 ...Training Acc : 95.985401     Training Loss : 0.110154     Validation Acc : 95.369730     Validation Loss : 0.127520\n",
      "Epoch : 56/100 ...Training Acc : 95.927776     Training Loss : 0.111440     Validation Acc : 94.194886     Validation Loss : 0.156590\n",
      "Epoch : 57/100 ...Training Acc : 95.409143     Training Loss : 0.113494     Validation Acc : 93.365584     Validation Loss : 0.177500\n",
      "Epoch : 58/100 ...Training Acc : 96.004610     Training Loss : 0.103534     Validation Acc : 94.955079     Validation Loss : 0.136315\n",
      "Epoch : 59/100 ...Training Acc : 96.100653     Training Loss : 0.109396     Validation Acc : 94.955079     Validation Loss : 0.133783\n",
      "Epoch : 60/100 ...Training Acc : 95.812524     Training Loss : 0.114801     Validation Acc : 94.609537     Validation Loss : 0.129727\n",
      "Epoch : 61/100 ...Training Acc : 95.793315     Training Loss : 0.111111     Validation Acc : 95.369730     Validation Loss : 0.131838\n",
      "Epoch : 62/100 ...Training Acc : 96.177488     Training Loss : 0.098182     Validation Acc : 94.263994     Validation Loss : 0.157169\n",
      "Epoch : 63/100 ...Training Acc : 96.600077     Training Loss : 0.095880     Validation Acc : 95.507947     Validation Loss : 0.128256\n",
      "Epoch : 64/100 ...Training Acc : 95.774107     Training Loss : 0.100788     Validation Acc : 95.715273     Validation Loss : 0.125796\n",
      "Epoch : 65/100 ...Training Acc : 96.023819     Training Loss : 0.100789     Validation Acc : 94.955079     Validation Loss : 0.144650\n",
      "Epoch : 66/100 ...Training Acc : 96.273531     Training Loss : 0.096987     Validation Acc : 94.885971     Validation Loss : 0.147180\n",
      "Epoch : 67/100 ...Training Acc : 96.388782     Training Loss : 0.090684     Validation Acc : 94.540428     Validation Loss : 0.153426\n",
      "Epoch : 68/100 ...Training Acc : 96.523242     Training Loss : 0.094690     Validation Acc : 95.300622     Validation Loss : 0.137481\n",
      "Epoch : 69/100 ...Training Acc : 96.484825     Training Loss : 0.088551     Validation Acc : 94.885971     Validation Loss : 0.144243\n",
      "Epoch : 70/100 ...Training Acc : 96.177488     Training Loss : 0.099334     Validation Acc : 96.751900     Validation Loss : 0.107404\n",
      "Epoch : 71/100 ...Training Acc : 96.945832     Training Loss : 0.086312     Validation Acc : 95.024188     Validation Loss : 0.153573\n",
      "Epoch : 72/100 ...Training Acc : 96.619285     Training Loss : 0.085989     Validation Acc : 95.715273     Validation Loss : 0.119158\n",
      "Epoch : 73/100 ...Training Acc : 96.830580     Training Loss : 0.085379     Validation Acc : 95.784381     Validation Loss : 0.125402\n",
      "Epoch : 74/100 ...Training Acc : 96.676911     Training Loss : 0.085159     Validation Acc : 95.369730     Validation Loss : 0.129144\n",
      "Epoch : 75/100 ...Training Acc : 96.676911     Training Loss : 0.093375     Validation Acc : 95.507947     Validation Loss : 0.136588\n",
      "Epoch : 76/100 ...Training Acc : 96.945832     Training Loss : 0.084202     Validation Acc : 95.300622     Validation Loss : 0.135267\n",
      "Epoch : 77/100 ...Training Acc : 97.003458     Training Loss : 0.082367     Validation Acc : 93.780235     Validation Loss : 0.178272\n",
      "Epoch : 78/100 ...Training Acc : 96.888206     Training Loss : 0.083966     Validation Acc : 95.853490     Validation Loss : 0.113648\n",
      "Epoch : 79/100 ...Training Acc : 97.464464     Training Loss : 0.075966     Validation Acc : 95.162405     Validation Loss : 0.139406\n",
      "Epoch : 80/100 ...Training Acc : 96.926623     Training Loss : 0.077860     Validation Acc : 96.129924     Validation Loss : 0.124723\n",
      "Epoch : 81/100 ...Training Acc : 97.176335     Training Loss : 0.077312     Validation Acc : 96.337249     Validation Loss : 0.119296\n",
      "Epoch : 82/100 ...Training Acc : 97.214752     Training Loss : 0.074010     Validation Acc : 95.784381     Validation Loss : 0.134585\n",
      "Epoch : 83/100 ...Training Acc : 97.214752     Training Loss : 0.079290     Validation Acc : 95.922598     Validation Loss : 0.131503\n",
      "Epoch : 84/100 ...Training Acc : 97.214752     Training Loss : 0.075556     Validation Acc : 96.337249     Validation Loss : 0.109648\n",
      "Epoch : 85/100 ...Training Acc : 97.406838     Training Loss : 0.063589     Validation Acc : 95.369730     Validation Loss : 0.134284\n",
      "Epoch : 86/100 ...Training Acc : 97.099501     Training Loss : 0.073488     Validation Acc : 95.991707     Validation Loss : 0.130574\n",
      "Epoch : 87/100 ...Training Acc : 97.694967     Training Loss : 0.062192     Validation Acc : 94.885971     Validation Loss : 0.158069\n",
      "Epoch : 88/100 ...Training Acc : 97.022666     Training Loss : 0.078230     Validation Acc : 96.060815     Validation Loss : 0.117921\n",
      "Epoch : 89/100 ...Training Acc : 97.483673     Training Loss : 0.069196     Validation Acc : 95.369730     Validation Loss : 0.133025\n",
      "Epoch : 90/100 ...Training Acc : 97.771802     Training Loss : 0.061313     Validation Acc : 96.337249     Validation Loss : 0.118742\n",
      "Epoch : 91/100 ...Training Acc : 96.849789     Training Loss : 0.080079     Validation Acc : 95.784381     Validation Loss : 0.120131\n",
      "Epoch : 92/100 ...Training Acc : 97.157126     Training Loss : 0.074126     Validation Acc : 96.060815     Validation Loss : 0.133613\n",
      "Epoch : 93/100 ...Training Acc : 97.714176     Training Loss : 0.066467     Validation Acc : 95.646164     Validation Loss : 0.120271\n",
      "Epoch : 94/100 ...Training Acc : 97.233961     Training Loss : 0.070616     Validation Acc : 95.093296     Validation Loss : 0.141180\n",
      "Epoch : 95/100 ...Training Acc : 97.464464     Training Loss : 0.069514     Validation Acc : 96.060815     Validation Loss : 0.134011\n",
      "Epoch : 96/100 ...Training Acc : 97.675759     Training Loss : 0.064532     Validation Acc : 95.922598     Validation Loss : 0.130571\n",
      "Epoch : 97/100 ...Training Acc : 97.464464     Training Loss : 0.067674     Validation Acc : 96.060815     Validation Loss : 0.114927\n",
      "Epoch : 98/100 ...Training Acc : 97.733385     Training Loss : 0.061592     Validation Acc : 96.060815     Validation Loss : 0.110178\n",
      "Epoch : 99/100 ...Training Acc : 97.637342     Training Loss : 0.062962     Validation Acc : 95.922598     Validation Loss : 0.127620\n",
      "Epoch : 100/100 ...Training Acc : 97.445255     Training Loss : 0.063859     Validation Acc : 95.784381     Validation Loss : 0.145499\n"
     ]
    }
   ],
   "source": [
    "train(CNN,train_dl,val_dl,nn.NLLLoss(),optiM,100,device=device)"
   ]
  },
  {
   "cell_type": "code",
   "execution_count": 16,
   "id": "fa3a71d3",
   "metadata": {},
   "outputs": [
    {
     "data": {
      "image/png": "[encoded data removed]",
      "text/plain": [
       "<Figure size 720x504 with 1 Axes>"
      ]
     },
     "metadata": {
      "needs_background": "light"
     },
     "output_type": "display_data"
    }
   ],
   "source": [
    "plt.figure(figsize=(10,7))\n",
    "plt.rcParams.update({'font.size': 16})\n",
    "plt.plot(train_accuracy, label='training accuracy')\n",
    "plt.plot(val_accuracy, label='validation accuracy')\n",
    "plt.title('Accuracy at the end of each epoch')\n",
    "plt.legend();"
   ]
  },
  {
   "cell_type": "code",
   "execution_count": 17,
   "id": "ab9aedac",
   "metadata": {},
   "outputs": [
    {
     "data": {
      "image/png": "[encoded data removed]",
      "text/plain": [
       "<Figure size 432x288 with 1 Axes>"
      ]
     },
     "metadata": {
      "needs_background": "light"
     },
     "output_type": "display_data"
    }
   ],
   "source": [
    "plt.plot(train_losses, label='training loss')\n",
    "plt.plot(val_losses, label='validation loss')\n",
    "plt.title('Loss at the end of each epoch')\n",
    "plt.legend();"
   ]
  },
  {
   "cell_type": "code",
   "execution_count": 18,
   "id": "4ced7eee",
   "metadata": {},
   "outputs": [],
   "source": [
    "test_losses = []\n",
    "test_accuracy = []"
   ]
  },
  {
   "cell_type": "code",
   "execution_count": 19,
   "id": "6d4e2f37",
   "metadata": {},
   "outputs": [],
   "source": [
    "def test(model,test_loader,loss_fn,n_epochs,device=device):\n",
    "    test_loss = 0\n",
    "    test_corr = 0\n",
    "    totals = 0\n",
    "    y_pred = []\n",
    "    y_true = []\n",
    "    model.eval()\n",
    "    for epoch in range(n_epochs):\n",
    "        with torch.no_grad():\n",
    "            for data in test_loader:\n",
    "                input ,target = data\n",
    "                input = input.to(device)\n",
    "                target = target.to(device)\n",
    "                output = model(input)\n",
    "                loss = loss_fn(output,target)\n",
    "                test_loss += loss.item()*target.size(0)\n",
    "                totals += target.size(0)\n",
    "                predicted = torch.argmax(output,1)\n",
    "                test_corr = (predicted==target).sum().item()\n",
    "                y_true.append(target)\n",
    "                y_pred.append(predicted)\n",
    "\n",
    "        test_loss = test_loss/totals\n",
    "        test_acc = test_corr/totals*100\n",
    "        test_losses.append(test_loss)\n",
    "        test_accuracy.append(test_acc)\n",
    "        print('----------------------------------------------------------------------------')\n",
    "        print('Y_true:{}'.format(y_true))\n",
    "        print('----------------------------------------------------------------------------')\n",
    "        print('Y_pred:{}'.format(y_pred))\n",
    "\n",
    "    "
   ]
  },
  {
   "cell_type": "code",
   "execution_count": 20,
   "id": "804000cf",
   "metadata": {},
   "outputs": [
    {
     "name": "stdout",
     "output_type": "stream",
     "text": [
      "----------------------------------------------------------------------------\n",
      "Y_true:[tensor([1, 0, 1, 1, 0, 0, 0, 0, 0, 0, 0, 1, 1, 1, 1, 0], device='cuda:0'), tensor([1, 0, 0, 0, 0, 0, 1, 1, 1, 1, 1, 1, 0, 0, 0, 0], device='cuda:0'), tensor([1, 1, 1, 0, 0, 1, 0, 1, 0, 0, 0, 1, 0, 1, 1, 0], device='cuda:0'), tensor([1, 1, 0, 0, 0, 0, 1, 0, 0, 0, 0, 1, 0, 1, 1, 1], device='cuda:0'), tensor([1, 0, 1, 0, 1, 1, 1, 1, 0, 1, 1, 0, 0, 1, 0, 1], device='cuda:0'), tensor([1, 1, 0, 1, 1, 1, 1, 0, 0, 0, 1, 0, 1, 0, 1, 1], device='cuda:0'), tensor([1, 1, 1, 1, 0, 0, 1, 0, 1, 0, 1, 0, 0, 1, 0, 1], device='cuda:0'), tensor([0, 0, 1, 1, 0, 0, 1, 1, 0, 1, 1, 0, 0, 1, 1, 1], device='cuda:0'), tensor([0, 0, 1, 1, 0, 0, 0, 0, 1, 1, 0, 0, 0, 0, 1, 1], device='cuda:0'), tensor([0, 0, 0, 0, 0, 0, 0, 0, 0, 0, 1, 1, 0, 0, 0, 1], device='cuda:0'), tensor([1, 1, 0, 0, 0, 1, 1, 0, 1, 1, 1, 1, 1, 1, 0, 0], device='cuda:0'), tensor([0, 1, 1, 0, 0, 0, 0, 0, 1, 0, 0, 0, 0, 1, 1, 0], device='cuda:0'), tensor([1, 1, 0, 1, 0, 0, 0, 1, 0, 0, 0, 0, 0, 1, 0, 1], device='cuda:0'), tensor([1, 0, 1, 1, 1, 1, 0, 1, 1, 0, 1, 1, 0, 0, 0, 1], device='cuda:0'), tensor([0, 0, 0, 1, 0, 0, 0, 1, 1, 0, 0, 0, 1, 1, 1, 1], device='cuda:0'), tensor([1, 1, 0, 1, 0, 1, 1, 1, 0, 1, 0, 0, 1, 1, 1, 1], device='cuda:0'), tensor([0, 1, 1, 1, 0, 1, 0, 1, 0, 0, 0, 1, 1, 1, 0, 1], device='cuda:0'), tensor([1, 0, 1, 0, 0, 0, 0, 1, 0, 0, 0, 0, 1, 1, 1, 1], device='cuda:0'), tensor([1, 0, 1, 0, 0, 0, 0, 1, 1, 1, 0, 1, 1, 1, 0, 1], device='cuda:0'), tensor([0, 0, 1, 0, 1, 0, 0, 1, 0, 1, 0, 1, 0, 0, 0, 0], device='cuda:0'), tensor([0, 0, 1, 1, 0, 1, 1, 0, 1, 0, 0, 1, 0, 1, 0, 1], device='cuda:0'), tensor([1, 1, 0, 0, 0, 0, 1, 0, 1, 1, 1, 1, 0, 0, 0, 0], device='cuda:0'), tensor([1, 1, 0, 1, 0, 0, 1, 1, 1, 0, 1, 1, 0, 0, 1, 0], device='cuda:0'), tensor([0, 0, 0, 1, 1, 1, 0, 0, 0, 0, 1, 0, 0, 1, 1, 1], device='cuda:0'), tensor([0, 1, 1, 0, 0, 1, 0, 1, 1, 0, 0, 0, 0, 0, 1, 1], device='cuda:0'), tensor([1, 1, 0, 0, 0, 0, 0, 1, 0, 1, 0, 0, 1, 0, 0, 0], device='cuda:0'), tensor([1, 0, 1, 0, 1, 1, 0, 1, 1, 0, 0, 0, 0, 1, 0, 1], device='cuda:0'), tensor([0, 0, 0, 0, 0, 1, 1, 0, 1, 0, 1, 0, 1, 0, 0, 0], device='cuda:0'), tensor([1, 1, 1, 0, 1, 1, 1, 0, 0, 0, 0, 0, 1, 1, 0, 0], device='cuda:0'), tensor([0, 1, 0, 1, 0, 0, 1, 1, 0, 0, 1, 1, 0, 0, 1, 1], device='cuda:0'), tensor([1, 0, 0, 0, 1, 0, 1, 0, 0, 1, 1, 1, 1, 1, 0, 0], device='cuda:0'), tensor([0, 1, 1, 0, 1, 0, 0, 1, 0, 1, 1, 0, 0, 1, 1, 0], device='cuda:0'), tensor([1, 0, 1, 0, 0, 1, 0, 1, 0, 0, 1, 1, 1, 0, 1, 1], device='cuda:0'), tensor([1, 0, 1, 1, 0, 1, 0, 0, 0, 1, 0, 0, 0, 0, 1, 0], device='cuda:0'), tensor([1, 1, 0, 1, 1, 0, 0, 0, 0, 0, 0, 0, 1, 1, 1, 0], device='cuda:0'), tensor([0, 1, 1, 1, 0, 1, 1, 0, 0, 0, 0, 0, 1, 1, 1, 1], device='cuda:0'), tensor([1, 1, 0], device='cuda:0')]\n",
      "----------------------------------------------------------------------------\n",
      "Y_pred:[tensor([1, 1, 1, 1, 0, 0, 0, 0, 0, 0, 0, 1, 1, 1, 1, 0], device='cuda:0'), tensor([1, 0, 0, 0, 0, 0, 1, 1, 1, 1, 1, 1, 0, 0, 0, 0], device='cuda:0'), tensor([1, 1, 1, 0, 0, 1, 0, 1, 0, 0, 0, 1, 0, 1, 1, 0], device='cuda:0'), tensor([1, 1, 0, 0, 0, 0, 1, 0, 0, 0, 0, 1, 0, 1, 1, 1], device='cuda:0'), tensor([1, 0, 1, 0, 1, 1, 1, 1, 0, 1, 1, 0, 0, 1, 0, 1], device='cuda:0'), tensor([1, 1, 1, 1, 1, 1, 0, 0, 0, 0, 1, 0, 1, 0, 1, 1], device='cuda:0'), tensor([1, 1, 1, 1, 0, 0, 1, 0, 1, 0, 1, 0, 0, 1, 0, 1], device='cuda:0'), tensor([0, 0, 1, 1, 0, 0, 1, 1, 0, 1, 1, 0, 0, 1, 1, 1], device='cuda:0'), tensor([0, 0, 1, 1, 0, 0, 0, 0, 1, 0, 0, 0, 0, 0, 1, 1], device='cuda:0'), tensor([0, 0, 0, 0, 0, 0, 0, 0, 0, 0, 1, 1, 0, 0, 0, 1], device='cuda:0'), tensor([1, 1, 0, 0, 0, 1, 1, 0, 1, 1, 1, 1, 1, 1, 0, 0], device='cuda:0'), tensor([0, 1, 1, 1, 0, 1, 0, 0, 1, 0, 0, 0, 0, 1, 0, 0], device='cuda:0'), tensor([1, 1, 0, 1, 0, 0, 0, 1, 1, 0, 0, 0, 0, 1, 0, 1], device='cuda:0'), tensor([1, 0, 1, 1, 1, 1, 0, 1, 1, 0, 1, 1, 0, 1, 0, 1], device='cuda:0'), tensor([0, 0, 0, 1, 0, 0, 0, 1, 1, 0, 0, 0, 1, 1, 1, 1], device='cuda:0'), tensor([1, 1, 0, 1, 0, 1, 1, 1, 0, 1, 0, 0, 1, 1, 1, 1], device='cuda:0'), tensor([0, 1, 1, 1, 0, 1, 0, 1, 0, 1, 0, 1, 1, 1, 0, 1], device='cuda:0'), tensor([1, 0, 1, 0, 0, 0, 0, 1, 0, 0, 0, 0, 1, 1, 1, 1], device='cuda:0'), tensor([1, 0, 1, 0, 0, 0, 0, 1, 1, 1, 0, 1, 1, 1, 0, 1], device='cuda:0'), tensor([0, 0, 1, 0, 1, 0, 0, 1, 0, 1, 0, 1, 0, 0, 0, 0], device='cuda:0'), tensor([0, 0, 1, 1, 0, 1, 1, 0, 1, 0, 0, 0, 0, 1, 0, 1], device='cuda:0'), tensor([1, 1, 1, 0, 0, 0, 1, 0, 1, 1, 1, 1, 0, 0, 0, 0], device='cuda:0'), tensor([1, 1, 0, 1, 0, 0, 0, 1, 1, 0, 1, 1, 0, 0, 1, 0], device='cuda:0'), tensor([0, 0, 1, 1, 1, 1, 0, 0, 0, 0, 1, 0, 0, 1, 1, 1], device='cuda:0'), tensor([0, 1, 1, 0, 0, 1, 0, 1, 1, 0, 0, 0, 0, 0, 1, 1], device='cuda:0'), tensor([1, 1, 0, 0, 0, 0, 0, 1, 0, 1, 0, 0, 1, 0, 0, 0], device='cuda:0'), tensor([1, 0, 1, 0, 1, 1, 0, 1, 1, 0, 0, 0, 0, 1, 0, 1], device='cuda:0'), tensor([0, 0, 0, 0, 0, 1, 1, 0, 0, 0, 1, 0, 1, 0, 0, 0], device='cuda:0'), tensor([1, 1, 1, 0, 1, 1, 1, 0, 0, 0, 0, 0, 1, 1, 1, 0], device='cuda:0'), tensor([0, 1, 0, 1, 0, 0, 1, 1, 0, 0, 1, 1, 0, 0, 1, 1], device='cuda:0'), tensor([1, 0, 0, 0, 1, 0, 1, 0, 0, 1, 1, 1, 1, 1, 0, 0], device='cuda:0'), tensor([0, 1, 1, 0, 1, 0, 0, 1, 0, 1, 1, 0, 0, 1, 1, 0], device='cuda:0'), tensor([1, 0, 1, 0, 0, 1, 0, 1, 0, 0, 1, 1, 1, 0, 1, 1], device='cuda:0'), tensor([1, 0, 1, 1, 0, 1, 0, 0, 0, 1, 0, 0, 0, 0, 1, 0], device='cuda:0'), tensor([1, 1, 0, 1, 1, 0, 1, 0, 0, 0, 0, 0, 1, 1, 1, 0], device='cuda:0'), tensor([0, 1, 1, 1, 1, 1, 1, 0, 0, 0, 0, 0, 1, 1, 1, 1], device='cuda:0'), tensor([1, 1, 0], device='cuda:0')]\n"
     ]
    }
   ],
   "source": [
    "test(CNN,test_dl,nn.NLLLoss(),1,device=device)"
   ]
  },
  {
   "cell_type": "code",
   "execution_count": 2,
   "id": "7e8b9efe",
   "metadata": {},
   "outputs": [],
   "source": [
    "y_true = [1, 0, 1, 1, 0, 0, 0, 0, 0, 0, 0, 1, 1, 1, 1, 0,1, 0, 0, 0, 0, 0, 1, 1, 1, 1, 1, 1, 0, 0, 0, 0,1, 1, 1, 0, 0, 1, 0, 1, 0, 0, 0, 1, 0, 1, 1, 0,1, 1, 0, 0, 0, 0, 1, 0, 0, 0, 0, 1, 0, 1, 1, 1,1, 0, 1, 0, 1, 1, 1, 1, 0, 1, 1, 0, 0, 1, 0, 1,1, 1, 0, 1, 1, 1, 1, 0, 0, 0, 1, 0, 1, 0, 1, 1,1, 1, 1, 1, 0, 0, 1, 0, 1, 0, 1, 0, 0, 1, 0, 1,0, 0, 1, 1, 0, 0, 1, 1, 0, 1, 1, 0, 0, 1, 1, 1,0, 0, 1, 1, 0, 0, 0, 0, 1, 1, 0, 0, 0, 0, 1, 1,0, 0, 0, 0, 0, 0, 0, 0, 0, 0, 1, 1, 0, 0, 0, 1,1, 1, 0, 0, 0, 1, 1, 0, 1, 1, 1, 1, 1, 1, 0, 0,0, 1, 1, 0, 0, 0, 0, 0, 1, 0, 0, 0, 0, 1, 1, 0,1, 1, 0, 1, 0, 0, 0, 1, 0, 0, 0, 0, 0, 1, 0, 1,1, 0, 1, 1, 1, 1, 0, 1, 1, 0, 1, 1, 0, 0, 0, 1,0, 0, 0, 1, 0, 0, 0, 1, 1, 0, 0, 0, 1, 1, 1, 1,1, 1, 0, 1, 0, 1, 1, 1, 0, 1, 0, 0, 1, 1, 1, 1,0, 1, 1, 1, 0, 1, 0, 1, 0, 0, 0, 1, 1, 1, 0, 1,1, 0, 1, 0, 0, 0, 0, 1, 0, 0, 0, 0, 1, 1, 1, 1,1, 0, 1, 0, 0, 0, 0, 1, 1, 1, 0, 1, 1, 1, 0, 1,0, 0, 1, 0, 1, 0, 0, 1, 0, 1, 0, 1, 0, 0, 0, 0,0, 0, 1, 1, 0, 1, 1, 0, 1, 0, 0, 1, 0, 1, 0, 1,1, 1, 0, 0, 0, 0, 1, 0, 1, 1, 1, 1, 0, 0, 0, 0,1, 1, 0, 1, 0, 0, 1, 1, 1, 0, 1, 1, 0, 0, 1, 0,0, 0, 0, 1, 1, 1, 0, 0, 0, 0, 1, 0, 0, 1, 1, 1,0, 1, 1, 0, 0, 1, 0, 1, 1, 0, 0, 0, 0, 0, 1, 1,1, 1, 0, 0, 0, 0, 0, 1, 0, 1, 0, 0, 1, 0, 0, 0,1, 0, 1, 0, 1, 1, 0, 1, 1, 0, 0, 0, 0, 1, 0, 1,0, 0, 0, 0, 0, 1, 1, 0, 1, 0, 1, 0, 1, 0, 0, 0,1, 1, 1, 0, 1, 1, 1, 0, 0, 0, 0, 0, 1, 1, 0, 0,0, 1, 0, 1, 0, 0, 1, 1, 0, 0, 1, 1, 0, 0, 1, 1,1, 0, 0, 0, 1, 0, 1, 0, 0, 1, 1, 1, 1, 1, 0, 0,0, 1, 1, 0, 1, 0, 0, 1, 0, 1, 1, 0, 0, 1, 1, 0,1, 0, 1, 0, 0, 1, 0, 1, 0, 0, 1, 1, 1, 0, 1, 1,1, 0, 1, 1, 0, 1, 0, 0, 0, 1, 0, 0, 0, 0, 1, 0,1, 1, 0, 1, 1, 0, 0, 0, 0, 0, 0, 0, 1, 1, 1, 0,0, 1, 1, 1, 0, 1, 1, 0, 0, 0, 0, 0, 1, 1, 1, 1,1, 1, 0]"
   ]
  },
  {
   "cell_type": "code",
   "execution_count": 5,
   "id": "f4bc4089-439b-448a-93e6-d78de25488a2",
   "metadata": {},
   "outputs": [],
   "source": [
    "count = 0\n",
    "for i in range(len(y_true)):\n",
    "    if y_true[i]==1:\n",
    "        count = count+1"
   ]
  },
  {
   "cell_type": "code",
   "execution_count": 7,
   "id": "53b3d5be-ea25-4585-89c3-504b184987d0",
   "metadata": {},
   "outputs": [
    {
     "data": {
      "text/plain": [
       "0.47668393782383417"
      ]
     },
     "execution_count": 7,
     "metadata": {},
     "output_type": "execute_result"
    }
   ],
   "source": [
    "count/579"
   ]
  },
  {
   "cell_type": "code",
   "execution_count": 23,
   "id": "74549814",
   "metadata": {},
   "outputs": [],
   "source": [
    "y_pred = [1, 1, 1, 1, 0, 0, 0, 0, 0, 0, 0, 1, 1, 1, 1, 0,1, 0, 0, 0, 0, 0, 1, 1, 1, 1, 1, 1, 0, 0, 0, 0,1, 1, 1, 0, 0, 1, 0, 1, 0, 0, 0, 1, 0, 1, 1, 0,1, 1, 0, 0, 0, 0, 1, 0, 0, 0, 0, 1, 0, 1, 1, 1,1, 0, 1, 0, 1, 1, 1, 1, 0, 1, 1, 0, 0, 1, 0, 1,1, 1, 1, 1, 1, 1, 0, 0, 0, 0, 1, 0, 1, 0, 1, 1,1, 1, 1, 1, 0, 0, 1, 0, 1, 0, 1, 0, 0, 1, 0, 1,0, 0, 1, 1, 0, 0, 1, 1, 0, 1, 1, 0, 0, 1, 1, 1,0, 0, 1, 1, 0, 0, 0, 0, 1, 0, 0, 0, 0, 0, 1, 1,0, 0, 0, 0, 0, 0, 0, 0, 0, 0, 1, 1, 0, 0, 0, 1,1, 1, 0, 0, 0, 1, 1, 0, 1, 1, 1, 1, 1, 1, 0, 0,0, 1, 1, 1, 0, 1, 0, 0, 1, 0, 0, 0, 0, 1, 0, 0,1, 1, 0, 1, 0, 0, 0, 1, 1, 0, 0, 0, 0, 1, 0, 1,1, 0, 1, 1, 1, 1, 0, 1, 1, 0, 1, 1, 0, 1, 0, 1,0, 0, 0, 1, 0, 0, 0, 1, 1, 0, 0, 0, 1, 1, 1, 1,1, 1, 0, 1, 0, 1, 1, 1, 0, 1, 0, 0, 1, 1, 1, 1,0, 1, 1, 1, 0, 1, 0, 1, 0, 1, 0, 1, 1, 1, 0, 1,1, 0, 1, 0, 0, 0, 0, 1, 0, 0, 0, 0, 1, 1, 1, 1,1, 0, 1, 0, 0, 0, 0, 1, 1, 1, 0, 1, 1, 1, 0, 1,0, 0, 1, 0, 1, 0, 0, 1, 0, 1, 0, 1, 0, 0, 0, 0,0, 0, 1, 1, 0, 1, 1, 0, 1, 0, 0, 0, 0, 1, 0, 1,1, 1, 1, 0, 0, 0, 1, 0, 1, 1, 1, 1, 0, 0, 0, 0,1, 1, 0, 1, 0, 0, 0, 1, 1, 0, 1, 1, 0, 0, 1, 0,0, 0, 1, 1, 1, 1, 0, 0, 0, 0, 1, 0, 0, 1, 1, 1,0, 1, 1, 0, 0, 1, 0, 1, 1, 0, 0, 0, 0, 0, 1, 1,1, 1, 0, 0, 0, 0, 0, 1, 0, 1, 0, 0, 1, 0, 0, 0,1, 0, 1, 0, 1, 1, 0, 1, 1, 0, 0, 0, 0, 1, 0, 1,0, 0, 0, 0, 0, 1, 1, 0, 0, 0, 1, 0, 1, 0, 0, 0,1, 1, 1, 0, 1, 1, 1, 0, 0, 0, 0, 0, 1, 1, 1, 0,0, 1, 0, 1, 0, 0, 1, 1, 0, 0, 1, 1, 0, 0, 1, 1,1, 0, 0, 0, 1, 0, 1, 0, 0, 1, 1, 1, 1, 1, 0, 0,0, 1, 1, 0, 1, 0, 0, 1, 0, 1, 1, 0, 0, 1, 1, 0,1, 0, 1, 0, 0, 1, 0, 1, 0, 0, 1, 1, 1, 0, 1, 1,1, 0, 1, 1, 0, 1, 0, 0, 0, 1, 0, 0, 0, 0, 1, 0,1, 1, 0, 1, 1, 0, 1, 0, 0, 0, 0, 0, 1, 1, 1, 0,0, 1, 1, 1, 1, 1, 1, 0, 0, 0, 0, 0, 1, 1, 1, 1,1, 1, 0]\n"
   ]
  },
  {
   "cell_type": "code",
   "execution_count": 28,
   "id": "0fa64db1",
   "metadata": {},
   "outputs": [
    {
     "name": "stdout",
     "output_type": "stream",
     "text": [
      "Accuracy : 96.89119170984456\n",
      "F1 Score : 96.7741935483871\n",
      "Sensitivity : 97.82608695652173\n",
      "Precision : 95.74468085106383\n"
     ]
    }
   ],
   "source": [
    "from sklearn.metrics import accuracy_score, f1_score, recall_score, precision_score, classification_report,confusion_matrix\n",
    "print('Accuracy : {}'.format(accuracy_score(y_true,y_pred)*100))\n",
    "print('F1 Score : {}'.format(f1_score(y_true,y_pred)*100))\n",
    "print('Sensitivity : {}'.format(recall_score(y_true,y_pred)*100))\n",
    "print('Precision : {}'.format(precision_score(y_true,y_pred)*100))"
   ]
  },
  {
   "cell_type": "code",
   "execution_count": 29,
   "id": "64dee2e4",
   "metadata": {},
   "outputs": [
    {
     "name": "stdout",
     "output_type": "stream",
     "text": [
      "              precision    recall  f1-score   support\n",
      "\n",
      "       COVID       0.98      0.96      0.97       303\n",
      "      NORMAL       0.96      0.98      0.97       276\n",
      "\n",
      "    accuracy                           0.97       579\n",
      "   macro avg       0.97      0.97      0.97       579\n",
      "weighted avg       0.97      0.97      0.97       579\n",
      "\n"
     ]
    }
   ],
   "source": [
    "target_names = ['COVID','NORMAL']\n",
    "print(classification_report(y_true, y_pred, target_names = target_names))"
   ]
  },
  {
   "cell_type": "code",
   "execution_count": 30,
   "id": "103ca2b7",
   "metadata": {},
   "outputs": [
    {
     "data": {
      "text/plain": [
       "array([[291,  12],\n",
       "       [  6, 270]], dtype=int64)"
      ]
     },
     "execution_count": 30,
     "metadata": {},
     "output_type": "execute_result"
    }
   ],
   "source": [
    "confusion_matrix(y_true, y_pred)"
   ]
  },
  {
   "cell_type": "markdown",
   "id": "dfe48628-b27a-467f-9f4a-3caee82f4697",
   "metadata": {},
   "source": [
    "## Train time : 9:51 - 12:01 hrs\n",
    "## Parameters : 12,001,513"
   ]
  },
  {
   "cell_type": "code",
   "execution_count": 32,
   "id": "4f723256-6716-4f7c-8fbb-d37c61125766",
   "metadata": {},
   "outputs": [
    {
     "data": {
      "text/plain": [
       "[55.436035343834035,\n",
       " 70.16903572800615,\n",
       " 77.18017671917019,\n",
       " 79.42758355743373,\n",
       " 80.50326546292739,\n",
       " 81.44448713023435,\n",
       " 83.07721859393008,\n",
       " 83.9608144448713,\n",
       " 84.70995005762582,\n",
       " 85.65117172493277,\n",
       " 86.13138686131386,\n",
       " 87.36073761044948,\n",
       " 87.22627737226277,\n",
       " 87.99462159047253,\n",
       " 88.05224740683826,\n",
       " 89.08951210142145,\n",
       " 88.83980023050326,\n",
       " 89.0318862850557,\n",
       " 89.35843257779486,\n",
       " 90.37648866692278,\n",
       " 90.12677679600462,\n",
       " 90.81828659239339,\n",
       " 91.18325009604303,\n",
       " 91.47137917787168,\n",
       " 92.04763734152901,\n",
       " 91.6058394160584,\n",
       " 92.5278524779101,\n",
       " 92.14368036880522,\n",
       " 92.33576642335767,\n",
       " 92.7007299270073,\n",
       " 92.93123319247023,\n",
       " 92.89281598155974,\n",
       " 93.14252785247791,\n",
       " 93.58432577794852,\n",
       " 93.73799462159047,\n",
       " 93.94928928159815,\n",
       " 93.7956204379562,\n",
       " 93.622742988859,\n",
       " 94.48713023434499,\n",
       " 94.58317326162121,\n",
       " 94.37187860161352,\n",
       " 94.06454091432963,\n",
       " 94.31425278524779,\n",
       " 94.77525931617365,\n",
       " 94.87130234344987,\n",
       " 94.9673453707261,\n",
       " 94.7944679216289,\n",
       " 95.56281213983866,\n",
       " 94.8905109489051,\n",
       " 95.2362658470995,\n",
       " 94.9289281598156,\n",
       " 95.63964656165962,\n",
       " 95.52439492892816,\n",
       " 95.25547445255475,\n",
       " 95.98540145985402,\n",
       " 95.92777564348827,\n",
       " 95.4091432961967,\n",
       " 96.00461006530927,\n",
       " 96.10065309258547,\n",
       " 95.81252401075682,\n",
       " 95.79331540530157,\n",
       " 96.17748751440645,\n",
       " 96.60007683442183,\n",
       " 95.77410679984632,\n",
       " 96.0238186707645,\n",
       " 96.27353054168267,\n",
       " 96.38878217441413,\n",
       " 96.52324241260084,\n",
       " 96.48482520169036,\n",
       " 96.17748751440645,\n",
       " 96.94583173261621,\n",
       " 96.61928543987706,\n",
       " 96.83058009988474,\n",
       " 96.67691125624279,\n",
       " 96.67691125624279,\n",
       " 96.94583173261621,\n",
       " 97.00345754898194,\n",
       " 96.88820591625048,\n",
       " 97.4644640799078,\n",
       " 96.92662312716097,\n",
       " 97.17633499807914,\n",
       " 97.21475220898964,\n",
       " 97.21475220898964,\n",
       " 97.21475220898964,\n",
       " 97.40683826354206,\n",
       " 97.09950057625817,\n",
       " 97.69496734537073,\n",
       " 97.02266615443719,\n",
       " 97.48367268536305,\n",
       " 97.7718017671917,\n",
       " 96.84978870533999,\n",
       " 97.1571263926239,\n",
       " 97.71417595082596,\n",
       " 97.23396081444487,\n",
       " 97.4644640799078,\n",
       " 97.67575873991548,\n",
       " 97.4644640799078,\n",
       " 97.73338455628121,\n",
       " 97.637341529005,\n",
       " 97.44525547445255]"
      ]
     },
     "execution_count": 32,
     "metadata": {},
     "output_type": "execute_result"
    }
   ],
   "source": [
    "train_accuracy "
   ]
  },
  {
   "cell_type": "code",
   "execution_count": 34,
   "id": "cfb0ee41-fd6a-4a46-8f13-7b160d2afe96",
   "metadata": {},
   "outputs": [
    {
     "data": {
      "text/plain": [
       "[65.44574982722875,\n",
       " 67.3116793365584,\n",
       " 78.64547339322738,\n",
       " 75.6046993780235,\n",
       " 80.78783690393918,\n",
       " 82.58465791292329,\n",
       " 82.58465791292329,\n",
       " 83.8977194194886,\n",
       " 85.76364892881824,\n",
       " 83.4139599170698,\n",
       " 85.00345542501728,\n",
       " 80.37318590186592,\n",
       " 86.73116793365584,\n",
       " 86.38562543192812,\n",
       " 87.00760193503801,\n",
       " 88.94263994471319,\n",
       " 88.18244644091223,\n",
       " 88.25155494125777,\n",
       " 89.35729094678645,\n",
       " 89.28818244644091,\n",
       " 85.34899792674499,\n",
       " 89.84105044920526,\n",
       " 88.59709744298549,\n",
       " 91.01589495507947,\n",
       " 90.2557014512785,\n",
       " 90.32480995162405,\n",
       " 93.0200414651002,\n",
       " 93.0200414651002,\n",
       " 91.7069799585349,\n",
       " 93.36558396682793,\n",
       " 90.18659295093296,\n",
       " 92.81271596406357,\n",
       " 92.12163096060816,\n",
       " 93.36558396682793,\n",
       " 93.91845196959227,\n",
       " 92.74360746371804,\n",
       " 90.04837595024188,\n",
       " 93.9875604699378,\n",
       " 93.84934346924672,\n",
       " 93.503800967519,\n",
       " 93.91845196959227,\n",
       " 92.05252246026261,\n",
       " 95.09329647546649,\n",
       " 95.71527297857637,\n",
       " 93.29647546648238,\n",
       " 94.40221147201106,\n",
       " 92.6744989633725,\n",
       " 94.54042847270215,\n",
       " 93.78023496890118,\n",
       " 92.88182446440912,\n",
       " 95.23151347615757,\n",
       " 94.47131997235661,\n",
       " 94.19488597097443,\n",
       " 94.47131997235661,\n",
       " 95.36973047684866,\n",
       " 94.19488597097443,\n",
       " 93.36558396682793,\n",
       " 94.95507947477539,\n",
       " 94.95507947477539,\n",
       " 94.60953697304768,\n",
       " 95.36973047684866,\n",
       " 94.26399447131996,\n",
       " 95.50794747753973,\n",
       " 95.71527297857637,\n",
       " 94.95507947477539,\n",
       " 94.88597097442985,\n",
       " 94.54042847270215,\n",
       " 95.30062197650311,\n",
       " 94.88597097442985,\n",
       " 96.7519004837595,\n",
       " 95.02418797512094,\n",
       " 95.71527297857637,\n",
       " 95.78438147892192,\n",
       " 95.36973047684866,\n",
       " 95.50794747753973,\n",
       " 95.30062197650311,\n",
       " 93.78023496890118,\n",
       " 95.85348997926745,\n",
       " 95.16240497581202,\n",
       " 96.12992398064962,\n",
       " 96.33724948168624,\n",
       " 95.78438147892192,\n",
       " 95.922598479613,\n",
       " 96.33724948168624,\n",
       " 95.36973047684866,\n",
       " 95.99170697995854,\n",
       " 94.88597097442985,\n",
       " 96.06081548030407,\n",
       " 95.36973047684866,\n",
       " 96.33724948168624,\n",
       " 95.78438147892192,\n",
       " 96.06081548030407,\n",
       " 95.64616447823082,\n",
       " 95.09329647546649,\n",
       " 96.06081548030407,\n",
       " 95.922598479613,\n",
       " 96.06081548030407,\n",
       " 96.06081548030407,\n",
       " 95.922598479613,\n",
       " 95.78438147892192]"
      ]
     },
     "execution_count": 34,
     "metadata": {},
     "output_type": "execute_result"
    }
   ],
   "source": [
    "val_accuracy"
   ]
  },
  {
   "cell_type": "code",
   "execution_count": 39,
   "id": "ca21b0c2-036f-42cf-ba78-363b950c570f",
   "metadata": {},
   "outputs": [],
   "source": [
    "torch.save(CNN.state_dict(), r'A:\\saved models\\custom1.pth')"
   ]
  },
  {
   "cell_type": "code",
   "execution_count": 1,
   "id": "6b51873f-74b8-402a-a6ea-e6772cccd3a5",
   "metadata": {},
   "outputs": [],
   "source": [
    "train_accuracy = [55.436035343834035,\n",
    " 70.16903572800615,\n",
    " 77.18017671917019,\n",
    " 79.42758355743373,\n",
    " 80.50326546292739,\n",
    " 81.44448713023435,\n",
    " 83.07721859393008,\n",
    " 83.9608144448713,\n",
    " 84.70995005762582,\n",
    " 85.65117172493277,\n",
    " 86.13138686131386,\n",
    " 87.36073761044948,\n",
    " 87.22627737226277,\n",
    " 87.99462159047253,\n",
    " 88.05224740683826,\n",
    " 89.08951210142145,\n",
    " 88.83980023050326,\n",
    " 89.0318862850557,\n",
    " 89.35843257779486,\n",
    " 90.37648866692278,\n",
    " 90.12677679600462,\n",
    " 90.81828659239339,\n",
    " 91.18325009604303,\n",
    " 91.47137917787168,\n",
    " 92.04763734152901,\n",
    " 91.6058394160584,\n",
    " 92.5278524779101,\n",
    " 92.14368036880522,\n",
    " 92.33576642335767,\n",
    " 92.7007299270073,\n",
    " 92.93123319247023,\n",
    " 92.89281598155974,\n",
    " 93.14252785247791,\n",
    " 93.58432577794852,\n",
    " 93.73799462159047,\n",
    " 93.94928928159815,\n",
    " 93.7956204379562,\n",
    " 93.622742988859,\n",
    " 94.48713023434499,\n",
    " 94.58317326162121,\n",
    " 94.37187860161352,\n",
    " 94.06454091432963,\n",
    " 94.31425278524779,\n",
    " 94.77525931617365,\n",
    " 94.87130234344987,\n",
    " 94.9673453707261,\n",
    " 94.7944679216289,\n",
    " 95.56281213983866,\n",
    " 94.8905109489051,\n",
    " 95.2362658470995,\n",
    " 94.9289281598156,\n",
    " 95.63964656165962,\n",
    " 95.52439492892816,\n",
    " 95.25547445255475,\n",
    " 95.98540145985402,\n",
    " 95.92777564348827,\n",
    " 95.4091432961967,\n",
    " 96.00461006530927,\n",
    " 96.10065309258547,\n",
    " 95.81252401075682,\n",
    " 95.79331540530157,\n",
    " 96.17748751440645,\n",
    " 96.60007683442183,\n",
    " 95.77410679984632,\n",
    " 96.0238186707645,\n",
    " 96.27353054168267,\n",
    " 96.38878217441413,\n",
    " 96.52324241260084,\n",
    " 96.48482520169036,\n",
    " 96.17748751440645,\n",
    " 96.94583173261621,\n",
    " 96.61928543987706,\n",
    " 96.83058009988474,\n",
    " 96.67691125624279,\n",
    " 96.67691125624279,\n",
    " 96.94583173261621,\n",
    " 97.00345754898194,\n",
    " 96.88820591625048,\n",
    " 97.4644640799078,\n",
    " 96.92662312716097,\n",
    " 97.17633499807914,\n",
    " 97.21475220898964,\n",
    " 97.21475220898964,\n",
    " 97.21475220898964,\n",
    " 97.40683826354206,\n",
    " 97.09950057625817,\n",
    " 97.69496734537073,\n",
    " 97.02266615443719,\n",
    " 97.48367268536305,\n",
    " 97.7718017671917,\n",
    " 96.84978870533999,\n",
    " 97.1571263926239,\n",
    " 97.71417595082596,\n",
    " 97.23396081444487,\n",
    " 97.4644640799078,\n",
    " 97.67575873991548,\n",
    " 97.4644640799078,\n",
    " 97.73338455628121,\n",
    " 97.637341529005,\n",
    " 97.44525547445255]"
   ]
  },
  {
   "cell_type": "code",
   "execution_count": 2,
   "id": "2418a497-e7a4-4b84-a82e-bc397f3352c5",
   "metadata": {},
   "outputs": [],
   "source": [
    "val_accuracy = [65.44574982722875,\n",
    " 67.3116793365584,\n",
    " 78.64547339322738,\n",
    " 75.6046993780235,\n",
    " 80.78783690393918,\n",
    " 82.58465791292329,\n",
    " 82.58465791292329,\n",
    " 83.8977194194886,\n",
    " 85.76364892881824,\n",
    " 83.4139599170698,\n",
    " 85.00345542501728,\n",
    " 80.37318590186592,\n",
    " 86.73116793365584,\n",
    " 86.38562543192812,\n",
    " 87.00760193503801,\n",
    " 88.94263994471319,\n",
    " 88.18244644091223,\n",
    " 88.25155494125777,\n",
    " 89.35729094678645,\n",
    " 89.28818244644091,\n",
    " 85.34899792674499,\n",
    " 89.84105044920526,\n",
    " 88.59709744298549,\n",
    " 91.01589495507947,\n",
    " 90.2557014512785,\n",
    " 90.32480995162405,\n",
    " 93.0200414651002,\n",
    " 93.0200414651002,\n",
    " 91.7069799585349,\n",
    " 93.36558396682793,\n",
    " 90.18659295093296,\n",
    " 92.81271596406357,\n",
    " 92.12163096060816,\n",
    " 93.36558396682793,\n",
    " 93.91845196959227,\n",
    " 92.74360746371804,\n",
    " 90.04837595024188,\n",
    " 93.9875604699378,\n",
    " 93.84934346924672,\n",
    " 93.503800967519,\n",
    " 93.91845196959227,\n",
    " 92.05252246026261,\n",
    " 95.09329647546649,\n",
    " 95.71527297857637,\n",
    " 93.29647546648238,\n",
    " 94.40221147201106,\n",
    " 92.6744989633725,\n",
    " 94.54042847270215,\n",
    " 93.78023496890118,\n",
    " 92.88182446440912,\n",
    " 95.23151347615757,\n",
    " 94.47131997235661,\n",
    " 94.19488597097443,\n",
    " 94.47131997235661,\n",
    " 95.36973047684866,\n",
    " 94.19488597097443,\n",
    " 93.36558396682793,\n",
    " 94.95507947477539,\n",
    " 94.95507947477539,\n",
    " 94.60953697304768,\n",
    " 95.36973047684866,\n",
    " 94.26399447131996,\n",
    " 95.50794747753973,\n",
    " 95.71527297857637,\n",
    " 94.95507947477539,\n",
    " 94.88597097442985,\n",
    " 94.54042847270215,\n",
    " 95.30062197650311,\n",
    " 94.88597097442985,\n",
    " 96.7519004837595,\n",
    " 95.02418797512094,\n",
    " 95.71527297857637,\n",
    " 95.78438147892192,\n",
    " 95.36973047684866,\n",
    " 95.50794747753973,\n",
    " 95.30062197650311,\n",
    " 93.78023496890118,\n",
    " 95.85348997926745,\n",
    " 95.16240497581202,\n",
    " 96.12992398064962,\n",
    " 96.33724948168624,\n",
    " 95.78438147892192,\n",
    " 95.922598479613,\n",
    " 96.33724948168624,\n",
    " 95.36973047684866,\n",
    " 95.99170697995854,\n",
    " 94.88597097442985,\n",
    " 96.06081548030407,\n",
    " 95.36973047684866,\n",
    " 96.33724948168624,\n",
    " 95.78438147892192,\n",
    " 96.06081548030407,\n",
    " 95.64616447823082,\n",
    " 95.09329647546649,\n",
    " 96.06081548030407,\n",
    " 95.922598479613,\n",
    " 96.06081548030407,\n",
    " 96.06081548030407,\n",
    " 95.922598479613,\n",
    " 95.78438147892192]"
   ]
  },
  {
   "cell_type": "code",
   "execution_count": 5,
   "id": "55e156f3-34f8-4002-ae2a-3058b1242a51",
   "metadata": {},
   "outputs": [
    {
     "data": {
      "image/png": "[encoded data removed]",
      "text/plain": [
       "<Figure size 720x504 with 1 Axes>"
      ]
     },
     "metadata": {
      "needs_background": "light"
     },
     "output_type": "display_data"
    }
   ],
   "source": [
    "plt.figure(figsize=(10,7))\n",
    "plt.rcParams.update({'font.size': 16})\n",
    "plt.plot(train_accuracy, label='training accuracy')\n",
    "plt.plot(val_accuracy, label='validation accuracy')\n",
    "plt.xlabel('Epochs')\n",
    "plt.ylabel('Accuracy')\n",
    "plt.legend();"
   ]
  },
  {
   "cell_type": "code",
   "execution_count": 6,
   "id": "3e83369c-b750-4562-bd56-4cf632af9597",
   "metadata": {},
   "outputs": [
    {
     "data": {
      "text/plain": [
       "<AxesSubplot:xlabel='Predicted', ylabel='Actual'>"
      ]
     },
     "execution_count": 6,
     "metadata": {},
     "output_type": "execute_result"
    },
    {
     "data": {
      "image/png": "[encoded data removed]",
      "text/plain": [
       "<Figure size 792x648 with 2 Axes>"
      ]
     },
     "metadata": {
      "needs_background": "light"
     },
     "output_type": "display_data"
    }
   ],
   "source": [
    "from sklearn.metrics import confusion_matrix\n",
    "import pandas as pd\n",
    "import seaborn as sn\n",
    "import matplotlib.pyplot as plt\n",
    "%matplotlib inline\n",
    "import numpy as np\n",
    "\n",
    "y_true = [1, 0, 1, 1, 0, 0, 0, 0, 0, 0, 0, 1, 1, 1, 1, 0,1, 0, 0, 0, 0, 0, 1, 1, 1, 1, 1, 1, 0, 0, 0, 0,1, 1, 1, 0, 0, 1, 0, 1, 0, 0, 0, 1, 0, 1, 1, 0,1, 1, 0, 0, 0, 0, 1, 0, 0, 0, 0, 1, 0, 1, 1, 1,1, 0, 1, 0, 1, 1, 1, 1, 0, 1, 1, 0, 0, 1, 0, 1,1, 1, 0, 1, 1, 1, 1, 0, 0, 0, 1, 0, 1, 0, 1, 1,1, 1, 1, 1, 0, 0, 1, 0, 1, 0, 1, 0, 0, 1, 0, 1,0, 0, 1, 1, 0, 0, 1, 1, 0, 1, 1, 0, 0, 1, 1, 1,0, 0, 1, 1, 0, 0, 0, 0, 1, 1, 0, 0, 0, 0, 1, 1,0, 0, 0, 0, 0, 0, 0, 0, 0, 0, 1, 1, 0, 0, 0, 1,1, 1, 0, 0, 0, 1, 1, 0, 1, 1, 1, 1, 1, 1, 0, 0,0, 1, 1, 0, 0, 0, 0, 0, 1, 0, 0, 0, 0, 1, 1, 0,1, 1, 0, 1, 0, 0, 0, 1, 0, 0, 0, 0, 0, 1, 0, 1,1, 0, 1, 1, 1, 1, 0, 1, 1, 0, 1, 1, 0, 0, 0, 1,0, 0, 0, 1, 0, 0, 0, 1, 1, 0, 0, 0, 1, 1, 1, 1,1, 1, 0, 1, 0, 1, 1, 1, 0, 1, 0, 0, 1, 1, 1, 1,0, 1, 1, 1, 0, 1, 0, 1, 0, 0, 0, 1, 1, 1, 0, 1,1, 0, 1, 0, 0, 0, 0, 1, 0, 0, 0, 0, 1, 1, 1, 1,1, 0, 1, 0, 0, 0, 0, 1, 1, 1, 0, 1, 1, 1, 0, 1,0, 0, 1, 0, 1, 0, 0, 1, 0, 1, 0, 1, 0, 0, 0, 0,0, 0, 1, 1, 0, 1, 1, 0, 1, 0, 0, 1, 0, 1, 0, 1,1, 1, 0, 0, 0, 0, 1, 0, 1, 1, 1, 1, 0, 0, 0, 0,1, 1, 0, 1, 0, 0, 1, 1, 1, 0, 1, 1, 0, 0, 1, 0,0, 0, 0, 1, 1, 1, 0, 0, 0, 0, 1, 0, 0, 1, 1, 1,0, 1, 1, 0, 0, 1, 0, 1, 1, 0, 0, 0, 0, 0, 1, 1,1, 1, 0, 0, 0, 0, 0, 1, 0, 1, 0, 0, 1, 0, 0, 0,1, 0, 1, 0, 1, 1, 0, 1, 1, 0, 0, 0, 0, 1, 0, 1,0, 0, 0, 0, 0, 1, 1, 0, 1, 0, 1, 0, 1, 0, 0, 0,1, 1, 1, 0, 1, 1, 1, 0, 0, 0, 0, 0, 1, 1, 0, 0,0, 1, 0, 1, 0, 0, 1, 1, 0, 0, 1, 1, 0, 0, 1, 1,1, 0, 0, 0, 1, 0, 1, 0, 0, 1, 1, 1, 1, 1, 0, 0,0, 1, 1, 0, 1, 0, 0, 1, 0, 1, 1, 0, 0, 1, 1, 0,1, 0, 1, 0, 0, 1, 0, 1, 0, 0, 1, 1, 1, 0, 1, 1,1, 0, 1, 1, 0, 1, 0, 0, 0, 1, 0, 0, 0, 0, 1, 0,1, 1, 0, 1, 1, 0, 0, 0, 0, 0, 0, 0, 1, 1, 1, 0,0, 1, 1, 1, 0, 1, 1, 0, 0, 0, 0, 0, 1, 1, 1, 1,1, 1, 0]\n",
    "y_pred = [1, 1, 1, 1, 0, 0, 0, 0, 0, 0, 0, 1, 1, 1, 1, 0,1, 0, 0, 0, 0, 0, 1, 1, 1, 1, 1, 1, 0, 0, 0, 0,1, 1, 1, 0, 0, 1, 0, 1, 0, 0, 0, 1, 0, 1, 1, 0,1, 1, 0, 0, 0, 0, 1, 0, 0, 0, 0, 1, 0, 1, 1, 1,1, 0, 1, 0, 1, 1, 1, 1, 0, 1, 1, 0, 0, 1, 0, 1,1, 1, 1, 1, 1, 1, 0, 0, 0, 0, 1, 0, 1, 0, 1, 1,1, 1, 1, 1, 0, 0, 1, 0, 1, 0, 1, 0, 0, 1, 0, 1,0, 0, 1, 1, 0, 0, 1, 1, 0, 1, 1, 0, 0, 1, 1, 1,0, 0, 1, 1, 0, 0, 0, 0, 1, 0, 0, 0, 0, 0, 1, 1,0, 0, 0, 0, 0, 0, 0, 0, 0, 0, 1, 1, 0, 0, 0, 1,1, 1, 0, 0, 0, 1, 1, 0, 1, 1, 1, 1, 1, 1, 0, 0,0, 1, 1, 1, 0, 1, 0, 0, 1, 0, 0, 0, 0, 1, 0, 0,1, 1, 0, 1, 0, 0, 0, 1, 1, 0, 0, 0, 0, 1, 0, 1,1, 0, 1, 1, 1, 1, 0, 1, 1, 0, 1, 1, 0, 1, 0, 1,0, 0, 0, 1, 0, 0, 0, 1, 1, 0, 0, 0, 1, 1, 1, 1,1, 1, 0, 1, 0, 1, 1, 1, 0, 1, 0, 0, 1, 1, 1, 1,0, 1, 1, 1, 0, 1, 0, 1, 0, 1, 0, 1, 1, 1, 0, 1,1, 0, 1, 0, 0, 0, 0, 1, 0, 0, 0, 0, 1, 1, 1, 1,1, 0, 1, 0, 0, 0, 0, 1, 1, 1, 0, 1, 1, 1, 0, 1,0, 0, 1, 0, 1, 0, 0, 1, 0, 1, 0, 1, 0, 0, 0, 0,0, 0, 1, 1, 0, 1, 1, 0, 1, 0, 0, 0, 0, 1, 0, 1,1, 1, 1, 0, 0, 0, 1, 0, 1, 1, 1, 1, 0, 0, 0, 0,1, 1, 0, 1, 0, 0, 0, 1, 1, 0, 1, 1, 0, 0, 1, 0,0, 0, 1, 1, 1, 1, 0, 0, 0, 0, 1, 0, 0, 1, 1, 1,0, 1, 1, 0, 0, 1, 0, 1, 1, 0, 0, 0, 0, 0, 1, 1,1, 1, 0, 0, 0, 0, 0, 1, 0, 1, 0, 0, 1, 0, 0, 0,1, 0, 1, 0, 1, 1, 0, 1, 1, 0, 0, 0, 0, 1, 0, 1,0, 0, 0, 0, 0, 1, 1, 0, 0, 0, 1, 0, 1, 0, 0, 0,1, 1, 1, 0, 1, 1, 1, 0, 0, 0, 0, 0, 1, 1, 1, 0,0, 1, 0, 1, 0, 0, 1, 1, 0, 0, 1, 1, 0, 0, 1, 1,1, 0, 0, 0, 1, 0, 1, 0, 0, 1, 1, 1, 1, 1, 0, 0,0, 1, 1, 0, 1, 0, 0, 1, 0, 1, 1, 0, 0, 1, 1, 0,1, 0, 1, 0, 0, 1, 0, 1, 0, 0, 1, 1, 1, 0, 1, 1,1, 0, 1, 1, 0, 1, 0, 0, 0, 1, 0, 0, 0, 0, 1, 0,1, 1, 0, 1, 1, 0, 1, 0, 0, 0, 0, 0, 1, 1, 1, 0,0, 1, 1, 1, 1, 1, 1, 0, 0, 0, 0, 0, 1, 1, 1, 1,1, 1, 0]\n",
    "\n",
    "data = confusion_matrix(y_true, y_pred)\n",
    "cls = ['Covid','Normal']\n",
    "df_cm = pd.DataFrame(data, columns=np.unique(cls), index = np.unique(cls))\n",
    "#df_cm = (df_cm-df_cm.mean())/df_cm.std()\n",
    "df_cm.index.name = 'Actual'\n",
    "df_cm.columns.name = 'Predicted'\n",
    "plt.figure(figsize = (11,9))\n",
    "sn.set(font_scale=1.4)#for label size\n",
    "sn.heatmap(df_cm, cmap=\"Blues\", annot=True,annot_kws={\"size\": 25})"
   ]
  },
  {
   "cell_type": "code",
   "execution_count": null,
   "id": "49d077ac",
   "metadata": {},
   "outputs": [],
   "source": []
  }
 ],
 "metadata": {
  "kernelspec": {
   "display_name": "Python 3 (ipykernel)",
   "language": "python",
   "name": "python3"
  },
  "language_info": {
   "codemirror_mode": {
    "name": "ipython",
    "version": 3
   },
   "file_extension": ".py",
   "mimetype": "text/x-python",
   "name": "python",
   "nbconvert_exporter": "python",
   "pygments_lexer": "ipython3",
   "version": "3.8.10"
  }
 },
 "nbformat": 4,
 "nbformat_minor": 5
}
