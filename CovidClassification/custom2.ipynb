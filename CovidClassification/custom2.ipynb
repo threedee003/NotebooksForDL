{
 "cells": [
  {
   "cell_type": "code",
   "execution_count": 1,
   "id": "477840cc",
   "metadata": {},
   "outputs": [],
   "source": [
    "import pandas as pd\n",
    "import numpy as np\n",
    "import matplotlib.pyplot as plt\n",
    "import torch\n",
    "import torch.nn as nn\n",
    "import torch.optim as optim\n",
    "import torchvision.transforms as transforms\n",
    "import torchvision\n",
    "from skimage import io\n",
    "from torch.utils.data import Dataset,DataLoader\n",
    "import os\n",
    "import torch.nn.functional as F\n",
    "from torch.utils.data import random_split\n",
    "from sklearn.metrics import classification_report"
   ]
  },
  {
   "cell_type": "code",
   "execution_count": 2,
   "id": "6e6fe9d2",
   "metadata": {},
   "outputs": [],
   "source": [
    "data = r'A:\\two class data\\2class'\n",
    "meta = r'A:\\two class data\\met2.csv'"
   ]
  },
  {
   "cell_type": "code",
   "execution_count": 3,
   "id": "b8b02d88",
   "metadata": {},
   "outputs": [],
   "source": [
    "class Custom(Dataset):\n",
    "    def __init__(self, data_dir, transform):      \n",
    "    \n",
    "        # path to images\n",
    "        path2data=os.path.join(data_dir)\n",
    "\n",
    "        # get list of images\n",
    "        filenames = os.listdir(path2data)\n",
    "\n",
    "        # get the full path to images\n",
    "        self.full_filenames = [os.path.join(path2data, f) for f in filenames]\n",
    "\n",
    "        # labels are in a csv file named train_labels.csv\n",
    "        path2csvLabels=os.path.join(meta)\n",
    "        labels_df=pd.read_csv(path2csvLabels)\n",
    "\n",
    "        # set data frame index to id\n",
    "        labels_df.set_index(\"ID\", inplace=True)\n",
    "\n",
    "        # obtain labels from data frame\n",
    "        self.labels = [labels_df.loc[filename[:-4]].values[0] for filename in filenames]\n",
    "\n",
    "        self.transform = transform\n",
    "      \n",
    "    def __len__(self):\n",
    "        # return size of dataset\n",
    "        return len(self.full_filenames)\n",
    "      \n",
    "    def __getitem__(self, idx):\n",
    "        # open image, apply transforms and return with label\n",
    "        image = io.imread(self.full_filenames[idx]) # PIL image\n",
    "        image = self.transform(image)\n",
    "        return image, self.labels[idx]"
   ]
  },
  {
   "cell_type": "code",
   "execution_count": 4,
   "id": "e0ea01ad",
   "metadata": {},
   "outputs": [],
   "source": [
    "data_transformer = transforms.Compose([transforms.ToTensor(),transforms.CenterCrop(256),transforms.RandomHorizontalFlip(p=0.5),transforms.RandomVerticalFlip(p=0.5),transforms.RandomRotation(degrees=(0, 180))])\n",
    "dataset = Custom(data,data_transformer)"
   ]
  },
  {
   "cell_type": "code",
   "execution_count": 5,
   "id": "d12d8bbb",
   "metadata": {},
   "outputs": [
    {
     "name": "stdout",
     "output_type": "stream",
     "text": [
      "validation dataset length: 1447\n",
      "Train dataset length:  5206\n",
      "Test dataset length:  579\n"
     ]
    }
   ],
   "source": [
    "len_histo = len(dataset)\n",
    "len_train = int(0.8*len_histo)                 #length of training data = 80% of total data\n",
    "len_val = len_histo-len_train\n",
    "\n",
    "TrainTest_ds,Val_ds=random_split(dataset,[len_train,len_val])      #spilt the data\n",
    "\n",
    "\n",
    "print(\"validation dataset length:\", len(Val_ds))\n",
    "\n",
    "\n",
    "\n",
    "\n",
    "length = len(TrainTest_ds)\n",
    "len_train = int(0.9*length)\n",
    "len_test = length-len_train\n",
    "\n",
    "Train_ds,Test_ds = random_split(TrainTest_ds,[len_train,len_test])\n",
    "\n",
    "print('Train dataset length: ',len(Train_ds))\n",
    "print('Test dataset length: ',len(Test_ds))"
   ]
  },
  {
   "cell_type": "code",
   "execution_count": 6,
   "id": "19cfd3be",
   "metadata": {},
   "outputs": [],
   "source": [
    "train_dl = DataLoader(Train_ds, batch_size=64, shuffle=True)\n",
    "val_dl = DataLoader(Val_ds, batch_size=64, shuffle=True)  \n",
    "test_dl = DataLoader(Test_ds,batch_size=64, shuffle=False)"
   ]
  },
  {
   "cell_type": "code",
   "execution_count": 7,
   "id": "dd67d18f",
   "metadata": {},
   "outputs": [
    {
     "name": "stdout",
     "output_type": "stream",
     "text": [
      "torch.Size([64, 1, 256, 256])\n",
      "torch.Size([64])\n"
     ]
    }
   ],
   "source": [
    "for batch,(x,y) in enumerate(val_dl):\n",
    "  print(x.shape)\n",
    "  print(y.shape)\n",
    "  break"
   ]
  },
  {
   "cell_type": "code",
   "execution_count": 8,
   "id": "e0176306",
   "metadata": {},
   "outputs": [],
   "source": [
    "class CovNet(nn.Module):\n",
    "    def __init__(self,num_classes):\n",
    "        super(CovNet,self).__init__()\n",
    "        self.features = nn.Sequential(\n",
    "            nn.Conv2d(1,64,kernel_size=6,stride=2), \n",
    "            nn.PReLU(),\n",
    "            nn.MaxPool2d(kernel_size=2,stride=2),  \n",
    "            nn.Conv2d(64,256,kernel_size=6,stride=2),   \n",
    "            nn.PReLU(),\n",
    "            nn.MaxPool2d(kernel_size=2,stride=2),\n",
    "            nn.Conv2d(256,1024,kernel_size=3,stride=2),\n",
    "            nn.PReLU(),\n",
    "            nn.MaxPool2d(kernel_size=2,stride=2)\n",
    "        )\n",
    "        \n",
    "        self.avg = nn.AdaptiveAvgPool2d((5,5))\n",
    "        self.cls = nn.Sequential(\n",
    "            nn.Linear(1024*3*3,1000),\n",
    "            nn.PReLU(),\n",
    "            nn.Dropout(0.5),\n",
    "            nn.Linear(1000,1000),\n",
    "            nn.PReLU(),\n",
    "            nn.Dropout(0.5),\n",
    "            nn.Linear(1000,num_classes)\n",
    "        )\n",
    "        \n",
    "    def forward(self,x):\n",
    "        x = self.features(x)\n",
    "        #x = self.avg(x)\n",
    "        x = torch.flatten(x,1)\n",
    "        x = self.cls(x)\n",
    "        \n",
    "        return F.log_softmax(x,dim=1)"
   ]
  },
  {
   "cell_type": "code",
   "execution_count": 9,
   "id": "a70385ea",
   "metadata": {},
   "outputs": [],
   "source": [
    "device = torch.device('cuda' if torch.cuda.is_available() else 'cpu')"
   ]
  },
  {
   "cell_type": "code",
   "execution_count": 10,
   "id": "3d0b8ff0",
   "metadata": {},
   "outputs": [],
   "source": [
    "CNN = CovNet(2)\n",
    "CNN.to(device)\n",
    "optiM = optim.Adam(CNN.parameters(),lr=0.0001)"
   ]
  },
  {
   "cell_type": "code",
   "execution_count": null,
   "id": "9a6009b9-6087-461c-b561-f9bdea646892",
   "metadata": {},
   "outputs": [],
   "source": [
    "CNN"
   ]
  },
  {
   "cell_type": "code",
   "execution_count": 11,
   "id": "80c9deea",
   "metadata": {},
   "outputs": [
    {
     "name": "stdout",
     "output_type": "stream",
     "text": [
      "GeForce GTX 1650\n",
      "Memory Usage:\n",
      "Allocated: 0.0 GB\n",
      "Cached:    0.1 GB\n"
     ]
    }
   ],
   "source": [
    "\n",
    "if device.type == 'cuda':\n",
    "    print(torch.cuda.get_device_name(0))\n",
    "    print('Memory Usage:')\n",
    "    print('Allocated:', round(torch.cuda.memory_allocated(0)/1024**3,1), 'GB')\n",
    "    print('Cached:   ', round(torch.cuda.memory_reserved(0)/1024**3,1), 'GB')"
   ]
  },
  {
   "cell_type": "code",
   "execution_count": 12,
   "id": "0d43a3f2",
   "metadata": {},
   "outputs": [],
   "source": [
    "train_losses = []\n",
    "val_losses = []\n",
    "train_accuracy = []\n",
    "val_accuracy = []"
   ]
  },
  {
   "cell_type": "code",
   "execution_count": 13,
   "id": "e4b82900",
   "metadata": {},
   "outputs": [],
   "source": [
    "def train(model,train_loader,validation_loader,loss_fn,optimizer,n_epochs,device):\n",
    "    model = model.to(device)\n",
    "    for epoch in range(n_epochs):\n",
    "        training_loss = 0\n",
    "        train_corr = 0\n",
    "        totals = 0\n",
    "        model.train()\n",
    "        for batch in train_loader:\n",
    "            optimizer.zero_grad()\n",
    "            input ,target = batch\n",
    "            input = input.to(device)\n",
    "            target = target.to(device)\n",
    "            output = model(input)\n",
    "            loss = loss_fn(output,target)\n",
    "            loss.backward()\n",
    "            optimizer.step()\n",
    "            training_loss += loss.item()*target.size(0)\n",
    "            totals += target.size(0)\n",
    "            predicted = torch.argmax(output,1)\n",
    "            train_corr += (predicted == target).sum().item()\n",
    "\n",
    "\n",
    "\n",
    "        validation_loss = 0\n",
    "        val_corr = 0\n",
    "        total = 0\n",
    "        model.eval()\n",
    "        with torch.no_grad():\n",
    "            for batch in validation_loader:\n",
    "                input ,target = batch\n",
    "                input = input.to(device)\n",
    "                target = target.to(device)\n",
    "                output = model(input)\n",
    "                loss = loss_fn(output,target)\n",
    "                total += target.size(0)\n",
    "                validation_loss += loss.item()*target.size(0)\n",
    "                predicted = torch.argmax(output,1)\n",
    "                val_corr += (predicted == target).sum().item()\n",
    "\n",
    "\n",
    "        train_acc = train_corr/totals*100\n",
    "        val_acc = val_corr/total*100\n",
    "        training_loss = training_loss/totals\n",
    "        validation_loss = validation_loss/total\n",
    "        train_losses.append(training_loss)\n",
    "        val_losses.append(validation_loss)\n",
    "        train_accuracy.append(train_acc)\n",
    "        val_accuracy.append(val_acc)\n",
    "\n",
    "\n",
    "    \n",
    "        print('Epoch : {}/{} ...Training Acc : {:.6f}     Training Loss : {:.6f}     Validation Acc : {:.6f}     Validation Loss : {:.6f}'.format(epoch+1,n_epochs,train_acc,training_loss,val_acc,validation_loss))\n",
    "\n",
    "\n",
    "\n",
    "\n",
    "\n",
    "      "
   ]
  },
  {
   "cell_type": "code",
   "execution_count": 14,
   "id": "4d0ac614",
   "metadata": {},
   "outputs": [
    {
     "name": "stderr",
     "output_type": "stream",
     "text": [
      "C:\\Users\\dhart\\anaconda3\\envs\\pytorch\\lib\\site-packages\\torch\\nn\\functional.py:718: UserWarning: Named tensors and all their associated APIs are an experimental feature and subject to change. Please do not use them for anything important until they are released as stable. (Triggered internally at  ..\\c10/core/TensorImpl.h:1156.)\n",
      "  return torch.max_pool2d(input, kernel_size, stride, padding, dilation, ceil_mode)\n"
     ]
    },
    {
     "name": "stdout",
     "output_type": "stream",
     "text": [
      "Epoch : 1/100 ...Training Acc : 59.316174     Training Loss : 0.666325     Validation Acc : 64.340014     Validation Loss : 0.629219\n",
      "Epoch : 2/100 ...Training Acc : 66.999616     Training Loss : 0.611026     Validation Acc : 55.908777     Validation Loss : 0.741370\n",
      "Epoch : 3/100 ...Training Acc : 70.860546     Training Loss : 0.562876     Validation Acc : 72.494817     Validation Loss : 0.546516\n",
      "Epoch : 4/100 ...Training Acc : 71.494430     Training Loss : 0.555045     Validation Acc : 77.055978     Validation Loss : 0.517932\n",
      "Epoch : 5/100 ...Training Acc : 75.605071     Training Loss : 0.503890     Validation Acc : 78.921907     Validation Loss : 0.467528\n",
      "Epoch : 6/100 ...Training Acc : 78.025355     Training Loss : 0.460309     Validation Acc : 79.336558     Validation Loss : 0.467913\n",
      "Epoch : 7/100 ...Training Acc : 78.812908     Training Loss : 0.448734     Validation Acc : 80.856945     Validation Loss : 0.429459\n",
      "Epoch : 8/100 ...Training Acc : 80.215136     Training Loss : 0.426938     Validation Acc : 81.617139     Validation Loss : 0.403601\n",
      "Epoch : 9/100 ...Training Acc : 80.023050     Training Loss : 0.420990     Validation Acc : 82.515549     Validation Loss : 0.389463\n",
      "Epoch : 10/100 ...Training Acc : 80.887438     Training Loss : 0.403786     Validation Acc : 82.999309     Validation Loss : 0.384507\n",
      "Epoch : 11/100 ...Training Acc : 81.002689     Training Loss : 0.397768     Validation Acc : 83.483068     Validation Loss : 0.372920\n",
      "Epoch : 12/100 ...Training Acc : 82.308874     Training Loss : 0.384115     Validation Acc : 82.930200     Validation Loss : 0.366206\n",
      "Epoch : 13/100 ...Training Acc : 81.694199     Training Loss : 0.389332     Validation Acc : 84.381479     Validation Loss : 0.347201\n",
      "Epoch : 14/100 ...Training Acc : 82.193623     Training Loss : 0.372735     Validation Acc : 82.791983     Validation Loss : 0.345676\n",
      "Epoch : 15/100 ...Training Acc : 82.808298     Training Loss : 0.371549     Validation Acc : 85.210781     Validation Loss : 0.333794\n",
      "Epoch : 16/100 ...Training Acc : 84.479447     Training Loss : 0.345578     Validation Acc : 85.694540     Validation Loss : 0.319259\n",
      "Epoch : 17/100 ...Training Acc : 84.940453     Training Loss : 0.332237     Validation Acc : 86.385625     Validation Loss : 0.301779\n",
      "Epoch : 18/100 ...Training Acc : 83.134844     Training Loss : 0.358193     Validation Acc : 85.418106     Validation Loss : 0.326430\n",
      "Epoch : 19/100 ...Training Acc : 84.902036     Training Loss : 0.332917     Validation Acc : 84.588804     Validation Loss : 0.357965\n",
      "Epoch : 20/100 ...Training Acc : 85.593546     Training Loss : 0.320979     Validation Acc : 86.731168     Validation Loss : 0.316708\n",
      "Epoch : 21/100 ...Training Acc : 86.669228     Training Loss : 0.313251     Validation Acc : 87.698687     Validation Loss : 0.286046\n",
      "Epoch : 22/100 ...Training Acc : 86.189013     Training Loss : 0.310176     Validation Acc : 87.629578     Validation Loss : 0.277023\n",
      "Epoch : 23/100 ...Training Acc : 86.842105     Training Loss : 0.301338     Validation Acc : 88.251555     Validation Loss : 0.274087\n",
      "Epoch : 24/100 ...Training Acc : 86.880522     Training Loss : 0.295674     Validation Acc : 89.702833     Validation Loss : 0.252154\n",
      "Epoch : 25/100 ...Training Acc : 87.668075     Training Loss : 0.288757     Validation Acc : 87.836904     Validation Loss : 0.282859\n",
      "Epoch : 26/100 ...Training Acc : 87.264695     Training Loss : 0.294485     Validation Acc : 87.629578     Validation Loss : 0.318614\n",
      "Epoch : 27/100 ...Training Acc : 88.282751     Training Loss : 0.283368     Validation Acc : 87.836904     Validation Loss : 0.278898\n",
      "Epoch : 28/100 ...Training Acc : 87.764118     Training Loss : 0.283317     Validation Acc : 88.113338     Validation Loss : 0.280815\n",
      "Epoch : 29/100 ...Training Acc : 87.149443     Training Loss : 0.293442     Validation Acc : 90.946786     Validation Loss : 0.245016\n",
      "Epoch : 30/100 ...Training Acc : 88.129082     Training Loss : 0.269250     Validation Acc : 86.247408     Validation Loss : 0.311846\n",
      "Epoch : 31/100 ...Training Acc : 88.705340     Training Loss : 0.260220     Validation Acc : 91.085003     Validation Loss : 0.243710\n",
      "Epoch : 32/100 ...Training Acc : 89.147138     Training Loss : 0.258812     Validation Acc : 90.670352     Validation Loss : 0.236201\n",
      "Epoch : 33/100 ...Training Acc : 89.127929     Training Loss : 0.256516     Validation Acc : 89.702833     Validation Loss : 0.229712\n",
      "Epoch : 34/100 ...Training Acc : 89.262390     Training Loss : 0.253799     Validation Acc : 91.361437     Validation Loss : 0.209127\n",
      "Epoch : 35/100 ...Training Acc : 89.800231     Training Loss : 0.242781     Validation Acc : 89.633725     Validation Loss : 0.238305\n",
      "Epoch : 36/100 ...Training Acc : 88.974260     Training Loss : 0.242833     Validation Acc : 89.979267     Validation Loss : 0.253014\n",
      "Epoch : 37/100 ...Training Acc : 90.242028     Training Loss : 0.236117     Validation Acc : 91.499654     Validation Loss : 0.215583\n",
      "Epoch : 38/100 ...Training Acc : 90.606992     Training Loss : 0.223131     Validation Acc : 89.771942     Validation Loss : 0.228999\n",
      "Epoch : 39/100 ...Training Acc : 90.049942     Training Loss : 0.235523     Validation Acc : 91.637871     Validation Loss : 0.206227\n",
      "Epoch : 40/100 ...Training Acc : 91.106416     Training Loss : 0.214470     Validation Acc : 89.841050     Validation Loss : 0.235119\n",
      "Epoch : 41/100 ...Training Acc : 90.491740     Training Loss : 0.227589     Validation Acc : 88.597097     Validation Loss : 0.284832\n",
      "Epoch : 42/100 ...Training Acc : 90.971955     Training Loss : 0.216519     Validation Acc : 92.121631     Validation Loss : 0.204681\n",
      "Epoch : 43/100 ...Training Acc : 91.529005     Training Loss : 0.207585     Validation Acc : 92.743607     Validation Loss : 0.191913\n",
      "Epoch : 44/100 ...Training Acc : 91.605839     Training Loss : 0.205716     Validation Acc : 91.845197     Validation Loss : 0.206113\n",
      "Epoch : 45/100 ...Training Acc : 91.605839     Training Loss : 0.203788     Validation Acc : 92.536282     Validation Loss : 0.182931\n",
      "Epoch : 46/100 ...Training Acc : 91.164041     Training Loss : 0.212520     Validation Acc : 92.536282     Validation Loss : 0.188172\n",
      "Epoch : 47/100 ...Training Acc : 91.721091     Training Loss : 0.198845     Validation Acc : 92.743607     Validation Loss : 0.190844\n",
      "Epoch : 48/100 ...Training Acc : 91.625048     Training Loss : 0.200290     Validation Acc : 88.735314     Validation Loss : 0.264567\n",
      "Epoch : 49/100 ...Training Acc : 92.316558     Training Loss : 0.189491     Validation Acc : 91.015895     Validation Loss : 0.225324\n",
      "Epoch : 50/100 ...Training Acc : 91.010373     Training Loss : 0.206836     Validation Acc : 92.950933     Validation Loss : 0.182125\n",
      "Epoch : 51/100 ...Training Acc : 92.681521     Training Loss : 0.184954     Validation Acc : 92.398065     Validation Loss : 0.186426\n",
      "Epoch : 52/100 ...Training Acc : 92.643104     Training Loss : 0.180673     Validation Acc : 91.914305     Validation Loss : 0.209218\n",
      "Epoch : 53/100 ...Training Acc : 92.623896     Training Loss : 0.181234     Validation Acc : 93.158258     Validation Loss : 0.184607\n",
      "Epoch : 54/100 ...Training Acc : 92.547061     Training Loss : 0.187533     Validation Acc : 92.674499     Validation Loss : 0.179768\n",
      "Epoch : 55/100 ...Training Acc : 92.201306     Training Loss : 0.189334     Validation Acc : 90.532135     Validation Loss : 0.223713\n",
      "Epoch : 56/100 ...Training Acc : 93.334614     Training Loss : 0.177009     Validation Acc : 91.223220     Validation Loss : 0.212184\n",
      "Epoch : 57/100 ...Training Acc : 93.488283     Training Loss : 0.178663     Validation Acc : 93.296475     Validation Loss : 0.175203\n",
      "Epoch : 58/100 ...Training Acc : 93.238571     Training Loss : 0.174163     Validation Acc : 93.158258     Validation Loss : 0.176622\n",
      "Epoch : 59/100 ...Training Acc : 93.353823     Training Loss : 0.171846     Validation Acc : 94.125777     Validation Loss : 0.161052\n",
      "Epoch : 60/100 ...Training Acc : 93.065693     Training Loss : 0.167220     Validation Acc : 93.572909     Validation Loss : 0.179411\n",
      "Epoch : 61/100 ...Training Acc : 93.353823     Training Loss : 0.167106     Validation Acc : 93.849343     Validation Loss : 0.163552\n",
      "Epoch : 62/100 ...Training Acc : 94.218210     Training Loss : 0.147995     Validation Acc : 93.227367     Validation Loss : 0.181917\n",
      "Epoch : 63/100 ...Training Acc : 92.585478     Training Loss : 0.175839     Validation Acc : 91.845197     Validation Loss : 0.213736\n",
      "Epoch : 64/100 ...Training Acc : 94.141375     Training Loss : 0.156935     Validation Acc : 93.158258     Validation Loss : 0.162461\n",
      "Epoch : 65/100 ...Training Acc : 94.102958     Training Loss : 0.147600     Validation Acc : 92.052522     Validation Loss : 0.194939\n",
      "Epoch : 66/100 ...Training Acc : 94.045332     Training Loss : 0.156541     Validation Acc : 90.601244     Validation Loss : 0.219833\n",
      "Epoch : 67/100 ...Training Acc : 93.718786     Training Loss : 0.162718     Validation Acc : 94.056669     Validation Loss : 0.160754\n",
      "Epoch : 68/100 ...Training Acc : 93.296197     Training Loss : 0.157682     Validation Acc : 93.642018     Validation Loss : 0.177961\n",
      "Epoch : 69/100 ...Training Acc : 94.314253     Training Loss : 0.150491     Validation Acc : 94.402211     Validation Loss : 0.156308\n",
      "Epoch : 70/100 ...Training Acc : 94.179793     Training Loss : 0.144589     Validation Acc : 93.987560     Validation Loss : 0.172161\n",
      "Epoch : 71/100 ...Training Acc : 94.102958     Training Loss : 0.146736     Validation Acc : 94.609537     Validation Loss : 0.145563\n",
      "Epoch : 72/100 ...Training Acc : 94.794468     Training Loss : 0.140224     Validation Acc : 94.955079     Validation Loss : 0.144019\n",
      "Epoch : 73/100 ...Training Acc : 94.525547     Training Loss : 0.144473     Validation Acc : 94.056669     Validation Loss : 0.151174\n",
      "Epoch : 74/100 ...Training Acc : 94.102958     Training Loss : 0.143245     Validation Acc : 93.434692     Validation Loss : 0.164133\n",
      "Epoch : 75/100 ...Training Acc : 94.967345     Training Loss : 0.135535     Validation Acc : 94.125777     Validation Loss : 0.164845\n",
      "Epoch : 76/100 ...Training Acc : 94.122167     Training Loss : 0.149497     Validation Acc : 94.333103     Validation Loss : 0.158572\n",
      "Epoch : 77/100 ...Training Acc : 94.218210     Training Loss : 0.144551     Validation Acc : 93.849343     Validation Loss : 0.155202\n",
      "Epoch : 78/100 ...Training Acc : 94.679216     Training Loss : 0.134367     Validation Acc : 94.609537     Validation Loss : 0.140636\n",
      "Epoch : 79/100 ...Training Acc : 94.563965     Training Loss : 0.142225     Validation Acc : 92.812716     Validation Loss : 0.205450\n",
      "Epoch : 80/100 ...Training Acc : 95.024971     Training Loss : 0.136820     Validation Acc : 94.194886     Validation Loss : 0.142539\n",
      "Epoch : 81/100 ...Training Acc : 95.370726     Training Loss : 0.124682     Validation Acc : 94.125777     Validation Loss : 0.157411\n",
      "Epoch : 82/100 ...Training Acc : 94.141375     Training Loss : 0.141598     Validation Acc : 94.333103     Validation Loss : 0.140604\n",
      "Epoch : 83/100 ...Training Acc : 95.447561     Training Loss : 0.118914     Validation Acc : 94.816862     Validation Loss : 0.148397\n",
      "Epoch : 84/100 ...Training Acc : 95.543604     Training Loss : 0.115360     Validation Acc : 92.674499     Validation Loss : 0.196668\n",
      "Epoch : 85/100 ...Training Acc : 95.159431     Training Loss : 0.130354     Validation Acc : 95.369730     Validation Loss : 0.121623\n",
      "Epoch : 86/100 ...Training Acc : 95.101806     Training Loss : 0.130939     Validation Acc : 92.743607     Validation Loss : 0.171388\n",
      "Epoch : 87/100 ...Training Acc : 95.447561     Training Loss : 0.123213     Validation Acc : 95.369730     Validation Loss : 0.126189\n",
      "Epoch : 88/100 ...Training Acc : 95.063388     Training Loss : 0.122173     Validation Acc : 92.743607     Validation Loss : 0.190296\n",
      "Epoch : 89/100 ...Training Acc : 95.351517     Training Loss : 0.124571     Validation Acc : 95.784381     Validation Loss : 0.122594\n",
      "Epoch : 90/100 ...Training Acc : 95.735690     Training Loss : 0.113790     Validation Acc : 94.056669     Validation Loss : 0.160954\n",
      "Epoch : 91/100 ...Training Acc : 95.313100     Training Loss : 0.127602     Validation Acc : 94.402211     Validation Loss : 0.161209\n",
      "Epoch : 92/100 ...Training Acc : 95.985401     Training Loss : 0.108711     Validation Acc : 94.540428     Validation Loss : 0.138788\n",
      "Epoch : 93/100 ...Training Acc : 95.697272     Training Loss : 0.116983     Validation Acc : 95.024188     Validation Loss : 0.137945\n",
      "Epoch : 94/100 ...Training Acc : 95.063388     Training Loss : 0.127274     Validation Acc : 95.162405     Validation Loss : 0.131592\n",
      "Epoch : 95/100 ...Training Acc : 96.139070     Training Loss : 0.103895     Validation Acc : 95.369730     Validation Loss : 0.128085\n",
      "Epoch : 96/100 ...Training Acc : 95.946984     Training Loss : 0.110625     Validation Acc : 94.678645     Validation Loss : 0.127062\n",
      "Epoch : 97/100 ...Training Acc : 96.004610     Training Loss : 0.105930     Validation Acc : 95.438839     Validation Loss : 0.126240\n",
      "Epoch : 98/100 ...Training Acc : 96.004610     Training Loss : 0.107678     Validation Acc : 95.646164     Validation Loss : 0.118398\n",
      "Epoch : 99/100 ...Training Acc : 96.580868     Training Loss : 0.097139     Validation Acc : 95.300622     Validation Loss : 0.124427\n",
      "Epoch : 100/100 ...Training Acc : 95.850941     Training Loss : 0.106090     Validation Acc : 94.402211     Validation Loss : 0.145493\n"
     ]
    }
   ],
   "source": [
    "train(CNN,train_dl,val_dl,nn.NLLLoss(),optiM,100,device=device)"
   ]
  },
  {
   "cell_type": "code",
   "execution_count": 18,
   "id": "fa3a71d3",
   "metadata": {},
   "outputs": [
    {
     "data": {
      "image/png": "[encoded data removed]",
      "text/plain": [
       "<Figure size 720x504 with 1 Axes>"
      ]
     },
     "metadata": {
      "needs_background": "light"
     },
     "output_type": "display_data"
    }
   ],
   "source": [
    "plt.figure(figsize=(10,7))\n",
    "plt.rcParams.update({'font.size': 16})\n",
    "plt.plot(train_accuracy, label='training accuracy')\n",
    "plt.plot(val_accuracy, label='validation accuracy')\n",
    "plt.title('Accuracy at the end of each epoch for study(i)')\n",
    "plt.legend();"
   ]
  },
  {
   "cell_type": "code",
   "execution_count": 19,
   "id": "ab9aedac",
   "metadata": {},
   "outputs": [
    {
     "data": {
      "image/png": "[encoded data removed]",
      "text/plain": [
       "<Figure size 432x288 with 1 Axes>"
      ]
     },
     "metadata": {
      "needs_background": "light"
     },
     "output_type": "display_data"
    }
   ],
   "source": [
    "plt.plot(train_losses, label='training loss')\n",
    "plt.plot(val_losses, label='validation loss')\n",
    "plt.title('Loss at the end of each epoch')\n",
    "plt.legend();"
   ]
  },
  {
   "cell_type": "code",
   "execution_count": 20,
   "id": "4ced7eee",
   "metadata": {},
   "outputs": [],
   "source": [
    "test_losses = []\n",
    "test_accuracy = []"
   ]
  },
  {
   "cell_type": "code",
   "execution_count": 21,
   "id": "6d4e2f37",
   "metadata": {},
   "outputs": [],
   "source": [
    "def test(model,test_loader,loss_fn,n_epochs,device=device):\n",
    "    test_loss = 0\n",
    "    test_corr = 0\n",
    "    totals = 0\n",
    "    y_pred = []\n",
    "    y_true = []\n",
    "    model.eval()\n",
    "    for epoch in range(n_epochs):\n",
    "        with torch.no_grad():\n",
    "            for data in test_loader:\n",
    "                input ,target = data\n",
    "                input = input.to(device)\n",
    "                target = target.to(device)\n",
    "                output = model(input)\n",
    "                loss = loss_fn(output,target)\n",
    "                test_loss += loss.item()*target.size(0)\n",
    "                totals += target.size(0)\n",
    "                predicted = torch.argmax(output,1)\n",
    "                test_corr = (predicted==target).sum().item()\n",
    "                y_true.append(target)\n",
    "                y_pred.append(predicted)\n",
    "\n",
    "        test_loss = test_loss/totals\n",
    "        test_acc = test_corr/totals*100\n",
    "        test_losses.append(test_loss)\n",
    "        test_accuracy.append(test_acc)\n",
    "        print('----------------------------------------------------------------------------')\n",
    "        print('Y_true:{}'.format(y_true))\n",
    "        print('----------------------------------------------------------------------------')\n",
    "        print('Y_pred:{}'.format(y_pred))\n",
    "\n",
    "    "
   ]
  },
  {
   "cell_type": "code",
   "execution_count": 22,
   "id": "804000cf",
   "metadata": {},
   "outputs": [
    {
     "name": "stdout",
     "output_type": "stream",
     "text": [
      "----------------------------------------------------------------------------\n",
      "Y_true:[tensor([1, 1, 0, 0, 1, 0, 0, 1, 0, 1, 1, 0, 0, 1, 0, 1, 1, 1, 1, 1, 0, 1, 0, 1,\n",
      "        0, 1, 1, 1, 1, 1, 1, 1, 0, 0, 0, 0, 0, 1, 0, 0, 1, 0, 0, 1, 1, 0, 0, 1,\n",
      "        1, 1, 1, 1, 0, 1, 1, 1, 0, 1, 1, 1, 1, 0, 0, 0], device='cuda:0'), tensor([1, 0, 1, 1, 0, 1, 1, 1, 1, 0, 0, 0, 1, 0, 0, 1, 0, 1, 0, 1, 1, 1, 1, 1,\n",
      "        1, 1, 1, 0, 0, 0, 0, 1, 1, 1, 1, 1, 1, 0, 0, 1, 0, 0, 0, 0, 0, 1, 1, 0,\n",
      "        0, 0, 0, 0, 0, 0, 0, 1, 1, 1, 1, 1, 0, 0, 1, 1], device='cuda:0'), tensor([0, 0, 0, 0, 0, 0, 1, 1, 0, 0, 1, 0, 1, 1, 0, 0, 1, 0, 0, 1, 1, 0, 0, 0,\n",
      "        1, 0, 1, 0, 0, 1, 0, 0, 1, 1, 0, 1, 0, 0, 0, 1, 0, 0, 1, 1, 1, 1, 1, 1,\n",
      "        0, 0, 0, 1, 0, 1, 1, 0, 1, 1, 0, 1, 1, 0, 0, 1], device='cuda:0'), tensor([0, 0, 1, 0, 1, 0, 0, 0, 1, 1, 0, 1, 1, 0, 0, 0, 0, 1, 0, 1, 1, 1, 0, 1,\n",
      "        0, 1, 1, 0, 1, 1, 1, 1, 1, 0, 1, 1, 1, 1, 0, 0, 0, 1, 1, 0, 0, 0, 1, 1,\n",
      "        0, 1, 1, 1, 0, 1, 0, 0, 0, 0, 0, 0, 0, 1, 1, 1], device='cuda:0'), tensor([0, 1, 0, 1, 1, 1, 0, 0, 1, 1, 0, 1, 1, 0, 0, 1, 1, 0, 0, 0, 0, 1, 0, 0,\n",
      "        0, 0, 1, 0, 0, 1, 0, 1, 0, 0, 0, 0, 0, 0, 1, 0, 1, 0, 1, 1, 1, 0, 0, 0,\n",
      "        0, 0, 1, 1, 1, 1, 1, 1, 1, 0, 1, 1, 0, 0, 0, 1], device='cuda:0'), tensor([1, 0, 0, 1, 1, 0, 1, 0, 1, 1, 1, 0, 1, 0, 1, 0, 0, 1, 0, 1, 1, 0, 0, 0,\n",
      "        1, 1, 1, 1, 1, 0, 0, 0, 0, 1, 1, 1, 1, 1, 1, 0, 1, 0, 0, 1, 0, 1, 1, 1,\n",
      "        1, 1, 0, 0, 0, 1, 0, 0, 0, 0, 1, 0, 1, 1, 1, 1], device='cuda:0'), tensor([1, 0, 1, 1, 0, 1, 1, 1, 1, 0, 0, 0, 0, 0, 1, 1, 0, 1, 1, 1, 0, 1, 1, 0,\n",
      "        1, 1, 0, 0, 0, 1, 0, 1, 1, 0, 0, 0, 1, 0, 0, 0, 1, 0, 0, 1, 0, 1, 0, 1,\n",
      "        0, 1, 1, 0, 0, 1, 1, 0, 1, 1, 0, 0, 0, 0, 1, 0], device='cuda:0'), tensor([0, 1, 0, 0, 1, 0, 0, 0, 0, 1, 0, 0, 0, 1, 0, 0, 0, 1, 1, 0, 0, 1, 1, 0,\n",
      "        1, 1, 0, 1, 1, 1, 0, 0, 1, 1, 0, 1, 1, 0, 0, 1, 1, 1, 1, 0, 0, 0, 0, 0,\n",
      "        0, 0, 0, 0, 0, 0, 0, 1, 1, 0, 1, 1, 1, 0, 0, 0], device='cuda:0'), tensor([1, 1, 1, 0, 1, 0, 1, 0, 0, 0, 0, 1, 1, 1, 0, 1, 0, 1, 1, 0, 1, 1, 1, 1,\n",
      "        1, 0, 0, 1, 1, 1, 1, 1, 1, 1, 0, 0, 0, 0, 0, 0, 1, 0, 1, 1, 0, 0, 0, 1,\n",
      "        1, 1, 1, 0, 1, 0, 0, 1, 1, 0, 1, 0, 1, 1, 1, 1], device='cuda:0'), tensor([1, 1, 0], device='cuda:0')]\n",
      "----------------------------------------------------------------------------\n",
      "Y_pred:[tensor([1, 1, 0, 0, 1, 0, 0, 1, 0, 1, 1, 0, 0, 0, 0, 1, 0, 1, 1, 1, 0, 1, 0, 1,\n",
      "        0, 1, 1, 1, 1, 1, 1, 1, 0, 0, 0, 0, 0, 1, 0, 0, 1, 0, 0, 1, 1, 0, 0, 0,\n",
      "        1, 1, 1, 1, 0, 1, 1, 1, 0, 1, 1, 1, 1, 0, 0, 0], device='cuda:0'), tensor([1, 0, 0, 1, 0, 1, 1, 1, 1, 0, 0, 0, 1, 0, 0, 1, 0, 1, 0, 1, 1, 1, 1, 1,\n",
      "        1, 1, 1, 0, 0, 0, 0, 1, 1, 1, 1, 1, 1, 0, 0, 1, 0, 0, 0, 0, 0, 1, 1, 0,\n",
      "        0, 0, 0, 0, 0, 0, 0, 1, 1, 1, 1, 0, 0, 1, 1, 1], device='cuda:0'), tensor([0, 0, 0, 0, 0, 0, 1, 1, 0, 0, 1, 0, 1, 1, 0, 0, 1, 0, 0, 1, 1, 0, 0, 0,\n",
      "        1, 0, 1, 0, 0, 1, 0, 0, 1, 1, 0, 1, 0, 1, 0, 1, 0, 0, 1, 1, 1, 1, 0, 1,\n",
      "        0, 0, 0, 1, 0, 1, 1, 0, 1, 1, 0, 1, 1, 0, 0, 1], device='cuda:0'), tensor([0, 0, 0, 0, 1, 0, 0, 0, 1, 1, 0, 1, 1, 1, 0, 0, 0, 1, 0, 1, 1, 1, 0, 1,\n",
      "        0, 1, 1, 0, 1, 1, 1, 1, 1, 0, 1, 1, 1, 1, 0, 0, 1, 1, 1, 0, 1, 0, 1, 1,\n",
      "        0, 1, 1, 1, 0, 1, 0, 0, 0, 0, 0, 0, 0, 1, 1, 1], device='cuda:0'), tensor([0, 1, 0, 1, 1, 1, 0, 1, 1, 1, 1, 1, 1, 0, 0, 0, 1, 0, 0, 0, 0, 0, 0, 1,\n",
      "        0, 0, 1, 0, 0, 1, 0, 1, 0, 0, 0, 0, 1, 0, 1, 0, 1, 0, 1, 0, 1, 0, 0, 0,\n",
      "        0, 0, 1, 1, 1, 1, 1, 0, 1, 0, 1, 1, 0, 0, 0, 1], device='cuda:0'), tensor([1, 0, 0, 1, 1, 0, 1, 0, 1, 1, 1, 0, 1, 0, 1, 0, 0, 1, 1, 1, 1, 0, 0, 0,\n",
      "        1, 1, 1, 1, 1, 0, 0, 0, 0, 1, 1, 1, 1, 1, 1, 0, 1, 0, 0, 1, 0, 1, 1, 1,\n",
      "        1, 1, 0, 0, 0, 1, 0, 0, 0, 0, 1, 0, 1, 1, 0, 1], device='cuda:0'), tensor([1, 0, 1, 1, 0, 1, 0, 1, 1, 0, 0, 0, 0, 0, 1, 1, 0, 0, 1, 1, 0, 1, 1, 0,\n",
      "        1, 1, 0, 0, 0, 1, 0, 1, 1, 0, 0, 0, 1, 0, 0, 0, 1, 0, 0, 1, 0, 1, 0, 1,\n",
      "        0, 1, 1, 0, 1, 1, 1, 0, 1, 1, 0, 0, 0, 0, 1, 0], device='cuda:0'), tensor([0, 1, 1, 0, 1, 0, 0, 0, 0, 1, 0, 0, 0, 1, 0, 0, 0, 1, 1, 0, 0, 1, 1, 0,\n",
      "        1, 1, 0, 1, 1, 1, 0, 0, 0, 1, 0, 1, 1, 0, 0, 1, 1, 1, 0, 0, 0, 0, 0, 1,\n",
      "        0, 0, 0, 0, 1, 0, 0, 1, 1, 1, 1, 1, 1, 0, 0, 0], device='cuda:0'), tensor([1, 1, 1, 0, 1, 0, 1, 0, 0, 0, 0, 1, 1, 1, 0, 1, 0, 1, 1, 0, 1, 1, 1, 1,\n",
      "        1, 0, 0, 0, 1, 1, 1, 1, 1, 1, 0, 0, 0, 0, 0, 0, 1, 0, 1, 1, 0, 0, 0, 1,\n",
      "        1, 1, 1, 0, 1, 0, 0, 1, 1, 0, 1, 0, 1, 1, 1, 1], device='cuda:0'), tensor([1, 1, 0], device='cuda:0')]\n"
     ]
    }
   ],
   "source": [
    "test(CNN,test_dl,nn.NLLLoss(),1,device=device)"
   ]
  },
  {
   "cell_type": "code",
   "execution_count": 23,
   "id": "7e8b9efe",
   "metadata": {},
   "outputs": [],
   "source": [
    "y_true = [1, 1, 0, 0, 1, 0, 0, 1, 0, 1, 1, 0, 0, 1, 0, 1, 1, 1, 1, 1, 0, 1, 0, 1,\n",
    "        0, 1, 1, 1, 1, 1, 1, 1, 0, 0, 0, 0, 0, 1, 0, 0, 1, 0, 0, 1, 1, 0, 0, 1,\n",
    "        1, 1, 1, 1, 0, 1, 1, 1, 0, 1, 1, 1, 1, 0, 0, 0,1, 0, 1, 1, 0, 1, 1, 1, 1, 0, 0, 0, 1, 0, 0, 1, 0, 1, 0, 1, 1, 1, 1, 1,\n",
    "        1, 1, 1, 0, 0, 0, 0, 1, 1, 1, 1, 1, 1, 0, 0, 1, 0, 0, 0, 0, 0, 1, 1, 0,\n",
    "        0, 0, 0, 0, 0, 0, 0, 1, 1, 1, 1, 1, 0, 0, 1, 1,0, 0, 0, 0, 0, 0, 1, 1, 0, 0, 1, 0, 1, 1, 0, 0, 1, 0, 0, 1, 1, 0, 0, 0,\n",
    "        1, 0, 1, 0, 0, 1, 0, 0, 1, 1, 0, 1, 0, 0, 0, 1, 0, 0, 1, 1, 1, 1, 1, 1,\n",
    "        0, 0, 0, 1, 0, 1, 1, 0, 1, 1, 0, 1, 1, 0, 0, 1,0, 0, 1, 0, 1, 0, 0, 0, 1, 1, 0, 1, 1, 0, 0, 0, 0, 1, 0, 1, 1, 1, 0, 1,\n",
    "        0, 1, 1, 0, 1, 1, 1, 1, 1, 0, 1, 1, 1, 1, 0, 0, 0, 1, 1, 0, 0, 0, 1, 1,\n",
    "        0, 1, 1, 1, 0, 1, 0, 0, 0, 0, 0, 0, 0, 1, 1, 1,0, 1, 0, 1, 1, 1, 0, 0, 1, 1, 0, 1, 1, 0, 0, 1, 1, 0, 0, 0, 0, 1, 0, 0,\n",
    "        0, 0, 1, 0, 0, 1, 0, 1, 0, 0, 0, 0, 0, 0, 1, 0, 1, 0, 1, 1, 1, 0, 0, 0,\n",
    "        0, 0, 1, 1, 1, 1, 1, 1, 1, 0, 1, 1, 0, 0, 0, 1,1, 0, 0, 1, 1, 0, 1, 0, 1, 1, 1, 0, 1, 0, 1, 0, 0, 1, 0, 1, 1, 0, 0, 0,\n",
    "        1, 1, 1, 1, 1, 0, 0, 0, 0, 1, 1, 1, 1, 1, 1, 0, 1, 0, 0, 1, 0, 1, 1, 1,\n",
    "        1, 1, 0, 0, 0, 1, 0, 0, 0, 0, 1, 0, 1, 1, 1, 1,1, 0, 1, 1, 0, 1, 1, 1, 1, 0, 0, 0, 0, 0, 1, 1, 0, 1, 1, 1, 0, 1, 1, 0,\n",
    "        1, 1, 0, 0, 0, 1, 0, 1, 1, 0, 0, 0, 1, 0, 0, 0, 1, 0, 0, 1, 0, 1, 0, 1,\n",
    "        0, 1, 1, 0, 0, 1, 1, 0, 1, 1, 0, 0, 0, 0, 1, 0,0, 1, 0, 0, 1, 0, 0, 0, 0, 1, 0, 0, 0, 1, 0, 0, 0, 1, 1, 0, 0, 1, 1, 0,\n",
    "        1, 1, 0, 1, 1, 1, 0, 0, 1, 1, 0, 1, 1, 0, 0, 1, 1, 1, 1, 0, 0, 0, 0, 0,\n",
    "        0, 0, 0, 0, 0, 0, 0, 1, 1, 0, 1, 1, 1, 0, 0, 0,1, 1, 1, 0, 1, 0, 1, 0, 0, 0, 0, 1, 1, 1, 0, 1, 0, 1, 1, 0, 1, 1, 1, 1,\n",
    "        1, 0, 0, 1, 1, 1, 1, 1, 1, 1, 0, 0, 0, 0, 0, 0, 1, 0, 1, 1, 0, 0, 0, 1,\n",
    "        1, 1, 1, 0, 1, 0, 0, 1, 1, 0, 1, 0, 1, 1, 1, 1,1, 1, 0]"
   ]
  },
  {
   "cell_type": "code",
   "execution_count": 24,
   "id": "74549814",
   "metadata": {},
   "outputs": [],
   "source": [
    "y_pred = [1, 1, 0, 0, 1, 0, 0, 1, 0, 1, 1, 0, 0, 0, 0, 1, 0, 1, 1, 1, 0, 1, 0, 1,\n",
    "        0, 1, 1, 1, 1, 1, 1, 1, 0, 0, 0, 0, 0, 1, 0, 0, 1, 0, 0, 1, 1, 0, 0, 0,\n",
    "        1, 1, 1, 1, 0, 1, 1, 1, 0, 1, 1, 1, 1, 0, 0, 0,1, 0, 0, 1, 0, 1, 1, 1, 1, 0, 0, 0, 1, 0, 0, 1, 0, 1, 0, 1, 1, 1, 1, 1,\n",
    "        1, 1, 1, 0, 0, 0, 0, 1, 1, 1, 1, 1, 1, 0, 0, 1, 0, 0, 0, 0, 0, 1, 1, 0,\n",
    "        0, 0, 0, 0, 0, 0, 0, 1, 1, 1, 1, 0, 0, 1, 1, 1,0, 0, 0, 0, 0, 0, 1, 1, 0, 0, 1, 0, 1, 1, 0, 0, 1, 0, 0, 1, 1, 0, 0, 0,\n",
    "        1, 0, 1, 0, 0, 1, 0, 0, 1, 1, 0, 1, 0, 1, 0, 1, 0, 0, 1, 1, 1, 1, 0, 1,\n",
    "        0, 0, 0, 1, 0, 1, 1, 0, 1, 1, 0, 1, 1, 0, 0, 1,0, 0, 0, 0, 1, 0, 0, 0, 1, 1, 0, 1, 1, 1, 0, 0, 0, 1, 0, 1, 1, 1, 0, 1,\n",
    "        0, 1, 1, 0, 1, 1, 1, 1, 1, 0, 1, 1, 1, 1, 0, 0, 1, 1, 1, 0, 1, 0, 1, 1,\n",
    "        0, 1, 1, 1, 0, 1, 0, 0, 0, 0, 0, 0, 0, 1, 1, 1,0, 1, 0, 1, 1, 1, 0, 1, 1, 1, 1, 1, 1, 0, 0, 0, 1, 0, 0, 0, 0, 0, 0, 1,\n",
    "        0, 0, 1, 0, 0, 1, 0, 1, 0, 0, 0, 0, 1, 0, 1, 0, 1, 0, 1, 0, 1, 0, 0, 0,\n",
    "        0, 0, 1, 1, 1, 1, 1, 0, 1, 0, 1, 1, 0, 0, 0, 1,1, 0, 0, 1, 1, 0, 1, 0, 1, 1, 1, 0, 1, 0, 1, 0, 0, 1, 1, 1, 1, 0, 0, 0,\n",
    "        1, 1, 1, 1, 1, 0, 0, 0, 0, 1, 1, 1, 1, 1, 1, 0, 1, 0, 0, 1, 0, 1, 1, 1,\n",
    "        1, 1, 0, 0, 0, 1, 0, 0, 0, 0, 1, 0, 1, 1, 0, 1,1, 0, 1, 1, 0, 1, 0, 1, 1, 0, 0, 0, 0, 0, 1, 1, 0, 0, 1, 1, 0, 1, 1, 0,\n",
    "        1, 1, 0, 0, 0, 1, 0, 1, 1, 0, 0, 0, 1, 0, 0, 0, 1, 0, 0, 1, 0, 1, 0, 1,\n",
    "        0, 1, 1, 0, 1, 1, 1, 0, 1, 1, 0, 0, 0, 0, 1, 0,0, 1, 1, 0, 1, 0, 0, 0, 0, 1, 0, 0, 0, 1, 0, 0, 0, 1, 1, 0, 0, 1, 1, 0,\n",
    "        1, 1, 0, 1, 1, 1, 0, 0, 0, 1, 0, 1, 1, 0, 0, 1, 1, 1, 0, 0, 0, 0, 0, 1,\n",
    "        0, 0, 0, 0, 1, 0, 0, 1, 1, 1, 1, 1, 1, 0, 0, 0,1, 1, 1, 0, 1, 0, 1, 0, 0, 0, 0, 1, 1, 1, 0, 1, 0, 1, 1, 0, 1, 1, 1, 1,\n",
    "        1, 0, 0, 0, 1, 1, 1, 1, 1, 1, 0, 0, 0, 0, 0, 0, 1, 0, 1, 1, 0, 0, 0, 1,\n",
    "        1, 1, 1, 0, 1, 0, 0, 1, 1, 0, 1, 0, 1, 1, 1, 1,1, 1, 0]"
   ]
  },
  {
   "cell_type": "code",
   "execution_count": 25,
   "id": "0fa64db1",
   "metadata": {},
   "outputs": [
    {
     "name": "stdout",
     "output_type": "stream",
     "text": [
      "Accuracy : 94.47322970639033\n",
      "F1 Score : 94.55782312925169\n",
      "Sensitivity : 94.23728813559322\n",
      "Precision : 94.88054607508532\n"
     ]
    }
   ],
   "source": [
    "from sklearn.metrics import accuracy_score, f1_score, recall_score, precision_score, classification_report\n",
    "print('Accuracy : {}'.format(accuracy_score(y_true,y_pred)*100))\n",
    "print('F1 Score : {}'.format(f1_score(y_true,y_pred)*100))\n",
    "print('Sensitivity : {}'.format(recall_score(y_true,y_pred)*100))\n",
    "print('Precision : {}'.format(precision_score(y_true,y_pred)*100))"
   ]
  },
  {
   "cell_type": "markdown",
   "id": "5285759f-4a25-4a1c-8d7c-b6c823e0fbda",
   "metadata": {},
   "source": [
    "## 00:57-3:09"
   ]
  },
  {
   "cell_type": "code",
   "execution_count": null,
   "id": "103ca2b7",
   "metadata": {},
   "outputs": [],
   "source": []
  }
 ],
 "metadata": {
  "kernelspec": {
   "display_name": "Python 3 (ipykernel)",
   "language": "python",
   "name": "python3"
  },
  "language_info": {
   "codemirror_mode": {
    "name": "ipython",
    "version": 3
   },
   "file_extension": ".py",
   "mimetype": "text/x-python",
   "name": "python",
   "nbconvert_exporter": "python",
   "pygments_lexer": "ipython3",
   "version": "3.8.10"
  }
 },
 "nbformat": 4,
 "nbformat_minor": 5
}
